{
 "cells": [
  {
   "cell_type": "markdown",
   "id": "cbad41b6",
   "metadata": {},
   "source": [
    "# 3 Levels for Exploring Data \n",
    "\n",
    "* Level 0 : Getting Started\n",
    "* Level 1 : Univariate Analysis\n",
    "* Level 2 : Bi-Variate Analysis\n",
    "* Lever 3 : Multivariate Analysis and asking questions from the data"
   ]
  },
  {
   "cell_type": "markdown",
   "id": "83c50e54",
   "metadata": {},
   "source": [
    "## Level 0 Tasks (Getting Started) \n",
    "\n",
    "1.Visually inspect the first few and last few rows of the data \\\n",
    "2.Check the shape of the data frame \\\n",
    "3.Check the count of null values in each column \\\n",
    "4.Inspect all the column names and cross check with the data dictionary \\\n",
    "5.Check the information of the data frame using the info() function "
   ]
  },
  {
   "cell_type": "markdown",
   "id": "62d1b75f",
   "metadata": {},
   "source": [
    "# Importing the necessary libraries "
   ]
  },
  {
   "cell_type": "code",
   "execution_count": 1,
   "id": "e39e4c73",
   "metadata": {},
   "outputs": [],
   "source": [
    "import matplotlib.pyplot as plt             # to visualize\n",
    "from tabulate import tabulate               # to print the table\n",
    "import matplotlib as mat                    # to visualize \n",
    "import seaborn as sns                       # to visualize\n",
    "import pandas as pd                         # for data reading\n",
    "import numpy as np                          # for numerical computation"
   ]
  },
  {
   "cell_type": "code",
   "execution_count": 2,
   "id": "6513cfb6",
   "metadata": {},
   "outputs": [
    {
     "name": "stdout",
     "output_type": "stream",
     "text": [
      "Pandas version:  1.2.4\n",
      "Seaborn version:  0.11.1\n",
      "Matplotlib version:  3.3.4\n"
     ]
    }
   ],
   "source": [
    "# Checking the library versions \n",
    "print(\"Pandas version: \",pd.__version__)\n",
    "print(\"Seaborn version: \",sns.__version__)\n",
    "print(\"Matplotlib version: \",mat.__version__)"
   ]
  },
  {
   "cell_type": "code",
   "execution_count": 3,
   "id": "e72c9d11",
   "metadata": {},
   "outputs": [],
   "source": [
    "# Ensure that the data file is in the current working directory as that of the Jupyter notebook\n",
    "\n",
    "df = pd.read_csv(\"data.csv\") # read_csv: inbuilt function of pandas to read files "
   ]
  },
  {
   "cell_type": "markdown",
   "id": "d3ba5a85",
   "metadata": {},
   "source": [
    "# Level 0 analysis (Getting Started)"
   ]
  },
  {
   "cell_type": "markdown",
   "id": "409d8a6a",
   "metadata": {},
   "source": [
    "# Reading the top 5 rows "
   ]
  },
  {
   "cell_type": "code",
   "execution_count": 121,
   "id": "1c6a1e3c",
   "metadata": {},
   "outputs": [
    {
     "data": {
      "text/html": [
       "<div>\n",
       "<style scoped>\n",
       "    .dataframe tbody tr th:only-of-type {\n",
       "        vertical-align: middle;\n",
       "    }\n",
       "\n",
       "    .dataframe tbody tr th {\n",
       "        vertical-align: top;\n",
       "    }\n",
       "\n",
       "    .dataframe thead th {\n",
       "        text-align: right;\n",
       "    }\n",
       "</style>\n",
       "<table border=\"1\" class=\"dataframe\">\n",
       "  <thead>\n",
       "    <tr style=\"text-align: right;\">\n",
       "      <th></th>\n",
       "      <th>CLIENTNUM</th>\n",
       "      <th>Attrition_Flag</th>\n",
       "      <th>Customer_Age</th>\n",
       "      <th>Gender</th>\n",
       "      <th>Dependent_count</th>\n",
       "      <th>Education_Level</th>\n",
       "      <th>Marital_Status</th>\n",
       "      <th>Income_Category</th>\n",
       "      <th>Card_Category</th>\n",
       "      <th>Months_on_book</th>\n",
       "      <th>Total_Relationship_Count</th>\n",
       "      <th>Months_Inactive_12_mon</th>\n",
       "      <th>Contacts_Count_12_mon</th>\n",
       "      <th>Credit_Limit</th>\n",
       "      <th>Total_Revolving_Bal</th>\n",
       "      <th>Avg_Open_To_Buy</th>\n",
       "      <th>Total_Trans_Amt</th>\n",
       "      <th>Total_Trans_Ct</th>\n",
       "      <th>Avg_Utilization_Ratio</th>\n",
       "    </tr>\n",
       "  </thead>\n",
       "  <tbody>\n",
       "    <tr>\n",
       "      <th>0</th>\n",
       "      <td>768805383</td>\n",
       "      <td>Existing Customer</td>\n",
       "      <td>45</td>\n",
       "      <td>M</td>\n",
       "      <td>3</td>\n",
       "      <td>High School</td>\n",
       "      <td>Married</td>\n",
       "      <td>$60K - $80K</td>\n",
       "      <td>Blue</td>\n",
       "      <td>39</td>\n",
       "      <td>5</td>\n",
       "      <td>1</td>\n",
       "      <td>3</td>\n",
       "      <td>12691.0</td>\n",
       "      <td>777</td>\n",
       "      <td>11914.0</td>\n",
       "      <td>1144</td>\n",
       "      <td>42</td>\n",
       "      <td>0.061</td>\n",
       "    </tr>\n",
       "    <tr>\n",
       "      <th>1</th>\n",
       "      <td>818770008</td>\n",
       "      <td>Existing Customer</td>\n",
       "      <td>49</td>\n",
       "      <td>F</td>\n",
       "      <td>5</td>\n",
       "      <td>Graduate</td>\n",
       "      <td>Single</td>\n",
       "      <td>Less than $40K</td>\n",
       "      <td>Blue</td>\n",
       "      <td>44</td>\n",
       "      <td>6</td>\n",
       "      <td>1</td>\n",
       "      <td>2</td>\n",
       "      <td>8256.0</td>\n",
       "      <td>864</td>\n",
       "      <td>7392.0</td>\n",
       "      <td>1291</td>\n",
       "      <td>33</td>\n",
       "      <td>0.105</td>\n",
       "    </tr>\n",
       "    <tr>\n",
       "      <th>2</th>\n",
       "      <td>713982108</td>\n",
       "      <td>Existing Customer</td>\n",
       "      <td>51</td>\n",
       "      <td>M</td>\n",
       "      <td>3</td>\n",
       "      <td>Graduate</td>\n",
       "      <td>Married</td>\n",
       "      <td>$80K - $120K</td>\n",
       "      <td>Blue</td>\n",
       "      <td>36</td>\n",
       "      <td>4</td>\n",
       "      <td>1</td>\n",
       "      <td>0</td>\n",
       "      <td>3418.0</td>\n",
       "      <td>0</td>\n",
       "      <td>3418.0</td>\n",
       "      <td>1887</td>\n",
       "      <td>20</td>\n",
       "      <td>0.000</td>\n",
       "    </tr>\n",
       "    <tr>\n",
       "      <th>3</th>\n",
       "      <td>769911858</td>\n",
       "      <td>Existing Customer</td>\n",
       "      <td>40</td>\n",
       "      <td>F</td>\n",
       "      <td>4</td>\n",
       "      <td>High School</td>\n",
       "      <td>Unknown</td>\n",
       "      <td>Less than $40K</td>\n",
       "      <td>Blue</td>\n",
       "      <td>34</td>\n",
       "      <td>3</td>\n",
       "      <td>4</td>\n",
       "      <td>1</td>\n",
       "      <td>3313.0</td>\n",
       "      <td>2517</td>\n",
       "      <td>796.0</td>\n",
       "      <td>1171</td>\n",
       "      <td>20</td>\n",
       "      <td>0.760</td>\n",
       "    </tr>\n",
       "    <tr>\n",
       "      <th>4</th>\n",
       "      <td>709106358</td>\n",
       "      <td>Existing Customer</td>\n",
       "      <td>40</td>\n",
       "      <td>M</td>\n",
       "      <td>3</td>\n",
       "      <td>Uneducated</td>\n",
       "      <td>Married</td>\n",
       "      <td>$60K - $80K</td>\n",
       "      <td>Blue</td>\n",
       "      <td>21</td>\n",
       "      <td>5</td>\n",
       "      <td>1</td>\n",
       "      <td>0</td>\n",
       "      <td>4716.0</td>\n",
       "      <td>0</td>\n",
       "      <td>4716.0</td>\n",
       "      <td>816</td>\n",
       "      <td>28</td>\n",
       "      <td>0.000</td>\n",
       "    </tr>\n",
       "  </tbody>\n",
       "</table>\n",
       "</div>"
      ],
      "text/plain": [
       "   CLIENTNUM     Attrition_Flag  Customer_Age Gender  Dependent_count  \\\n",
       "0  768805383  Existing Customer            45      M                3   \n",
       "1  818770008  Existing Customer            49      F                5   \n",
       "2  713982108  Existing Customer            51      M                3   \n",
       "3  769911858  Existing Customer            40      F                4   \n",
       "4  709106358  Existing Customer            40      M                3   \n",
       "\n",
       "  Education_Level Marital_Status Income_Category Card_Category  \\\n",
       "0     High School        Married     $60K - $80K          Blue   \n",
       "1        Graduate         Single  Less than $40K          Blue   \n",
       "2        Graduate        Married    $80K - $120K          Blue   \n",
       "3     High School        Unknown  Less than $40K          Blue   \n",
       "4      Uneducated        Married     $60K - $80K          Blue   \n",
       "\n",
       "   Months_on_book  Total_Relationship_Count  Months_Inactive_12_mon  \\\n",
       "0              39                         5                       1   \n",
       "1              44                         6                       1   \n",
       "2              36                         4                       1   \n",
       "3              34                         3                       4   \n",
       "4              21                         5                       1   \n",
       "\n",
       "   Contacts_Count_12_mon  Credit_Limit  Total_Revolving_Bal  Avg_Open_To_Buy  \\\n",
       "0                      3       12691.0                  777          11914.0   \n",
       "1                      2        8256.0                  864           7392.0   \n",
       "2                      0        3418.0                    0           3418.0   \n",
       "3                      1        3313.0                 2517            796.0   \n",
       "4                      0        4716.0                    0           4716.0   \n",
       "\n",
       "   Total_Trans_Amt  Total_Trans_Ct  Avg_Utilization_Ratio  \n",
       "0             1144              42                  0.061  \n",
       "1             1291              33                  0.105  \n",
       "2             1887              20                  0.000  \n",
       "3             1171              20                  0.760  \n",
       "4              816              28                  0.000  "
      ]
     },
     "execution_count": 121,
     "metadata": {},
     "output_type": "execute_result"
    }
   ],
   "source": [
    "df.head() # head prints the top 5 rows "
   ]
  },
  {
   "cell_type": "markdown",
   "id": "cbb1ee3b",
   "metadata": {},
   "source": [
    "# Reading the bottom 5 rows"
   ]
  },
  {
   "cell_type": "markdown",
   "id": "b48356c5",
   "metadata": {},
   "source": [
    "df.tail() # tail returns the bottom 5 rows"
   ]
  },
  {
   "cell_type": "markdown",
   "id": "38e10a3a",
   "metadata": {},
   "source": [
    "#  Number of rows and columns "
   ]
  },
  {
   "cell_type": "code",
   "execution_count": 122,
   "id": "590b4eea",
   "metadata": {},
   "outputs": [
    {
     "name": "stdout",
     "output_type": "stream",
     "text": [
      "(10127, 19)\n"
     ]
    }
   ],
   "source": [
    "print(df.shape) #returns a tuple with the details number of rows and columns "
   ]
  },
  {
   "cell_type": "markdown",
   "id": "7c58bc1a",
   "metadata": {},
   "source": [
    "# Display the names of all the columns"
   ]
  },
  {
   "cell_type": "code",
   "execution_count": 123,
   "id": "0d9fa99f",
   "metadata": {},
   "outputs": [
    {
     "name": "stdout",
     "output_type": "stream",
     "text": [
      "Index(['CLIENTNUM', 'Attrition_Flag', 'Customer_Age', 'Gender',\n",
      "       'Dependent_count', 'Education_Level', 'Marital_Status',\n",
      "       'Income_Category', 'Card_Category', 'Months_on_book',\n",
      "       'Total_Relationship_Count', 'Months_Inactive_12_mon',\n",
      "       'Contacts_Count_12_mon', 'Credit_Limit', 'Total_Revolving_Bal',\n",
      "       'Avg_Open_To_Buy', 'Total_Trans_Amt', 'Total_Trans_Ct',\n",
      "       'Avg_Utilization_Ratio'],\n",
      "      dtype='object')\n"
     ]
    }
   ],
   "source": [
    "print(df.columns) # returns array of columns in dataset "
   ]
  },
  {
   "cell_type": "markdown",
   "id": "5fcd6cf3",
   "metadata": {},
   "source": [
    "# Displaying the dataset information"
   ]
  },
  {
   "cell_type": "code",
   "execution_count": 124,
   "id": "9d1ec7b2",
   "metadata": {},
   "outputs": [
    {
     "name": "stdout",
     "output_type": "stream",
     "text": [
      "<class 'pandas.core.frame.DataFrame'>\n",
      "RangeIndex: 10127 entries, 0 to 10126\n",
      "Data columns (total 19 columns):\n",
      " #   Column                    Non-Null Count  Dtype  \n",
      "---  ------                    --------------  -----  \n",
      " 0   CLIENTNUM                 10127 non-null  int64  \n",
      " 1   Attrition_Flag            10127 non-null  object \n",
      " 2   Customer_Age              10127 non-null  int64  \n",
      " 3   Gender                    10034 non-null  object \n",
      " 4   Dependent_count           10127 non-null  int64  \n",
      " 5   Education_Level           10127 non-null  object \n",
      " 6   Marital_Status            10127 non-null  object \n",
      " 7   Income_Category           10127 non-null  object \n",
      " 8   Card_Category             9995 non-null   object \n",
      " 9   Months_on_book            10127 non-null  int64  \n",
      " 10  Total_Relationship_Count  10127 non-null  int64  \n",
      " 11  Months_Inactive_12_mon    10127 non-null  int64  \n",
      " 12  Contacts_Count_12_mon     10127 non-null  int64  \n",
      " 13  Credit_Limit              10067 non-null  float64\n",
      " 14  Total_Revolving_Bal       10127 non-null  int64  \n",
      " 15  Avg_Open_To_Buy           10127 non-null  float64\n",
      " 16  Total_Trans_Amt           10127 non-null  int64  \n",
      " 17  Total_Trans_Ct            10127 non-null  int64  \n",
      " 18  Avg_Utilization_Ratio     10127 non-null  float64\n",
      "dtypes: float64(3), int64(10), object(6)\n",
      "memory usage: 1.5+ MB\n"
     ]
    }
   ],
   "source": [
    "df.info()       # returns the information about the dataset"
   ]
  },
  {
   "cell_type": "markdown",
   "id": "b51cf225",
   "metadata": {},
   "source": [
    "# Checking if there are null values in any columns"
   ]
  },
  {
   "cell_type": "code",
   "execution_count": 125,
   "id": "20984758",
   "metadata": {},
   "outputs": [
    {
     "data": {
      "text/plain": [
       "CLIENTNUM                     0\n",
       "Attrition_Flag                0\n",
       "Customer_Age                  0\n",
       "Gender                       93\n",
       "Dependent_count               0\n",
       "Education_Level               0\n",
       "Marital_Status                0\n",
       "Income_Category               0\n",
       "Card_Category               132\n",
       "Months_on_book                0\n",
       "Total_Relationship_Count      0\n",
       "Months_Inactive_12_mon        0\n",
       "Contacts_Count_12_mon         0\n",
       "Credit_Limit                 60\n",
       "Total_Revolving_Bal           0\n",
       "Avg_Open_To_Buy               0\n",
       "Total_Trans_Amt               0\n",
       "Total_Trans_Ct                0\n",
       "Avg_Utilization_Ratio         0\n",
       "dtype: int64"
      ]
     },
     "execution_count": 125,
     "metadata": {},
     "output_type": "execute_result"
    }
   ],
   "source": [
    "df.isnull().sum()       # isnull returns the True/False dataframe\n",
    "                            #sum: counts the number of True in columns"
   ]
  },
  {
   "cell_type": "markdown",
   "id": "9d1fcfcb",
   "metadata": {},
   "source": [
    "LEVEL 1 Analysis \n",
    "-------------------------\n",
    "Identify the type of data in each column (categorical or numerical)?\n",
    "1. Seperate out the categorical columns from the numerical types\n",
    "\n",
    "### These are the kinds of analysis that can be performed on categorical data\n",
    "1. Check if the variable is Nominal or Ordinal.\n",
    "2. Check how many categories are present.\n",
    "3. Check the Mode.\n",
    "4. Check for Missing values.\n",
    "5. Think about how the missing values could be treated?\n",
    "6. What kind of graph/chart can be plotted using this data?\n",
    "\n",
    "Note: We are analyzing only one column at a time (Univariate Analysis)"
   ]
  },
  {
   "cell_type": "markdown",
   "id": "2c668fb2",
   "metadata": {},
   "source": [
    "# Separating Categorical and Numerical Variables"
   ]
  },
  {
   "cell_type": "code",
   "execution_count": 4,
   "id": "7f22275d",
   "metadata": {},
   "outputs": [
    {
     "name": "stdout",
     "output_type": "stream",
     "text": [
      "categorical               continuous\n",
      "------------------------  ---------------------\n",
      "Attrition_Flag            CLIENTNUM\n",
      "Gender                    Customer_Age\n",
      "Dependent_count           Credit_Limit\n",
      "Education_Level           Total_Revolving_Bal\n",
      "Marital_Status            Avg_Open_To_Buy\n",
      "Income_Category           Total_Trans_Amt\n",
      "Card_Category             Total_Trans_Ct\n",
      "Months_on_book            Avg_Utilization_Ratio\n",
      "Total_Relationship_Count\n",
      "Months_Inactive_12_mon\n",
      "Contacts_Count_12_mon\n"
     ]
    }
   ],
   "source": [
    "# Separating out the categorical and continuous variables\n",
    "def seprate_data_types(df):\n",
    "    categorical = []\n",
    "    continuous = []\n",
    "    for column in df.columns:                # looping on the number of columns\n",
    "        if df[column].nunique() < 100:       # nunique:  returns unique values in the column,\n",
    "                                                    #here 100 is the hyperparamter and can be changed\n",
    "            categorical.append(column)\n",
    "        else:\n",
    "            continuous.append(column)\n",
    "            \n",
    "    return categorical, continuous \n",
    "\n",
    "\n",
    "categorical, continuous = seprate_data_types(df)         # Calling the function\n",
    "\n",
    "# # Tabulate is a package used to print the list, dict or any data sets in a proper format; in table format\n",
    "from tabulate import tabulate\n",
    "table = [categorical, continuous]\n",
    "print(tabulate({\"Categorical\":categorical,\n",
    "                \"continuous\": continuous}, headers = [\"categorical\", \"continuous\"]))"
   ]
  },
  {
   "cell_type": "markdown",
   "id": "a4e77d1c",
   "metadata": {},
   "source": [
    "\n",
    "# $$\\;\\;\\;\\; Univariate \\ Analysis \\ of \\ Categorical \\ Variables$$"
   ]
  },
  {
   "cell_type": "markdown",
   "id": "31b130e1",
   "metadata": {},
   "source": [
    "## Level 1 Analysis (Univariate Analysis)"
   ]
  },
  {
   "cell_type": "markdown",
   "id": "e1e21758",
   "metadata": {},
   "source": [
    "### User defined functions for level 1 analysis of categorical columns\n",
    "This function will check for the following: \\\n",
    "Unique values \\\n",
    "Mode \\\n",
    "Sum of all the null values \\\n",
    "Total count of missing values "
   ]
  },
  {
   "cell_type": "code",
   "execution_count": 5,
   "id": "07336053",
   "metadata": {},
   "outputs": [],
   "source": [
    "def info_of_cat(col): \n",
    "    print(f\"Unique values in {col} are: {df[col].unique()}\") # unique: returns the unique values in the col\n",
    "    print(f\"Mode of {col} is {df[col].mode()[0]}\")  # mode: returns the mode of the column\n",
    "    print(f\"Number of missing values in {col} is {df[col].isnull().sum()}\") # isnull().sum() counts the number of null in dataframe\n",
    "    if df[col].isnull().sum() > 0:  # check if null values are present\n",
    "        print(f\"\\nThere are null values in the {col} column\")\n",
    "    "
   ]
  },
  {
   "cell_type": "markdown",
   "id": "c6e4f8e8",
   "metadata": {},
   "source": [
    "# 1. Analysis of Attrition Flag: If the account is closed (Attired Customer) else (Existing Customer) \n",
    "LEVEL 1 Analysis of Categorical Data (Univariate Analysis) "
   ]
  },
  {
   "cell_type": "code",
   "execution_count": 6,
   "id": "752cf69e",
   "metadata": {},
   "outputs": [
    {
     "name": "stdout",
     "output_type": "stream",
     "text": [
      "Unique values in Attrition_Flag are: ['Existing Customer' 'Attrited Customer']\n",
      "Mode of Attrition_Flag is Existing Customer\n",
      "Number of missing values in Attrition_Flag is 0\n"
     ]
    }
   ],
   "source": [
    "info_of_cat(\"Attrition_Flag\")"
   ]
  },
  {
   "cell_type": "markdown",
   "id": "efbb8a11",
   "metadata": {},
   "source": [
    "###### Attrition Flag is a nominal datatype."
   ]
  },
  {
   "cell_type": "code",
   "execution_count": 7,
   "id": "89c932ef",
   "metadata": {},
   "outputs": [
    {
     "data": {
      "image/png": "[encoded data removed]",
      "text/plain": [
       "<Figure size 1080x504 with 2 Axes>"
      ]
     },
     "metadata": {
      "needs_background": "light"
     },
     "output_type": "display_data"
    }
   ],
   "source": [
    "fig, ax = plt.subplots(1, 2, figsize = (15, 7))\n",
    "ax[0].set_title(\"Count of Attrition Flag\")                  # Set the title of the graph\n",
    "percentage = df[\"Attrition_Flag\"].value_counts()         # value_counts: returns the count of values in series: return series\n",
    "labels = list(df[\"Attrition_Flag\"].value_counts().index) # Converting the index of value counts into list\n",
    "\n",
    "sns.countplot(x = df[\"Attrition_Flag\"], ax = ax[0])\n",
    "plt.pie(percentage,labels = labels, autopct= \"%0.2f%%\")  # autopct: to print the percentage on pie wedge. 2 decimal points used \n",
    "\n",
    "plt.show()"
   ]
  },
  {
   "cell_type": "markdown",
   "id": "0b16148a",
   "metadata": {},
   "source": [
    "## Interpretation: Dataset indicates that 16% of the customers left the bank while 84% of the customers are still with it."
   ]
  },
  {
   "cell_type": "markdown",
   "id": "7d7c1cf0",
   "metadata": {},
   "source": [
    "# 2. Analysis of  Gender column: Gender of a person (Male or Female)\n",
    "LEVEL 1 Analysis of Categorical Data (Univariate Analysis) "
   ]
  },
  {
   "cell_type": "code",
   "execution_count": 8,
   "id": "bf18bb25",
   "metadata": {},
   "outputs": [
    {
     "name": "stdout",
     "output_type": "stream",
     "text": [
      "Unique values in Gender are: ['M' 'F' nan]\n",
      "Mode of Gender is F\n",
      "Number of missing values in Gender is 93\n",
      "\n",
      "There are null values in the Gender column\n"
     ]
    }
   ],
   "source": [
    "info_of_cat(\"Gender\")"
   ]
  },
  {
   "cell_type": "markdown",
   "id": "08c871a0",
   "metadata": {},
   "source": [
    "###### Gender is a nominal datatype (Categorical)."
   ]
  },
  {
   "cell_type": "markdown",
   "id": "28cd7800",
   "metadata": {},
   "source": [
    "##    Way to fill: Mode of the Gender Column\n",
    "\n",
    "Note: Mode is not a perfect way to way to fill the missing value in this case. One might need to handle such a situation with caution. This is for demonstration purposes only. "
   ]
  },
  {
   "cell_type": "code",
   "execution_count": 9,
   "id": "075fda27",
   "metadata": {},
   "outputs": [
    {
     "name": "stdout",
     "output_type": "stream",
     "text": [
      "F\n"
     ]
    }
   ],
   "source": [
    "gender_mode = df.Gender.mode()[0]\n",
    "print(gender_mode)\n",
    "df[\"Gender\"].fillna(gender_mode, inplace = True)"
   ]
  },
  {
   "cell_type": "code",
   "execution_count": 10,
   "id": "4b73f54a",
   "metadata": {},
   "outputs": [
    {
     "data": {
      "image/png": "[encoded data removed]",
      "text/plain": [
       "<Figure size 1080x504 with 2 Axes>"
      ]
     },
     "metadata": {
      "needs_background": "light"
     },
     "output_type": "display_data"
    }
   ],
   "source": [
    "fig, ax = plt.subplots(1, 2, figsize = (15, 7))\n",
    "data = df[\"Gender\"].value_counts()                                  # Value count is an inbuilt function to calculate the number of classes                                                                       #in gender columns\n",
    "labels =data.keys()                                                  #data keys provide the index names but this function provides the columns \n",
    "                                                                     #names if called on dataframe\n",
    "sns.countplot(x = df[\"Gender\"], ax = ax[0])\n",
    "plt.pie(x = data, autopct = \"%.1f%%\", explode = [0.02, 0.0], labels = labels, pctdistance = 0.5) # pctdistance is the distance between the percentage\n",
    "                                                                     # on pie chart from center.\n",
    "                                                                     #  explode is to split the slices by the distance provided\n",
    "                                                                     # autopct: is used to print the number on pie slices.  \n",
    "\n",
    "plt.show()\n"
   ]
  },
  {
   "cell_type": "markdown",
   "id": "b6b78c4b",
   "metadata": {},
   "source": [
    "## Interpretation: Females customers are more in number, contributing to 53%."
   ]
  },
  {
   "cell_type": "markdown",
   "id": "195ef045",
   "metadata": {},
   "source": [
    "# 3. Analysis of  Dependent Count: Number of dependents on each customer \n",
    "LEVEL 1 Analysis of Categorical Data (Univariate Analysis) "
   ]
  },
  {
   "cell_type": "code",
   "execution_count": 11,
   "id": "91f4d1f0",
   "metadata": {},
   "outputs": [
    {
     "name": "stdout",
     "output_type": "stream",
     "text": [
      "Unique values in Dependent_count are: [  3   5   4   2   0   1   9  29 103  22  25  78  90  35  60  42 119 104\n",
      "  88  48  34 143 100  59 130  95   7  82  69  92 110  17  10  27  19 109\n",
      " 142 116 113 125  80  63  24  97 102  52  87  11 117  13  67  89  61  72\n",
      " 120  76]\n",
      "Mode of Dependent_count is 3\n",
      "Number of missing values in Dependent_count is 0\n"
     ]
    }
   ],
   "source": [
    "info_of_cat(\"Dependent_count\") # check for the unique values in the feature"
   ]
  },
  {
   "cell_type": "markdown",
   "id": "3c4f94d1",
   "metadata": {},
   "source": [
    "###### Dependent_count is a ordinal datatype  (Categorical) as it is having hierarchy in it."
   ]
  },
  {
   "cell_type": "markdown",
   "id": "2bf3b421",
   "metadata": {},
   "source": [
    "## Interpretation: Some people have many dependents on them. This could be a result of human error in data.\n",
    "\n",
    "Note: This might not always be the correct approach unless verified by a domain expert! "
   ]
  },
  {
   "cell_type": "code",
   "execution_count": 12,
   "id": "036114cd",
   "metadata": {},
   "outputs": [
    {
     "data": {
      "image/png": "[encoded data removed]",
      "text/plain": [
       "<Figure size 2160x720 with 1 Axes>"
      ]
     },
     "metadata": {
      "needs_background": "light"
     },
     "output_type": "display_data"
    }
   ],
   "source": [
    "fig, ax = plt.subplots(figsize= (10, 7))\n",
    "ax = sns.countplot(x = df[\"Dependent_count\"])\n",
    "for bar in ax.patches:                                              # ax.patches returns the rectange object from matplotlib\n",
    "    percentage = f\"{round(bar.get_height() /len(df), 2)}%\"          # first it calculate the bar height and then dividing by the number of rows in data(to calculate percentage) \n",
    "                                                                    # and multiply with 100 to get the percentage and rounding of by 2 numbers.  \n",
    "    x = bar.get_x() + bar.get_width() /2                            # get_x: returns the left corrdinate of the rectange, get_width: returns width of rectagle\n",
    "    y = bar.get_height()                                            # get_height: returns height of rectange\n",
    "    ax.annotate(percentage, (x, y), va = \"bottom\", ha =\"center\" )   # va bottom: means percentage would be above the bar head. \n",
    "    fig.set_figheight(10)                                                             # annotate: used to annotate over objects, here objects are the bars\n",
    "    fig.set_figwidth(30)                                                               # annotate: used to annotate over objects, here objects are the bars\n",
    "plt.show()"
   ]
  },
  {
   "cell_type": "markdown",
   "id": "0555530a",
   "metadata": {},
   "source": [
    "\n",
    "## Interpretation: Very few people have dependents higher than 5. However, there are some cases where the dependent count is greater than 100, which is abnormal. Hence, data clearing might be  required. "
   ]
  },
  {
   "cell_type": "markdown",
   "id": "b14ef495",
   "metadata": {},
   "source": [
    "# Outliers Analysis and Treatment:\n",
    "The customers who have a dependent count greater than 5 are replaced with the mean of the population."
   ]
  },
  {
   "cell_type": "code",
   "execution_count": 14,
   "id": "d711e5df",
   "metadata": {},
   "outputs": [],
   "source": [
    "# Making changes in data\n",
    "mean = int(df.Dependent_count.mean())\n",
    "# accessing the data higher than 6\n",
    "x = df[df[\"Dependent_count\"] > 5].index\n",
    "for index in x:\n",
    "    df.loc[index, \"Dependent_count\"] = mean"
   ]
  },
  {
   "cell_type": "code",
   "execution_count": 15,
   "id": "4248f6d7",
   "metadata": {},
   "outputs": [
    {
     "name": "stdout",
     "output_type": "stream",
     "text": [
      "Unique values in Dependent_count are: [3 5 4 2 0 1]\n",
      "Mode of Dependent_count is 3\n",
      "Number of missing values in Dependent_count is 0\n"
     ]
    }
   ],
   "source": [
    "info_of_cat(\"Dependent_count\")"
   ]
  },
  {
   "cell_type": "code",
   "execution_count": 16,
   "id": "25a39626",
   "metadata": {},
   "outputs": [
    {
     "data": {
      "image/png": "[encoded data removed]",
      "text/plain": [
       "<Figure size 720x504 with 1 Axes>"
      ]
     },
     "metadata": {
      "needs_background": "light"
     },
     "output_type": "display_data"
    }
   ],
   "source": [
    "fig, ax = plt.subplots(figsize= (10, 7))\n",
    "ax = sns.countplot(x = df[\"Dependent_count\"])\n",
    "for bar in ax.patches:                                              # ax.patches returns the rectange object from matplotlib\n",
    "    percentage = f\"{round(bar.get_height() /len(df), 2)}%\"          # first it calculate the bar height and then dividing by the number of rows in data(to calculate percentage) \n",
    "                                                                    # and multiply with 100 to get the percentage and rounding of by 2 numbers.  \n",
    "    x = bar.get_x() + bar.get_width() /2                            # get_x: returns the left corrdinate of the rectange, get_width: returns width of rectagle\n",
    "    y = bar.get_height()                                            # get_height: returns height of rectange\n",
    "    ax.annotate(percentage, (x, y), va = \"bottom\", ha =\"center\" )   # va bottom: means percentage would be above the bar head. \n",
    "                                                                    # annotate: used to annotate over objects, here objects are the bars\n",
    "plt.show()"
   ]
  },
  {
   "cell_type": "markdown",
   "id": "3ac7b6be",
   "metadata": {},
   "source": [
    "## Interpretation: Card holders usually have 2 to 3 dependents on them which adds up to 53% of the total population."
   ]
  },
  {
   "cell_type": "markdown",
   "id": "340e2ed6",
   "metadata": {},
   "source": [
    "# 4. Analysis of  Education Level: Education level of a card holder \n",
    "LEVEL 1 Analysis of Categorical Data (Univariate Analysis) "
   ]
  },
  {
   "cell_type": "code",
   "execution_count": 17,
   "id": "59034f65",
   "metadata": {},
   "outputs": [
    {
     "name": "stdout",
     "output_type": "stream",
     "text": [
      "Unique values in Education_Level are: ['High School' 'Graduate' 'Uneducated' 'Unknown' 'College' 'Post-Graduate'\n",
      " 'Doctorate']\n",
      "Mode of Education_Level is Graduate\n",
      "Number of missing values in Education_Level is 0\n"
     ]
    }
   ],
   "source": [
    "info_of_cat( \"Education_Level\")"
   ]
  },
  {
   "cell_type": "markdown",
   "id": "e9b078dc",
   "metadata": {},
   "source": [
    "###### Education_Level is an ordinal data type (Categorical) as it is having hierarchy in it."
   ]
  },
  {
   "cell_type": "code",
   "execution_count": 18,
   "id": "f2847708",
   "metadata": {},
   "outputs": [
    {
     "data": {
      "image/png": "[encoded data removed]",
      "text/plain": [
       "<Figure size 720x504 with 1 Axes>"
      ]
     },
     "metadata": {
      "needs_background": "light"
     },
     "output_type": "display_data"
    }
   ],
   "source": [
    "# Plot the graph-\n",
    "fig, ax = plt.subplots(figsize= (10, 7))\n",
    "ax = sns.countplot(x = df[\"Education_Level\"])\n",
    "ax.set_xticklabels(ax.get_xticklabels(), rotation = 40 , ha = \"right\") # set_xticklabels is used to set the labels of the x axis\n",
    "                                                                       # ax.get_xtickslabels() returns all the labels that we need to print\n",
    "                                                                       # rotation: rotate the xlabels at angle provided, and\n",
    "                                                                       # ha: Horizontal axis:-> how you want to keep it. can be changed to center, left, right\n",
    "count = len(df[\"Education_Level\"])                                     # counting the number of rows in whole dataset\n",
    "for bar in ax.patches:                                                 # ax.patches returns the rectange object from matplotlib \n",
    "    percentage = f\"{round(bar.get_height()/count, 2)*100} %\"           # first it calculate the bar heightand then dividing by the number of row(to calculate percentage)\n",
    "                                                                            # in data and multiply with 100 to get the percentage and rounding of by 2 numbers.  \n",
    "    x = bar.get_x() + bar.get_width() /2                                # get_x: returns the left corrdinate of the rectange, get_width: returns width of rectagle\n",
    "    y = bar.get_height()                                                # get_height: returns height of rectangle bar.\n",
    "    ax.annotate(percentage, (x, y), ha = \"center\", va = \"top\")          # va: Vertical axis: -> top means percentage would bneath the bar head\n",
    "                                                                        # annotate: used to annotate over objects. here objects are the bars \n",
    "plt.show()\n"
   ]
  },
  {
   "cell_type": "markdown",
   "id": "ea37005e",
   "metadata": {},
   "source": [
    "## Interpretation: Most people are graduated or have completed high school, which adds up to 51% of the total population."
   ]
  },
  {
   "cell_type": "markdown",
   "id": "f2e62a0e",
   "metadata": {},
   "source": [
    "# 5. Analysis of  Marital Status: Marital status of a card holder\n",
    "LEVEL 1 Analysis of Categorical Data (Univariate Analysis) "
   ]
  },
  {
   "cell_type": "code",
   "execution_count": 19,
   "id": "ac1260d0",
   "metadata": {},
   "outputs": [
    {
     "name": "stdout",
     "output_type": "stream",
     "text": [
      "Unique values in Marital_Status are: ['Married' 'Single' 'Unknown' 'Divorced']\n",
      "Mode of Marital_Status is Married\n",
      "Number of missing values in Marital_Status is 0\n"
     ]
    }
   ],
   "source": [
    "info_of_cat(\"Marital_Status\")"
   ]
  },
  {
   "cell_type": "markdown",
   "id": "f0efb3af",
   "metadata": {},
   "source": [
    "###### Marital_Status is a nominal datatype (Categorical)."
   ]
  },
  {
   "cell_type": "code",
   "execution_count": 20,
   "id": "e3771f37",
   "metadata": {},
   "outputs": [
    {
     "name": "stdout",
     "output_type": "stream",
     "text": [
      "Married     46.282216\n",
      "Single      38.935519\n",
      "Unknown      7.396070\n",
      "Divorced     7.386195\n",
      "Name: Marital_Status, dtype: float64\n"
     ]
    },
    {
     "data": {
      "image/png": "[encoded data removed]",
      "text/plain": [
       "<Figure size 1080x432 with 2 Axes>"
      ]
     },
     "metadata": {
      "needs_background": "light"
     },
     "output_type": "display_data"
    }
   ],
   "source": [
    "fig, ax = plt.subplots(1, 2, figsize = (15, 6))\n",
    "percentage = (df[\"Marital_Status\"].value_counts()/len(df))*100      # value count is a function to calulate the number of the column marital status \n",
    "                                                                        #keeping its classes as index. \n",
    "print(percentage)\n",
    "sns.countplot(x = df[\"Marital_Status\"], ax = ax[0])\n",
    "labels = list(df[\"Marital_Status\"].value_counts().index)            # value_counts returns the count of the classes present in the marital status and its index which is the class name \n",
    "                                                                         # is accessed by the index; in sequence format and then converted into the list. \n",
    "ax[1].pie(percentage,labels = labels, autopct= \"%0.2f%%\")           # autpct: is the way how the number would print on the graph.\n",
    "plt.show()"
   ]
  },
  {
   "cell_type": "markdown",
   "id": "dc2636a2",
   "metadata": {},
   "source": [
    "## Interpretation:  46% of the people are Married and 39% are Single. "
   ]
  },
  {
   "cell_type": "markdown",
   "id": "da6c6713",
   "metadata": {},
   "source": [
    "# 6. Analysis of  Income Category: Income categories of card holders\n",
    "\n",
    "LEVEL 1 Analysis of Categorical Data (Univariate Analysis) "
   ]
  },
  {
   "cell_type": "code",
   "execution_count": 21,
   "id": "7e4aedf5",
   "metadata": {},
   "outputs": [
    {
     "name": "stdout",
     "output_type": "stream",
     "text": [
      "Unique values in Income_Category are: ['$60K - $80K' 'Less than $40K' '$80K - $120K' '$40K - $60K' '$120K +'\n",
      " 'Unknown']\n",
      "Mode of Income_Category is Less than $40K\n",
      "Number of missing values in Income_Category is 0\n"
     ]
    }
   ],
   "source": [
    "info_of_cat( \"Income_Category\")"
   ]
  },
  {
   "cell_type": "markdown",
   "id": "86c44bab",
   "metadata": {},
   "source": [
    "###### Income_Category is a ordinal datatype (Categorical) as it is having hierarchy in it."
   ]
  },
  {
   "cell_type": "code",
   "execution_count": 22,
   "id": "0d6d7fdc",
   "metadata": {},
   "outputs": [
    {
     "name": "stdout",
     "output_type": "stream",
     "text": [
      "Less than $40K    35.163425\n",
      "$40K - $60K       17.675521\n",
      "$80K - $120K      15.157500\n",
      "$60K - $80K       13.844179\n",
      "Unknown           10.980547\n",
      "$120K +            7.178829\n",
      "Name: Income_Category, dtype: float64\n"
     ]
    },
    {
     "data": {
      "image/png": "[encoded data removed]",
      "text/plain": [
       "<Figure size 720x288 with 1 Axes>"
      ]
     },
     "metadata": {
      "needs_background": "light"
     },
     "output_type": "display_data"
    }
   ],
   "source": [
    "print((df[\"Income_Category\"].value_counts()/len(df))*100)               #First calculated the number of income category via value counts inbuilt function and then \n",
    "                                                                            #calculated the percentage of it.\n",
    "fig, ax = plt.subplots(figsize = (10, 4))\n",
    "sns.countplot(x = df[ 'Income_Category'], ax = ax)\n",
    "for bar in ax.patches:                                                  # ax.patches returns the rectange object from matplotlib\n",
    "    percentage = f\"{round((bar.get_height() /df.shape[0])*100 , 2)} %\"  # first it calculate the bar height and then dividing by the number of rows in data and \n",
    "                                                                            #multiply with 100 to get the percentage and rounding of by 2 numbers.  \n",
    "    x = bar.get_x() + bar.get_width() /2                                # get_x: returns the left corrdinate of the rectange, get_width: returns width of rectagle\n",
    "    y = bar.get_height()                                                # get_height: returns height of rectange\n",
    "    ax.annotate(percentage, (x, y), va= \"bottom\", ha = \"center\" )       # annotate: used to annotate over objects. here objects are the bars.\n",
    "plt.show()"
   ]
  },
  {
   "cell_type": "markdown",
   "id": "7bcab52b",
   "metadata": {},
   "source": [
    "## Interpretation: Majority of the population is earning less than $40k."
   ]
  },
  {
   "cell_type": "markdown",
   "id": "9a598d6b",
   "metadata": {},
   "source": [
    "# 7. Analysis of  Card Category: Type of card\n",
    "LEVEL 1 Analysis of Categorical Data (Univariate Analysis) \n"
   ]
  },
  {
   "cell_type": "code",
   "execution_count": 23,
   "id": "e16e2f74",
   "metadata": {},
   "outputs": [
    {
     "name": "stdout",
     "output_type": "stream",
     "text": [
      "Unique values in Card_Category are: ['Blue' 'Gold' 'Silver' nan 'Platinum']\n",
      "Mode of Card_Category is Blue\n",
      "Number of missing values in Card_Category is 132\n",
      "\n",
      "There are null values in the Card_Category column\n"
     ]
    }
   ],
   "source": [
    "info_of_cat(\"Card_Category\")"
   ]
  },
  {
   "cell_type": "markdown",
   "id": "43c4717b",
   "metadata": {},
   "source": [
    "###### Card_Category is a nominal datatype (Categorical)."
   ]
  },
  {
   "cell_type": "markdown",
   "id": "95650c94",
   "metadata": {},
   "source": [
    "##    Missing value treatment:  Mode of the card type\n",
    "\n",
    "Note: Mode is not a perfect way to way to fill the missing value in this case. One might need to handle such a situation with caution by consulting the domain expert. This is for demonstration purposes only. "
   ]
  },
  {
   "cell_type": "code",
   "execution_count": 24,
   "id": "977b4d9f",
   "metadata": {},
   "outputs": [
    {
     "name": "stdout",
     "output_type": "stream",
     "text": [
      "Blue\n"
     ]
    }
   ],
   "source": [
    "card_mode = df.Card_Category.mode()[0]\n",
    "print(card_mode)\n",
    "df[\"Card_Category\"].fillna(card_mode, inplace = True)"
   ]
  },
  {
   "cell_type": "code",
   "execution_count": 25,
   "id": "135ec94e",
   "metadata": {},
   "outputs": [
    {
     "name": "stdout",
     "output_type": "stream",
     "text": [
      "Blue        9447\n",
      "Silver       544\n",
      "Gold         116\n",
      "Platinum      20\n",
      "Name: Card_Category, dtype: int64\n"
     ]
    },
    {
     "data": {
      "image/png": "[encoded data removed]",
      "text/plain": [
       "<Figure size 1440x432 with 2 Axes>"
      ]
     },
     "metadata": {
      "needs_background": "light"
     },
     "output_type": "display_data"
    }
   ],
   "source": [
    "data = df[\"Card_Category\"].value_counts()                                   #value count is counting the number of values in the column\n",
    "print(data)\n",
    "pie, ax = plt.subplots(1, 2, figsize = [20,6])\n",
    "labels =data.keys()                                                         # Keys returning you the index names in the data\n",
    "ax[0].pie(x = data, explode = [0.2, 0.2, 0.45, 0.67], labels = labels)         # pctdistance is the distance between the percentage on pie chart from center.\n",
    "                                                                                #  explode is to split the slices by the distance provided\n",
    "sns.countplot(x = df[\"Card_Category\"], ax = ax[1])                                                                                               \n",
    "plt.title(\"Card_Category\")                                                  # title is used to prints the title on the image. \n",
    "plt.show()"
   ]
  },
  {
   "cell_type": "markdown",
   "id": "95a5d4a7",
   "metadata": {},
   "source": [
    "## Interpretation: Majority of the population is using the Blue card followed by Silver. The Platinum card is sold the least. "
   ]
  },
  {
   "cell_type": "markdown",
   "id": "f26d90be",
   "metadata": {},
   "source": [
    "# 8. User defined function which returns percentage using bar graphs"
   ]
  },
  {
   "cell_type": "code",
   "execution_count": 26,
   "id": "602ee23c",
   "metadata": {},
   "outputs": [],
   "source": [
    "def bar_percentage(ax, count: \"number of rows in data \"):\n",
    "    for bar in ax.patches:                                            # ax.patches returns the rectange object from matplotlib\n",
    "        percentage = f\"{round((bar.get_height() / count) *100, 2)}%\"  # first it calculate the bar height and then dividing by the number of row(to calculate percentage)\n",
    "                                                                            # in data and multiply with 100 to get the percentage and rounding of by 2 numbers.\n",
    "        x = bar.get_x() + bar.get_width() /2                          # get_x: returns the left corrdinate of the rectange, get_width: returns width of rectagle\n",
    "        y = bar.get_height()                                          # get_height: returns height of rectangle bar.\n",
    "        ax.annotate(percentage, (x, y), va = \"bottom\", ha = \"center\") # va: Vertical axis: -> top means percentage would bneath the bar head. top, bottom or center \n",
    "                                                                      # ha: Horizontal axis:-> how you want to keep it. can be changed to center, left, right.\n",
    "                                                                      # annotate: used to annotate over objects. here objects are the bars \n",
    "    plt.show()"
   ]
  },
  {
   "cell_type": "markdown",
   "id": "34862082",
   "metadata": {},
   "source": [
    "# 9. Analysis of Total Relationship Count: Years of relationship with the bank\n",
    "LEVEL 1 Analysis of categorical data : ordinal data  (Univariate Analysis)"
   ]
  },
  {
   "cell_type": "code",
   "execution_count": 27,
   "id": "b4040059",
   "metadata": {},
   "outputs": [
    {
     "name": "stdout",
     "output_type": "stream",
     "text": [
      "Unique values in Total_Relationship_Count are: [5 6 4 3 2 1]\n",
      "Mode of Total_Relationship_Count is 3\n",
      "Number of missing values in Total_Relationship_Count is 0\n"
     ]
    }
   ],
   "source": [
    "info_of_cat(\"Total_Relationship_Count\")"
   ]
  },
  {
   "cell_type": "markdown",
   "id": "b902930f",
   "metadata": {},
   "source": [
    "###### Total_Relationship_Count is a ordinal datatype (Categorical) as it is having hierarchy in it."
   ]
  },
  {
   "cell_type": "code",
   "execution_count": 28,
   "id": "f73f32e6",
   "metadata": {},
   "outputs": [
    {
     "data": {
      "image/png": "[encoded data removed]",
      "text/plain": [
       "<Figure size 720x432 with 1 Axes>"
      ]
     },
     "metadata": {
      "needs_background": "light"
     },
     "output_type": "display_data"
    }
   ],
   "source": [
    "fig, ax = plt.subplots(figsize  = (10 , 6))\n",
    "ax = sns.countplot(x = df[\"Total_Relationship_Count\"])\n",
    "bar_percentage(ax, len(df))                            # calling the function to plot the percentage on the bars"
   ]
  },
  {
   "cell_type": "markdown",
   "id": "34d63a59",
   "metadata": {},
   "source": [
    "## Interpretation: Usually people have three years of relationship with the bank. Then, there is a decline of 3%. Later, there is very little variation. Approximately 20% of the people tend to leave in their first two years."
   ]
  },
  {
   "cell_type": "markdown",
   "id": "0ad65440",
   "metadata": {},
   "source": [
    "# 10. Analysis of  Months of Inactivity: Months elapsed since the last activity using credit card\n",
    "LEVEL 1 Analysis of categorical data : ordinal data  (Univariate Analysis) "
   ]
  },
  {
   "cell_type": "code",
   "execution_count": 29,
   "id": "704ac353",
   "metadata": {},
   "outputs": [
    {
     "name": "stdout",
     "output_type": "stream",
     "text": [
      "Unique values in Months_Inactive_12_mon are: [1 4 2 3 6 0 5]\n",
      "Mode of Months_Inactive_12_mon is 3\n",
      "Number of missing values in Months_Inactive_12_mon is 0\n"
     ]
    }
   ],
   "source": [
    "info_of_cat('Months_Inactive_12_mon' )"
   ]
  },
  {
   "cell_type": "markdown",
   "id": "9577e396",
   "metadata": {},
   "source": [
    "###### Total_Relationship_Count is a ordinal datatype (Categorical) as it is having hierarchy in it."
   ]
  },
  {
   "cell_type": "code",
   "execution_count": 30,
   "id": "e145b07b",
   "metadata": {},
   "outputs": [
    {
     "data": {
      "image/png": "[encoded data removed]",
      "text/plain": [
       "<Figure size 720x432 with 1 Axes>"
      ]
     },
     "metadata": {
      "needs_background": "light"
     },
     "output_type": "display_data"
    }
   ],
   "source": [
    "fig, ax = plt.subplots(figsize  = (10 , 6))\n",
    "ax = sns.countplot(x = df['Months_Inactive_12_mon'])\n",
    "bar_percentage(ax, len(df))                         # calling the function to plot the percentage on the bars\n",
    "plt.show()"
   ]
  },
  {
   "cell_type": "markdown",
   "id": "e5aacdac",
   "metadata": {},
   "source": [
    "## Interpretation: Majority of the customers are inactive for 3 months."
   ]
  },
  {
   "cell_type": "markdown",
   "id": "7c616a4a",
   "metadata": {},
   "source": [
    "# $$\\;\\;\\;\\;\\;\\;Univariate \\ Analysis \\ of \\ Numerical \\ Variables$$"
   ]
  },
  {
   "cell_type": "markdown",
   "id": "af6688a0",
   "metadata": {},
   "source": [
    "LEVEL 1 Analysis of Numerical Columns\n",
    "----------------------------------------------------------\n",
    "Check if the data is discrete or continuous. \\\n",
    "Measure the central tendency (mean, median, mode) \\\n",
    "Measure the Dispersion values \\\n",
    "Check for missing values \\\n",
    "Checking for skewness\\\n",
    "Check for outliers \\\n",
    "Think how the missing values could be treated. \\\n",
    "What kind of graph/chart can be plotted using this data? "
   ]
  },
  {
   "cell_type": "markdown",
   "id": "2ee99a20",
   "metadata": {},
   "source": [
    "# User defined function for calculating mean, median, mode, standard deviation, and the count of all null values "
   ]
  },
  {
   "cell_type": "code",
   "execution_count": 31,
   "id": "9b0372dd",
   "metadata": {},
   "outputs": [],
   "source": [
    "def info_of_numerical(col):\n",
    "    print(f\"The mean of the {col} is {df[col].mean()}\")\n",
    "    print(f\"The median of the {col} is {df[col].median()}\")\n",
    "    print(f\"The mode of the {col} is {df[col].mode()[0]}\")\n",
    "    print(f\"The standard deviation of the {col} is {df[col].std()}\")\n",
    "    print(f\"Number of missing values in the {col} is {df[col].isnull().sum()}\")"
   ]
  },
  {
   "cell_type": "markdown",
   "id": "b0a23a8d",
   "metadata": {},
   "source": [
    "# 11. Analysis of  the Customer Age: Age of the customer\n",
    "LEVEL 1 Analysis of Numerical Data (Univariate Analysis) "
   ]
  },
  {
   "cell_type": "code",
   "execution_count": 32,
   "id": "4211d918",
   "metadata": {},
   "outputs": [
    {
     "name": "stdout",
     "output_type": "stream",
     "text": [
      "The mean of the Customer_Age is 47.285276982324476\n",
      "The median of the Customer_Age is 46.0\n",
      "The mode of the Customer_Age is 44\n",
      "The standard deviation of the Customer_Age is 13.270923260536502\n",
      "Number of missing values in the Customer_Age is 0\n"
     ]
    }
   ],
   "source": [
    "info_of_numerical(\"Customer_Age\")"
   ]
  },
  {
   "cell_type": "markdown",
   "id": "bc08b2dd",
   "metadata": {},
   "source": [
    "###### Customer_Age is a continuous data  (Numerical)."
   ]
  },
  {
   "cell_type": "code",
   "execution_count": 33,
   "id": "9145bbf8",
   "metadata": {},
   "outputs": [
    {
     "data": {
      "image/png": "[encoded data removed]",
      "text/plain": [
       "<Figure size 1440x504 with 2 Axes>"
      ]
     },
     "metadata": {
      "needs_background": "light"
     },
     "output_type": "display_data"
    }
   ],
   "source": [
    "# Distribution of Customer_Age\n",
    "fig, ax = plt.subplots(1, 2, figsize= (20, 7))               # Creating the space for the 2 images, first argument in subplots is rows and second is columns and the figure size\n",
    "sns.histplot(x = df[\"Customer_Age\"], ax =ax[1], color = \"m\") # ax[1] means image will plot at the second space\n",
    "sns.boxplot(x = df[\"Customer_Age\"], ax = ax[0], color = \"g\") # ax[0] means image will plot at the second space\n",
    "plt.show()\n"
   ]
  },
  {
   "cell_type": "markdown",
   "id": "dd6f68ce",
   "metadata": {},
   "source": [
    "In this case, the customer age follows a normal distribution. There are few customers with ages over 77. The analytics team decides to replace the ages greater than 75 with the average age of other customers. \n"
   ]
  },
  {
   "cell_type": "markdown",
   "id": "5599de5f",
   "metadata": {},
   "source": [
    "# Outliers Analysis and Treatment:\n",
    "Customers who have ages above 75 are outliers. To treat the outliers, their age is replaced with the mean. However, this is not the only solution to treat the outliers; machine learning can help in this scenario."
   ]
  },
  {
   "cell_type": "code",
   "execution_count": 34,
   "id": "3781a3d8",
   "metadata": {},
   "outputs": [],
   "source": [
    "mean = int(df.Customer_Age.mean())\n",
    "# accessing the data higher than 6\n",
    "x = df[df[\"Customer_Age\"] > 75].index\n",
    "for index in x:\n",
    "    df.loc[index, \"Customer_Age\"] = mean\n",
    "    "
   ]
  },
  {
   "cell_type": "code",
   "execution_count": 35,
   "id": "72f092cf",
   "metadata": {},
   "outputs": [
    {
     "name": "stdout",
     "output_type": "stream",
     "text": [
      "The mean of the Customer_Age is 46.32931766564629\n",
      "The median of the Customer_Age is 46.0\n",
      "The mode of the Customer_Age is 47\n",
      "The standard deviation of the Customer_Age is 7.977505937702698\n",
      "Number of missing values in the Customer_Age is 0\n"
     ]
    }
   ],
   "source": [
    "info_of_numerical(\"Customer_Age\")"
   ]
  },
  {
   "cell_type": "code",
   "execution_count": 36,
   "id": "c8c9ba71",
   "metadata": {},
   "outputs": [
    {
     "data": {
      "image/png": "[encoded data removed]",
      "text/plain": [
       "<Figure size 1440x504 with 2 Axes>"
      ]
     },
     "metadata": {
      "needs_background": "light"
     },
     "output_type": "display_data"
    }
   ],
   "source": [
    "# Distribution of Customer_Age (Outlier Analysis)\n",
    "fig, ax = plt.subplots(1, 2, figsize= (20, 7))               # Creating the space for the 2 images, first argument in subplots is rows and second is columns and the figure size\n",
    "sns.histplot(x = df[\"Customer_Age\"], ax =ax[1], color = \"m\") # ax[1] means image will plot at the second space\n",
    "sns.boxplot(x = df[\"Customer_Age\"], ax = ax[0], color = \"g\") # ax[0] means image will plot at the second space\n",
    "plt.show()"
   ]
  },
  {
   "cell_type": "markdown",
   "id": "cde8b684",
   "metadata": {},
   "source": [
    "## Interpretation: Most likely, customer age follows a normal distribution. Most of the bank customers are between 40 to 50 years of age.\n"
   ]
  },
  {
   "cell_type": "markdown",
   "id": "93caa29e",
   "metadata": {},
   "source": [
    "# 12. Analysis of  Total_Revolving_Bal: Balance that is carried over month to month\n",
    "LEVEL 1 Analysis of Numerical Data (Univariate Analysis) "
   ]
  },
  {
   "cell_type": "code",
   "execution_count": 37,
   "id": "a44ecd9e",
   "metadata": {},
   "outputs": [
    {
     "name": "stdout",
     "output_type": "stream",
     "text": [
      "The mean of the Total_Revolving_Bal is 1162.8140614199665\n",
      "The median of the Total_Revolving_Bal is 1276.0\n",
      "The mode of the Total_Revolving_Bal is 0\n",
      "The standard deviation of the Total_Revolving_Bal is 814.9873352357697\n",
      "Number of missing values in the Total_Revolving_Bal is 0\n"
     ]
    }
   ],
   "source": [
    "info_of_numerical(\"Total_Revolving_Bal\")"
   ]
  },
  {
   "cell_type": "markdown",
   "id": "490f39b7",
   "metadata": {},
   "source": [
    "###### Total_Revolving_Bal is a continuous datatype (Numerical).\n"
   ]
  },
  {
   "cell_type": "code",
   "execution_count": 38,
   "id": "00259e3a",
   "metadata": {},
   "outputs": [
    {
     "data": {
      "image/png": "[encoded data removed]",
      "text/plain": [
       "<Figure size 1080x504 with 2 Axes>"
      ]
     },
     "metadata": {
      "needs_background": "light"
     },
     "output_type": "display_data"
    }
   ],
   "source": [
    "fig, ax = plt.subplots(1, 2, figsize= (15, 7))\n",
    "sns.histplot(x = df['Total_Revolving_Bal'])                         # x axis contains the revolving balance amount in dollars.\n",
    "                                                                    # y axis has the count of the customers.\n",
    "sns.boxplot(x = df['Total_Revolving_Bal'], ax = ax[0], color = \"g\") # c : color: b is black\n",
    "plt.show()"
   ]
  },
  {
   "cell_type": "markdown",
   "id": "3de4aae4",
   "metadata": {},
   "source": [
    "## Interpretation: There is a spike at the 0 Revolving Balance, which indicates the majority of people tend to have 0 Revolving Balance. Around 25% of the customers do not have a revolving balance. i.e. they settle the credit card bill within a month. Around 75% of customers do not pay the credit card balance on time. These are the profitable customers to the bank (they pay interest on the revolving balance)."
   ]
  },
  {
   "cell_type": "markdown",
   "id": "1d235575",
   "metadata": {},
   "source": [
    "# 13. Analysis of  Avg_Open_To_Buy: \n",
    "## Difference between the credit limit assigned to a card holder and the present balance on the account that time\n",
    "\n",
    "Description: Monthly credit limit is $12,000. If the customer spends $5,000 in a month, then the remaining balance is $7,000 which is called \"Average Open to Buy\".\n",
    " \n",
    "LEVEL 1 Analysis of Numerical Data (Univariate Analysis) "
   ]
  },
  {
   "cell_type": "code",
   "execution_count": 39,
   "id": "630ec254",
   "metadata": {},
   "outputs": [
    {
     "name": "stdout",
     "output_type": "stream",
     "text": [
      "The mean of the Avg_Open_To_Buy is 7469.139636614887\n",
      "The median of the Avg_Open_To_Buy is 3474.0\n",
      "The mode of the Avg_Open_To_Buy is 1438.3\n",
      "The standard deviation of the Avg_Open_To_Buy is 9090.685323679128\n",
      "Number of missing values in the Avg_Open_To_Buy is 0\n"
     ]
    }
   ],
   "source": [
    "info_of_numerical(\"Avg_Open_To_Buy\")"
   ]
  },
  {
   "cell_type": "markdown",
   "id": "7d597d29",
   "metadata": {},
   "source": [
    "###### Avg_Open_To_Buy is a continuous datatype (Numerical).\n"
   ]
  },
  {
   "cell_type": "code",
   "execution_count": 40,
   "id": "3937a968",
   "metadata": {},
   "outputs": [
    {
     "data": {
      "image/png": "[encoded data removed]",
      "text/plain": [
       "<Figure size 1440x504 with 2 Axes>"
      ]
     },
     "metadata": {
      "needs_background": "light"
     },
     "output_type": "display_data"
    }
   ],
   "source": [
    "fig, ax = plt.subplots(1, 2, figsize= (20, 7))\n",
    "sns.histplot(df[\"Avg_Open_To_Buy\"], ax = ax[1], color= \"g\")     # xaxis: its a dollar amount which shows the difference between the credit limit and the prersent balance\n",
    "sns.boxplot(x = df['Avg_Open_To_Buy'], ax = ax[0], color = \"y\") # color = y:  yellow\n",
    "plt.show()"
   ]
  },
  {
   "cell_type": "markdown",
   "id": "03ba6cde",
   "metadata": {},
   "source": [
    "# Outliers Analysis\n",
    "This is right skewed data but the strength of outliers is increasing at the end of the tail, which indicates that outliers are not a human error but some people are showing behavior other than population.\n"
   ]
  },
  {
   "cell_type": "markdown",
   "id": "039cdf73",
   "metadata": {},
   "source": [
    "# 14. Analysis of  the Total Transaction Count: Number of transactions made by the card holder\n",
    " LEVEL 1 Analysis of Numerical Data (Univariate Analysis) "
   ]
  },
  {
   "cell_type": "code",
   "execution_count": 41,
   "id": "046ae86a",
   "metadata": {},
   "outputs": [
    {
     "name": "stdout",
     "output_type": "stream",
     "text": [
      "The mean of the Total_Trans_Ct is 64.85869457884863\n",
      "The median of the Total_Trans_Ct is 67.0\n",
      "The mode of the Total_Trans_Ct is 81\n",
      "The standard deviation of the Total_Trans_Ct is 23.472570449233046\n",
      "Number of missing values in the Total_Trans_Ct is 0\n"
     ]
    }
   ],
   "source": [
    "info_of_numerical(\"Total_Trans_Ct\")"
   ]
  },
  {
   "cell_type": "markdown",
   "id": "b8f5ecf7",
   "metadata": {},
   "source": [
    "###### Total_Trans_Ct is a continuous datatype (Numerical).\n"
   ]
  },
  {
   "cell_type": "code",
   "execution_count": 42,
   "id": "e4b32108",
   "metadata": {},
   "outputs": [
    {
     "data": {
      "image/png": "[encoded data removed]",
      "text/plain": [
       "<Figure size 1440x504 with 2 Axes>"
      ]
     },
     "metadata": {
      "needs_background": "light"
     },
     "output_type": "display_data"
    }
   ],
   "source": [
    "fig, ax = plt.subplots(1, 2, figsize= (20, 7))\n",
    "sns.histplot(x = df['Total_Trans_Ct'], ax = ax[0]) #ax[0]: graph(Histogram) will be ploted at 0th position\n",
    "sns.boxplot(x = df[\"Total_Trans_Ct\"], ax = ax[1])  #ax[1]: graph(Boxplot) will be ploted at 0th position\n",
    "plt.show()"
   ]
  },
  {
   "cell_type": "markdown",
   "id": "9ba314ce",
   "metadata": {},
   "source": [
    "## Interpretation: Majority of the customers are making more than 50 transactions."
   ]
  },
  {
   "cell_type": "markdown",
   "id": "ed12efee",
   "metadata": {},
   "source": [
    "# Q15. Analysis of  the Avg_Utilization_Ratio: It is a ratio of Total Revolving Balance to Credit Limit \n",
    "#### $$\\frac{Total\\;Revolving\\; Balance}{Credit \\;Limit}$$\n",
    "## The higher the value, the greater the customers are spending.\n",
    " LEVEL 1 Analysis of Numerical Data (Univariate Analysis) "
   ]
  },
  {
   "cell_type": "code",
   "execution_count": 43,
   "id": "5e6ef7dd",
   "metadata": {},
   "outputs": [
    {
     "name": "stdout",
     "output_type": "stream",
     "text": [
      "The mean of the Avg_Utilization_Ratio is 0.2748935518909845\n",
      "The median of the Avg_Utilization_Ratio is 0.176\n",
      "The mode of the Avg_Utilization_Ratio is 0.0\n",
      "The standard deviation of the Avg_Utilization_Ratio is 0.2756914692523933\n",
      "Number of missing values in the Avg_Utilization_Ratio is 0\n"
     ]
    }
   ],
   "source": [
    "info_of_numerical(\"Avg_Utilization_Ratio\")"
   ]
  },
  {
   "cell_type": "markdown",
   "id": "428d618d",
   "metadata": {},
   "source": [
    "###### Avg_Utilization_Ratio is a continuous datatype (Numerical).\n"
   ]
  },
  {
   "cell_type": "code",
   "execution_count": 44,
   "id": "29d8f3e5",
   "metadata": {},
   "outputs": [
    {
     "data": {
      "image/png": "[encoded data removed]",
      "text/plain": [
       "<Figure size 1440x432 with 2 Axes>"
      ]
     },
     "metadata": {
      "needs_background": "light"
     },
     "output_type": "display_data"
    }
   ],
   "source": [
    "fig, ax = plt.subplots(1, 2, figsize = (20, 6))\n",
    "sns.histplot(x = df['Avg_Utilization_Ratio'], ax = ax[0])  #  ax[0]: graph(Histogram) will be ploted at 0th position\n",
    "sns.boxplot(x = df['Avg_Utilization_Ratio'], ax = ax[1])   #  ax[1]: graph(Boxplot) will be ploted at 0th position\n",
    "plt.show()"
   ]
  },
  {
   "cell_type": "markdown",
   "id": "bd634da4",
   "metadata": {},
   "source": [
    "This is a right skewed data with no outliers.\n",
    "## Interpretation: Around 75% of the customers have a low utilization (less than 0.5 utilization)."
   ]
  },
  {
   "cell_type": "markdown",
   "id": "19f00255",
   "metadata": {},
   "source": [
    "# Level 3 Further Analysis Questions"
   ]
  },
  {
   "cell_type": "markdown",
   "id": "6fe4246d",
   "metadata": {},
   "source": [
    "# 1. Which age group of women has a larger churn?"
   ]
  },
  {
   "cell_type": "code",
   "execution_count": 45,
   "id": "54fcd7ec",
   "metadata": {},
   "outputs": [
    {
     "data": {
      "text/html": [
       "<div>\n",
       "<style scoped>\n",
       "    .dataframe tbody tr th:only-of-type {\n",
       "        vertical-align: middle;\n",
       "    }\n",
       "\n",
       "    .dataframe tbody tr th {\n",
       "        vertical-align: top;\n",
       "    }\n",
       "\n",
       "    .dataframe thead th {\n",
       "        text-align: right;\n",
       "    }\n",
       "</style>\n",
       "<table border=\"1\" class=\"dataframe\">\n",
       "  <thead>\n",
       "    <tr style=\"text-align: right;\">\n",
       "      <th></th>\n",
       "      <th>CLIENTNUM</th>\n",
       "      <th>Attrition_Flag</th>\n",
       "      <th>Customer_Age</th>\n",
       "      <th>Gender</th>\n",
       "      <th>Dependent_count</th>\n",
       "      <th>Education_Level</th>\n",
       "      <th>Marital_Status</th>\n",
       "      <th>Income_Category</th>\n",
       "      <th>Card_Category</th>\n",
       "      <th>Months_on_book</th>\n",
       "      <th>Total_Relationship_Count</th>\n",
       "      <th>Months_Inactive_12_mon</th>\n",
       "      <th>Contacts_Count_12_mon</th>\n",
       "      <th>Credit_Limit</th>\n",
       "      <th>Total_Revolving_Bal</th>\n",
       "      <th>Avg_Open_To_Buy</th>\n",
       "      <th>Total_Trans_Amt</th>\n",
       "      <th>Total_Trans_Ct</th>\n",
       "      <th>Avg_Utilization_Ratio</th>\n",
       "    </tr>\n",
       "  </thead>\n",
       "  <tbody>\n",
       "    <tr>\n",
       "      <th>0</th>\n",
       "      <td>768805383</td>\n",
       "      <td>Existing Customer</td>\n",
       "      <td>45</td>\n",
       "      <td>M</td>\n",
       "      <td>3</td>\n",
       "      <td>High School</td>\n",
       "      <td>Married</td>\n",
       "      <td>$60K - $80K</td>\n",
       "      <td>Blue</td>\n",
       "      <td>39</td>\n",
       "      <td>5</td>\n",
       "      <td>1</td>\n",
       "      <td>3</td>\n",
       "      <td>12691.0</td>\n",
       "      <td>777</td>\n",
       "      <td>11914.0</td>\n",
       "      <td>1144</td>\n",
       "      <td>42</td>\n",
       "      <td>0.061</td>\n",
       "    </tr>\n",
       "    <tr>\n",
       "      <th>1</th>\n",
       "      <td>818770008</td>\n",
       "      <td>Existing Customer</td>\n",
       "      <td>49</td>\n",
       "      <td>F</td>\n",
       "      <td>5</td>\n",
       "      <td>Graduate</td>\n",
       "      <td>Single</td>\n",
       "      <td>Less than $40K</td>\n",
       "      <td>Blue</td>\n",
       "      <td>44</td>\n",
       "      <td>6</td>\n",
       "      <td>1</td>\n",
       "      <td>2</td>\n",
       "      <td>8256.0</td>\n",
       "      <td>864</td>\n",
       "      <td>7392.0</td>\n",
       "      <td>1291</td>\n",
       "      <td>33</td>\n",
       "      <td>0.105</td>\n",
       "    </tr>\n",
       "    <tr>\n",
       "      <th>2</th>\n",
       "      <td>713982108</td>\n",
       "      <td>Existing Customer</td>\n",
       "      <td>51</td>\n",
       "      <td>M</td>\n",
       "      <td>3</td>\n",
       "      <td>Graduate</td>\n",
       "      <td>Married</td>\n",
       "      <td>$80K - $120K</td>\n",
       "      <td>Blue</td>\n",
       "      <td>36</td>\n",
       "      <td>4</td>\n",
       "      <td>1</td>\n",
       "      <td>0</td>\n",
       "      <td>3418.0</td>\n",
       "      <td>0</td>\n",
       "      <td>3418.0</td>\n",
       "      <td>1887</td>\n",
       "      <td>20</td>\n",
       "      <td>0.000</td>\n",
       "    </tr>\n",
       "    <tr>\n",
       "      <th>3</th>\n",
       "      <td>769911858</td>\n",
       "      <td>Existing Customer</td>\n",
       "      <td>40</td>\n",
       "      <td>F</td>\n",
       "      <td>4</td>\n",
       "      <td>High School</td>\n",
       "      <td>Unknown</td>\n",
       "      <td>Less than $40K</td>\n",
       "      <td>Blue</td>\n",
       "      <td>34</td>\n",
       "      <td>3</td>\n",
       "      <td>4</td>\n",
       "      <td>1</td>\n",
       "      <td>3313.0</td>\n",
       "      <td>2517</td>\n",
       "      <td>796.0</td>\n",
       "      <td>1171</td>\n",
       "      <td>20</td>\n",
       "      <td>0.760</td>\n",
       "    </tr>\n",
       "    <tr>\n",
       "      <th>4</th>\n",
       "      <td>709106358</td>\n",
       "      <td>Existing Customer</td>\n",
       "      <td>40</td>\n",
       "      <td>M</td>\n",
       "      <td>3</td>\n",
       "      <td>Uneducated</td>\n",
       "      <td>Married</td>\n",
       "      <td>$60K - $80K</td>\n",
       "      <td>Blue</td>\n",
       "      <td>21</td>\n",
       "      <td>5</td>\n",
       "      <td>1</td>\n",
       "      <td>0</td>\n",
       "      <td>4716.0</td>\n",
       "      <td>0</td>\n",
       "      <td>4716.0</td>\n",
       "      <td>816</td>\n",
       "      <td>28</td>\n",
       "      <td>0.000</td>\n",
       "    </tr>\n",
       "  </tbody>\n",
       "</table>\n",
       "</div>"
      ],
      "text/plain": [
       "   CLIENTNUM     Attrition_Flag  Customer_Age Gender  Dependent_count  \\\n",
       "0  768805383  Existing Customer            45      M                3   \n",
       "1  818770008  Existing Customer            49      F                5   \n",
       "2  713982108  Existing Customer            51      M                3   \n",
       "3  769911858  Existing Customer            40      F                4   \n",
       "4  709106358  Existing Customer            40      M                3   \n",
       "\n",
       "  Education_Level Marital_Status Income_Category Card_Category  \\\n",
       "0     High School        Married     $60K - $80K          Blue   \n",
       "1        Graduate         Single  Less than $40K          Blue   \n",
       "2        Graduate        Married    $80K - $120K          Blue   \n",
       "3     High School        Unknown  Less than $40K          Blue   \n",
       "4      Uneducated        Married     $60K - $80K          Blue   \n",
       "\n",
       "   Months_on_book  Total_Relationship_Count  Months_Inactive_12_mon  \\\n",
       "0              39                         5                       1   \n",
       "1              44                         6                       1   \n",
       "2              36                         4                       1   \n",
       "3              34                         3                       4   \n",
       "4              21                         5                       1   \n",
       "\n",
       "   Contacts_Count_12_mon  Credit_Limit  Total_Revolving_Bal  Avg_Open_To_Buy  \\\n",
       "0                      3       12691.0                  777          11914.0   \n",
       "1                      2        8256.0                  864           7392.0   \n",
       "2                      0        3418.0                    0           3418.0   \n",
       "3                      1        3313.0                 2517            796.0   \n",
       "4                      0        4716.0                    0           4716.0   \n",
       "\n",
       "   Total_Trans_Amt  Total_Trans_Ct  Avg_Utilization_Ratio  \n",
       "0             1144              42                  0.061  \n",
       "1             1291              33                  0.105  \n",
       "2             1887              20                  0.000  \n",
       "3             1171              20                  0.760  \n",
       "4              816              28                  0.000  "
      ]
     },
     "execution_count": 45,
     "metadata": {},
     "output_type": "execute_result"
    }
   ],
   "source": [
    "df.head()"
   ]
  },
  {
   "cell_type": "code",
   "execution_count": 46,
   "id": "298cbcb7",
   "metadata": {},
   "outputs": [
    {
     "data": {
      "image/png": "[encoded data removed]",
      "text/plain": [
       "<Figure size 720x432 with 1 Axes>"
      ]
     },
     "metadata": {},
     "output_type": "display_data"
    }
   ],
   "source": [
    "# Create age labels\n",
    "females = df[(df[\"Gender\"]==\"F\") & (df[\"Attrition_Flag\"]==\"Attrited Customer\")] # accessing the data using conditional statements where & is a bitwise operator \n",
    "bins =     [0,30, 40,   50, 60, 70]                                             # Create the bins\n",
    "labels =  [\"Young\", \"Adult\", \"Senior\", \"Super-Seinor\", \"old\"]                   # setting the labels for the bins \n",
    "data = pd.cut(females[\"Customer_Age\"], bins = bins, labels = labels)\n",
    "\n",
    "data = data.value_counts()                                                      # value count is counting the number of values in the column\n",
    "#pie, ax = plt.subplots(figsize = [10,6])\n",
    "plt.pie(x = data,explode = [0.02, 0.04, 0.03, 0,0] ,labels =data.index, pctdistance = 0.5) #autopct is used to present the percentage, explode is used to seprate the pie\n",
    "                                                                                            # pctdistance is the distance betweeen the percentage numbers on the pie\n",
    "plt.title(\"Female Age group Attrition\")\n",
    "plt.show()"
   ]
  },
  {
   "cell_type": "markdown",
   "id": "cf09ab63",
   "metadata": {},
   "source": [
    "# Interpretation: Senior women have higher churn followed by Super-Senior."
   ]
  },
  {
   "cell_type": "code",
   "execution_count": null,
   "id": "b02c611f",
   "metadata": {},
   "outputs": [],
   "source": []
  },
  {
   "cell_type": "markdown",
   "id": "6099d198",
   "metadata": {},
   "source": [
    "# 2. Analyze the churn of women customers based on their education levels. "
   ]
  },
  {
   "cell_type": "code",
   "execution_count": 47,
   "id": "2c326532",
   "metadata": {},
   "outputs": [
    {
     "data": {
      "image/png": "[encoded data removed]",
      "text/plain": [
       "<Figure size 720x432 with 1 Axes>"
      ]
     },
     "metadata": {},
     "output_type": "display_data"
    }
   ],
   "source": [
    "data = df[(df[\"Gender\"]==\"F\") & (df[\"Attrition_Flag\"]==\"Attrited Customer\")]\n",
    "\n",
    "data = data[\"Education_Level\"] \n",
    "data = data.value_counts()\n",
    "pie, ax = plt.subplots(figsize = [10,6])\n",
    "plt.pie(x = data,labels =data.index, pctdistance = 0.5) #autopct is used to present the percentage, explode is used to seprate the pie\n",
    "                                                                                            # pctdistance is the distance betweeen the percentage numbers on the pie\n",
    "plt.title(\"Female Age group Attrition\")\n",
    "plt.show()"
   ]
  },
  {
   "cell_type": "markdown",
   "id": "53cda15f",
   "metadata": {},
   "source": [
    "# Interpretation: Based on the education level, graduate females are churning out more compared to those who are post-graduate or doctorate. "
   ]
  },
  {
   "cell_type": "code",
   "execution_count": null,
   "id": "c1f68745",
   "metadata": {},
   "outputs": [],
   "source": []
  },
  {
   "cell_type": "markdown",
   "id": "43dc3468",
   "metadata": {},
   "source": [
    "# 3. Do you think the average total transaction amount of women who churned out is different from those who are still with the bank?"
   ]
  },
  {
   "cell_type": "code",
   "execution_count": 48,
   "id": "2824d605",
   "metadata": {},
   "outputs": [],
   "source": [
    "with_bank = df[(df[\"Gender\"] == \"F\") & (df[\"Attrition_Flag\"] == \"Existing Customer\")]\n",
    "left_bank = df[(df[\"Gender\"] == \"F\") & (df[\"Attrition_Flag\"] == \"Attrited Customer\")]\n",
    "with_bank_mean = with_bank[\"Total_Trans_Amt\"].mean()\n",
    "left_bank_mean = left_bank[\"Total_Trans_Amt\"].mean()"
   ]
  },
  {
   "cell_type": "code",
   "execution_count": 49,
   "id": "942747bb",
   "metadata": {},
   "outputs": [
    {
     "name": "stdout",
     "output_type": "stream",
     "text": [
      "Women who are with the bank their average transaction amount is 4650.579\n",
      "Women who left the bank their average transaction amount is 2792.6\n"
     ]
    }
   ],
   "source": [
    "print(f\"Women who are with the bank their average transaction amount is {round(with_bank_mean, 3)}\")\n",
    "print(f\"Women who left the bank their average transaction amount is {round(left_bank_mean,3)}\")"
   ]
  },
  {
   "cell_type": "code",
   "execution_count": 50,
   "id": "078b2a59",
   "metadata": {},
   "outputs": [
    {
     "data": {
      "image/png": "[encoded data removed]",
      "text/plain": [
       "<Figure size 720x432 with 1 Axes>"
      ]
     },
     "metadata": {},
     "output_type": "display_data"
    }
   ],
   "source": [
    "data = [4650, 2792]\n",
    "fig, ax = plt.subplots(figsize = [10,6])\n",
    "plt.pie(data, labels = [\"Existing Customers\", \"Attired Customers\"])\n",
    "plt.title(\"Difference of Transaction in women\")\n",
    "plt.show()"
   ]
  },
  {
   "cell_type": "markdown",
   "id": "bfdebf7e",
   "metadata": {},
   "source": [
    "# Interpretation: Yes, there is a difference in the transaction amount made by the women who are with the bank compared to the women who left the bank."
   ]
  },
  {
   "cell_type": "markdown",
   "id": "fb3954f6",
   "metadata": {},
   "source": [
    "# 4. Age-wise analysis of the customers whose dependent count is 2 or 3 (Existing and Churned out)"
   ]
  },
  {
   "cell_type": "code",
   "execution_count": 193,
   "id": "f98a4fe2",
   "metadata": {},
   "outputs": [
    {
     "data": {
      "image/png": "[encoded data removed]",
      "text/plain": [
       "<Figure size 1008x504 with 2 Axes>"
      ]
     },
     "metadata": {
      "needs_background": "light"
     },
     "output_type": "display_data"
    }
   ],
   "source": [
    "data = df[(df[\"Dependent_count\"] == 2) | (df[\"Dependent_count\"] == 3)]\n",
    "g = sns.FacetGrid(data, col = \"Dependent_count\", height = 7)\n",
    "g.map(sns.histplot, \"Customer_Age\")\n",
    "plt.show()"
   ]
  },
  {
   "cell_type": "markdown",
   "id": "cd3eeff2",
   "metadata": {},
   "source": [
    "###  More information is required to make a conclusion."
   ]
  },
  {
   "cell_type": "code",
   "execution_count": 195,
   "id": "c7bea9b7",
   "metadata": {},
   "outputs": [
    {
     "name": "stdout",
     "output_type": "stream",
     "text": [
      "46.32826972952945\n",
      "45.50257542310523\n"
     ]
    }
   ],
   "source": [
    "# checking for the average of the dependent count 2 and 3\n",
    "dep_2_mean = data[data[\"Dependent_count\"] == 2][\"Customer_Age\"].mean()\n",
    "dep_3_mean = data[data[\"Dependent_count\"] == 3][\"Customer_Age\"].mean()\n",
    "print(dep_2_mean)\n",
    "print(dep_3_mean)"
   ]
  },
  {
   "cell_type": "markdown",
   "id": "0f625324",
   "metadata": {},
   "source": [
    "# Interpretation: Most of the customers have the same age distribution based on their dependent counts."
   ]
  },
  {
   "cell_type": "markdown",
   "id": "bd728c5e",
   "metadata": {},
   "source": [
    "# 5. Is there any relation between the number of dependents (2 or 3) and the education level of customers who are existing and those who churned out?"
   ]
  },
  {
   "cell_type": "code",
   "execution_count": 196,
   "id": "90dfad58",
   "metadata": {},
   "outputs": [],
   "source": [
    "data = df[(df[\"Dependent_count\"] == 2) | (df[\"Dependent_count\"] == 3)]"
   ]
  },
  {
   "cell_type": "code",
   "execution_count": 202,
   "id": "0c005e36",
   "metadata": {},
   "outputs": [
    {
     "name": "stderr",
     "output_type": "stream",
     "text": [
      "c:\\users\\tess\\appdata\\local\\programs\\python\\python38\\lib\\site-packages\\seaborn\\axisgrid.py:643: UserWarning: Using the countplot function without specifying `order` is likely to produce an incorrect plot.\n",
      "  warnings.warn(warning)\n"
     ]
    },
    {
     "data": {
      "image/png": "[encoded data removed]",
      "text/plain": [
       "<Figure size 1008x504 with 2 Axes>"
      ]
     },
     "metadata": {
      "needs_background": "light"
     },
     "output_type": "display_data"
    }
   ],
   "source": [
    "g = sns.FacetGrid(data, col =\"Dependent_count\", height = 7)\n",
    "g.map(sns.countplot, \"Education_Level\")\n",
    "plt.show()"
   ]
  },
  {
   "cell_type": "markdown",
   "id": "b638f567",
   "metadata": {},
   "source": [
    "# Interpretation: The customers who have 2 dependents are usually high school and college pass outs, but those who have 3 dependents are graduates and high school pass outs. "
   ]
  },
  {
   "cell_type": "markdown",
   "id": "aad00e42",
   "metadata": {},
   "source": [
    "# 6. Do you think the column \"Average open to buy\" is affected by the dependent count (2 or 3)?"
   ]
  },
  {
   "cell_type": "code",
   "execution_count": 205,
   "id": "72dd3c97",
   "metadata": {
    "collapsed": true
   },
   "outputs": [
    {
     "data": {
      "image/png": "[encoded data removed]",
      "text/plain": [
       "<Figure size 1008x504 with 2 Axes>"
      ]
     },
     "metadata": {
      "needs_background": "light"
     },
     "output_type": "display_data"
    }
   ],
   "source": [
    "data = df[(df[\"Dependent_count\"] == 2) | (df[\"Dependent_count\"] == 3)]\n",
    "g = sns.FacetGrid(data, col = \"Dependent_count\", height = 7)\n",
    "g.map(sns.histplot, \"Avg_Open_To_Buy\")\n",
    "plt.show()"
   ]
  },
  {
   "cell_type": "markdown",
   "id": "99c35b08",
   "metadata": {},
   "source": [
    "####  More information is required to make a conclusion."
   ]
  },
  {
   "cell_type": "code",
   "execution_count": 206,
   "id": "19d1e216",
   "metadata": {},
   "outputs": [
    {
     "name": "stdout",
     "output_type": "stream",
     "text": [
      "3557.0\n",
      "3830.5\n"
     ]
    }
   ],
   "source": [
    "# checking for the average of the dependent count 2 and 3\n",
    "dep_2_median = data[data[\"Dependent_count\"] == 2][\"Avg_Open_To_Buy\"].median()\n",
    "dep_3_median = data[data[\"Dependent_count\"] == 3][\"Avg_Open_To_Buy\"].median()\n",
    "print(dep_2_median)\n",
    "print(dep_3_median)"
   ]
  },
  {
   "cell_type": "code",
   "execution_count": 208,
   "id": "1c1798d8",
   "metadata": {},
   "outputs": [
    {
     "data": {
      "image/png": "[encoded data removed]",
      "text/plain": [
       "<Figure size 720x432 with 1 Axes>"
      ]
     },
     "metadata": {},
     "output_type": "display_data"
    }
   ],
   "source": [
    "data = [3557, 3830]\n",
    "fig, ax = plt.subplots(figsize = [10,6])\n",
    "plt.pie(data, labels = [\"2 Dependents\", \"3 Dependents\"])\n",
    "plt.title(\"Difference of dependents\")\n",
    "plt.show()"
   ]
  },
  {
   "cell_type": "markdown",
   "id": "952264c3",
   "metadata": {},
   "source": [
    "# 7. Card category wise analysis of customers who are high school pass outs and churned out"
   ]
  },
  {
   "cell_type": "code",
   "execution_count": null,
   "id": "59ea4710",
   "metadata": {},
   "outputs": [],
   "source": []
  },
  {
   "cell_type": "code",
   "execution_count": null,
   "id": "e0bb9153",
   "metadata": {},
   "outputs": [],
   "source": []
  },
  {
   "cell_type": "markdown",
   "id": "637edd19",
   "metadata": {},
   "source": [
    "# 8. Income category wise breakdown of the customers who are high school pass outs and are still with the bank"
   ]
  },
  {
   "cell_type": "markdown",
   "id": "bcd884e1",
   "metadata": {},
   "source": [
    "# 9. Present the details of Total Transaction Amount of existing customers who are high school pass outs. "
   ]
  },
  {
   "cell_type": "markdown",
   "id": "da4ce342",
   "metadata": {},
   "source": [
    "# 10. Analysis of the education level of the customers who are with the bank and those who left"
   ]
  },
  {
   "cell_type": "markdown",
   "id": "118d058f",
   "metadata": {},
   "source": [
    "# 11. Analysis of Transaction Amount (mean, median, and mode) made by the existing customers and comparing it with those who are not existing"
   ]
  },
  {
   "cell_type": "markdown",
   "id": "df253c20",
   "metadata": {},
   "source": [
    "# 12. What is the average utilization ratio of the existing customers?"
   ]
  },
  {
   "cell_type": "markdown",
   "id": "11a46920",
   "metadata": {},
   "source": [
    "# 13. Analysis of the churned out customers who hold the blue card with respect to their income categories"
   ]
  },
  {
   "cell_type": "markdown",
   "id": "98bde9cd",
   "metadata": {},
   "source": [
    "# 14. Analysis of transaction amount (mean, median, mode) for blue card customers who are no longer with the bank and comparing it with the existing customers"
   ]
  },
  {
   "cell_type": "markdown",
   "id": "cef75892",
   "metadata": {},
   "source": [
    "# 15. How is the credit limit of the blue card customers affecting the churn?"
   ]
  },
  {
   "cell_type": "markdown",
   "id": "f4965e3c",
   "metadata": {},
   "source": [
    "# 16. Analysis of the dependent count with respect to the customers who have churned out and the customers who are still using the services"
   ]
  },
  {
   "cell_type": "markdown",
   "id": "2de17a6d",
   "metadata": {},
   "source": [
    "# 17. Is there a relation between the credit limit and the attrition of the customers?"
   ]
  },
  {
   "cell_type": "markdown",
   "id": "7d80494c",
   "metadata": {},
   "source": [
    "# 18. What is the average utilization ratio of the credit card for each age sub-group between 40 and 50? (We need to group the customers into 4 buckets between 40 and 50.)"
   ]
  },
  {
   "cell_type": "markdown",
   "id": "3fe81805",
   "metadata": {},
   "source": [
    "# 19. How are the education level and income category affecting the customer churn?"
   ]
  },
  {
   "cell_type": "markdown",
   "id": "f158842e",
   "metadata": {},
   "source": [
    "# 20. Identify the churned out customers with high income category, high education level, and high credit limit."
   ]
  },
  {
   "cell_type": "markdown",
   "id": "9f2f88de",
   "metadata": {},
   "source": [
    "# 21. Is there is a relation between the attrition and the age of customers who have a lower utilization ratio?"
   ]
  },
  {
   "cell_type": "markdown",
   "id": "8c936ada",
   "metadata": {},
   "source": [
    "# 22. Analysis of marital status and utilization ratio of the customers who are leaving out the bank versus those who are still with the bank"
   ]
  },
  {
   "cell_type": "markdown",
   "id": "5b1ee817",
   "metadata": {},
   "source": [
    "# 23. Is there a relation between the credit limit offered to the customers (having a lower utilization ratio) compared to those who are having a higher utilization ratio?"
   ]
  },
  {
   "cell_type": "code",
   "execution_count": null,
   "id": "3bf83e5f",
   "metadata": {},
   "outputs": [],
   "source": []
  },
  {
   "cell_type": "code",
   "execution_count": null,
   "id": "32e69430",
   "metadata": {},
   "outputs": [],
   "source": []
  },
  {
   "cell_type": "code",
   "execution_count": null,
   "id": "7594badb",
   "metadata": {},
   "outputs": [],
   "source": []
  }
 ],
 "metadata": {
  "kernelspec": {
   "display_name": "Python 3 (ipykernel)",
   "language": "python",
   "name": "python3"
  },
  "language_info": {
   "codemirror_mode": {
    "name": "ipython",
    "version": 3
   },
   "file_extension": ".py",
   "mimetype": "text/x-python",
   "name": "python",
   "nbconvert_exporter": "python",
   "pygments_lexer": "ipython3",
   "version": "3.10.2"
  }
 },
 "nbformat": 4,
 "nbformat_minor": 5
}
