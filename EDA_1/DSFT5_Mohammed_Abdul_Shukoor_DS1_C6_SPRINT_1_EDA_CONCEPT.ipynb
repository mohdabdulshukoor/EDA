{
 "cells": [
  {
   "cell_type": "code",
   "execution_count": 5,
   "id": "00b5295a",
   "metadata": {},
   "outputs": [],
   "source": [
    "import math\n",
    "import numpy as np\n",
    "import pandas as pd\n",
    "import matplotlib.pyplot as plt             \n",
    "from tabulate import tabulate               \n",
    "import matplotlib as mat                     \n",
    "import seaborn as sns                       "
   ]
  },
  {
   "cell_type": "code",
   "execution_count": 32,
   "id": "ac6ae6c7",
   "metadata": {},
   "outputs": [
    {
     "name": "stdout",
     "output_type": "stream",
     "text": [
      "Requirement already satisfied: tabulate in c:\\users\\admin\\appdata\\local\\programs\\python\\python310\\lib\\site-packages (0.8.9)\n"
     ]
    },
    {
     "name": "stderr",
     "output_type": "stream",
     "text": [
      "WARNING: You are using pip version 21.2.4; however, version 22.0.4 is available.\n",
      "You should consider upgrading via the 'C:\\Users\\ADMIN\\AppData\\Local\\Programs\\Python\\Python310\\python.exe -m pip install --upgrade pip' command.\n"
     ]
    }
   ],
   "source": [
    "!pip install tabulate"
   ]
  },
  {
   "cell_type": "markdown",
   "id": "dec1c080",
   "metadata": {},
   "source": [
    "## LEVEL 0 Analysis..."
   ]
  },
  {
   "cell_type": "code",
   "execution_count": 3,
   "id": "bcaa9ca7",
   "metadata": {
    "scrolled": true
   },
   "outputs": [
    {
     "data": {
      "text/html": [
       "<div>\n",
       "<style scoped>\n",
       "    .dataframe tbody tr th:only-of-type {\n",
       "        vertical-align: middle;\n",
       "    }\n",
       "\n",
       "    .dataframe tbody tr th {\n",
       "        vertical-align: top;\n",
       "    }\n",
       "\n",
       "    .dataframe thead th {\n",
       "        text-align: right;\n",
       "    }\n",
       "</style>\n",
       "<table border=\"1\" class=\"dataframe\">\n",
       "  <thead>\n",
       "    <tr style=\"text-align: right;\">\n",
       "      <th></th>\n",
       "      <th>CLIENTNUM</th>\n",
       "      <th>Attrition_Flag</th>\n",
       "      <th>Customer_Age</th>\n",
       "      <th>Gender</th>\n",
       "      <th>Dependent_count</th>\n",
       "      <th>Education_Level</th>\n",
       "      <th>Marital_Status</th>\n",
       "      <th>Income_Category</th>\n",
       "      <th>Card_Category</th>\n",
       "      <th>Months_on_book</th>\n",
       "      <th>Total_Relationship_Count</th>\n",
       "      <th>Months_Inactive_12_mon</th>\n",
       "      <th>Contacts_Count_12_mon</th>\n",
       "      <th>Credit_Limit</th>\n",
       "      <th>Total_Revolving_Bal</th>\n",
       "      <th>Avg_Open_To_Buy</th>\n",
       "      <th>Total_Trans_Amt</th>\n",
       "      <th>Total_Trans_Ct</th>\n",
       "      <th>Avg_Utilization_Ratio</th>\n",
       "    </tr>\n",
       "  </thead>\n",
       "  <tbody>\n",
       "    <tr>\n",
       "      <th>0</th>\n",
       "      <td>768805383</td>\n",
       "      <td>Existing Customer</td>\n",
       "      <td>45</td>\n",
       "      <td>M</td>\n",
       "      <td>3</td>\n",
       "      <td>High School</td>\n",
       "      <td>Married</td>\n",
       "      <td>$60K - $80K</td>\n",
       "      <td>Blue</td>\n",
       "      <td>39</td>\n",
       "      <td>5</td>\n",
       "      <td>1</td>\n",
       "      <td>3</td>\n",
       "      <td>12691.0</td>\n",
       "      <td>777</td>\n",
       "      <td>11914.0</td>\n",
       "      <td>1144</td>\n",
       "      <td>42</td>\n",
       "      <td>0.061</td>\n",
       "    </tr>\n",
       "    <tr>\n",
       "      <th>1</th>\n",
       "      <td>818770008</td>\n",
       "      <td>Existing Customer</td>\n",
       "      <td>49</td>\n",
       "      <td>F</td>\n",
       "      <td>5</td>\n",
       "      <td>Graduate</td>\n",
       "      <td>Single</td>\n",
       "      <td>Less than $40K</td>\n",
       "      <td>Blue</td>\n",
       "      <td>44</td>\n",
       "      <td>6</td>\n",
       "      <td>1</td>\n",
       "      <td>2</td>\n",
       "      <td>8256.0</td>\n",
       "      <td>864</td>\n",
       "      <td>7392.0</td>\n",
       "      <td>1291</td>\n",
       "      <td>33</td>\n",
       "      <td>0.105</td>\n",
       "    </tr>\n",
       "    <tr>\n",
       "      <th>2</th>\n",
       "      <td>713982108</td>\n",
       "      <td>Existing Customer</td>\n",
       "      <td>51</td>\n",
       "      <td>M</td>\n",
       "      <td>3</td>\n",
       "      <td>Graduate</td>\n",
       "      <td>Married</td>\n",
       "      <td>$80K - $120K</td>\n",
       "      <td>Blue</td>\n",
       "      <td>36</td>\n",
       "      <td>4</td>\n",
       "      <td>1</td>\n",
       "      <td>0</td>\n",
       "      <td>3418.0</td>\n",
       "      <td>0</td>\n",
       "      <td>3418.0</td>\n",
       "      <td>1887</td>\n",
       "      <td>20</td>\n",
       "      <td>0.000</td>\n",
       "    </tr>\n",
       "    <tr>\n",
       "      <th>3</th>\n",
       "      <td>769911858</td>\n",
       "      <td>Existing Customer</td>\n",
       "      <td>40</td>\n",
       "      <td>F</td>\n",
       "      <td>4</td>\n",
       "      <td>High School</td>\n",
       "      <td>Unknown</td>\n",
       "      <td>Less than $40K</td>\n",
       "      <td>Blue</td>\n",
       "      <td>34</td>\n",
       "      <td>3</td>\n",
       "      <td>4</td>\n",
       "      <td>1</td>\n",
       "      <td>3313.0</td>\n",
       "      <td>2517</td>\n",
       "      <td>796.0</td>\n",
       "      <td>1171</td>\n",
       "      <td>20</td>\n",
       "      <td>0.760</td>\n",
       "    </tr>\n",
       "    <tr>\n",
       "      <th>4</th>\n",
       "      <td>709106358</td>\n",
       "      <td>Existing Customer</td>\n",
       "      <td>40</td>\n",
       "      <td>M</td>\n",
       "      <td>3</td>\n",
       "      <td>Uneducated</td>\n",
       "      <td>Married</td>\n",
       "      <td>$60K - $80K</td>\n",
       "      <td>Blue</td>\n",
       "      <td>21</td>\n",
       "      <td>5</td>\n",
       "      <td>1</td>\n",
       "      <td>0</td>\n",
       "      <td>4716.0</td>\n",
       "      <td>0</td>\n",
       "      <td>4716.0</td>\n",
       "      <td>816</td>\n",
       "      <td>28</td>\n",
       "      <td>0.000</td>\n",
       "    </tr>\n",
       "    <tr>\n",
       "      <th>...</th>\n",
       "      <td>...</td>\n",
       "      <td>...</td>\n",
       "      <td>...</td>\n",
       "      <td>...</td>\n",
       "      <td>...</td>\n",
       "      <td>...</td>\n",
       "      <td>...</td>\n",
       "      <td>...</td>\n",
       "      <td>...</td>\n",
       "      <td>...</td>\n",
       "      <td>...</td>\n",
       "      <td>...</td>\n",
       "      <td>...</td>\n",
       "      <td>...</td>\n",
       "      <td>...</td>\n",
       "      <td>...</td>\n",
       "      <td>...</td>\n",
       "      <td>...</td>\n",
       "      <td>...</td>\n",
       "    </tr>\n",
       "    <tr>\n",
       "      <th>10122</th>\n",
       "      <td>772366833</td>\n",
       "      <td>Existing Customer</td>\n",
       "      <td>50</td>\n",
       "      <td>M</td>\n",
       "      <td>2</td>\n",
       "      <td>Graduate</td>\n",
       "      <td>Single</td>\n",
       "      <td>$40K - $60K</td>\n",
       "      <td>Blue</td>\n",
       "      <td>40</td>\n",
       "      <td>3</td>\n",
       "      <td>2</td>\n",
       "      <td>3</td>\n",
       "      <td>4003.0</td>\n",
       "      <td>1851</td>\n",
       "      <td>2152.0</td>\n",
       "      <td>15476</td>\n",
       "      <td>117</td>\n",
       "      <td>0.462</td>\n",
       "    </tr>\n",
       "    <tr>\n",
       "      <th>10123</th>\n",
       "      <td>710638233</td>\n",
       "      <td>Attrited Customer</td>\n",
       "      <td>41</td>\n",
       "      <td>M</td>\n",
       "      <td>2</td>\n",
       "      <td>Unknown</td>\n",
       "      <td>Divorced</td>\n",
       "      <td>$40K - $60K</td>\n",
       "      <td>Blue</td>\n",
       "      <td>25</td>\n",
       "      <td>4</td>\n",
       "      <td>2</td>\n",
       "      <td>3</td>\n",
       "      <td>4277.0</td>\n",
       "      <td>2186</td>\n",
       "      <td>2091.0</td>\n",
       "      <td>8764</td>\n",
       "      <td>69</td>\n",
       "      <td>0.511</td>\n",
       "    </tr>\n",
       "    <tr>\n",
       "      <th>10124</th>\n",
       "      <td>716506083</td>\n",
       "      <td>Attrited Customer</td>\n",
       "      <td>44</td>\n",
       "      <td>F</td>\n",
       "      <td>1</td>\n",
       "      <td>High School</td>\n",
       "      <td>Married</td>\n",
       "      <td>Less than $40K</td>\n",
       "      <td>Blue</td>\n",
       "      <td>36</td>\n",
       "      <td>5</td>\n",
       "      <td>3</td>\n",
       "      <td>4</td>\n",
       "      <td>5409.0</td>\n",
       "      <td>0</td>\n",
       "      <td>5409.0</td>\n",
       "      <td>10291</td>\n",
       "      <td>60</td>\n",
       "      <td>0.000</td>\n",
       "    </tr>\n",
       "    <tr>\n",
       "      <th>10125</th>\n",
       "      <td>717406983</td>\n",
       "      <td>Attrited Customer</td>\n",
       "      <td>30</td>\n",
       "      <td>M</td>\n",
       "      <td>2</td>\n",
       "      <td>Graduate</td>\n",
       "      <td>Unknown</td>\n",
       "      <td>$40K - $60K</td>\n",
       "      <td>Blue</td>\n",
       "      <td>36</td>\n",
       "      <td>4</td>\n",
       "      <td>3</td>\n",
       "      <td>3</td>\n",
       "      <td>5281.0</td>\n",
       "      <td>0</td>\n",
       "      <td>5281.0</td>\n",
       "      <td>8395</td>\n",
       "      <td>62</td>\n",
       "      <td>0.000</td>\n",
       "    </tr>\n",
       "    <tr>\n",
       "      <th>10126</th>\n",
       "      <td>714337233</td>\n",
       "      <td>Attrited Customer</td>\n",
       "      <td>43</td>\n",
       "      <td>F</td>\n",
       "      <td>2</td>\n",
       "      <td>Graduate</td>\n",
       "      <td>Married</td>\n",
       "      <td>Less than $40K</td>\n",
       "      <td>Silver</td>\n",
       "      <td>25</td>\n",
       "      <td>6</td>\n",
       "      <td>2</td>\n",
       "      <td>4</td>\n",
       "      <td>10388.0</td>\n",
       "      <td>1961</td>\n",
       "      <td>8427.0</td>\n",
       "      <td>10294</td>\n",
       "      <td>61</td>\n",
       "      <td>0.189</td>\n",
       "    </tr>\n",
       "  </tbody>\n",
       "</table>\n",
       "<p>10127 rows × 19 columns</p>\n",
       "</div>"
      ],
      "text/plain": [
       "       CLIENTNUM     Attrition_Flag  Customer_Age Gender  Dependent_count  \\\n",
       "0      768805383  Existing Customer            45      M                3   \n",
       "1      818770008  Existing Customer            49      F                5   \n",
       "2      713982108  Existing Customer            51      M                3   \n",
       "3      769911858  Existing Customer            40      F                4   \n",
       "4      709106358  Existing Customer            40      M                3   \n",
       "...          ...                ...           ...    ...              ...   \n",
       "10122  772366833  Existing Customer            50      M                2   \n",
       "10123  710638233  Attrited Customer            41      M                2   \n",
       "10124  716506083  Attrited Customer            44      F                1   \n",
       "10125  717406983  Attrited Customer            30      M                2   \n",
       "10126  714337233  Attrited Customer            43      F                2   \n",
       "\n",
       "      Education_Level Marital_Status Income_Category Card_Category  \\\n",
       "0         High School        Married     $60K - $80K          Blue   \n",
       "1            Graduate         Single  Less than $40K          Blue   \n",
       "2            Graduate        Married    $80K - $120K          Blue   \n",
       "3         High School        Unknown  Less than $40K          Blue   \n",
       "4          Uneducated        Married     $60K - $80K          Blue   \n",
       "...               ...            ...             ...           ...   \n",
       "10122        Graduate         Single     $40K - $60K          Blue   \n",
       "10123         Unknown       Divorced     $40K - $60K          Blue   \n",
       "10124     High School        Married  Less than $40K          Blue   \n",
       "10125        Graduate        Unknown     $40K - $60K          Blue   \n",
       "10126        Graduate        Married  Less than $40K        Silver   \n",
       "\n",
       "       Months_on_book  Total_Relationship_Count  Months_Inactive_12_mon  \\\n",
       "0                  39                         5                       1   \n",
       "1                  44                         6                       1   \n",
       "2                  36                         4                       1   \n",
       "3                  34                         3                       4   \n",
       "4                  21                         5                       1   \n",
       "...               ...                       ...                     ...   \n",
       "10122              40                         3                       2   \n",
       "10123              25                         4                       2   \n",
       "10124              36                         5                       3   \n",
       "10125              36                         4                       3   \n",
       "10126              25                         6                       2   \n",
       "\n",
       "       Contacts_Count_12_mon  Credit_Limit  Total_Revolving_Bal  \\\n",
       "0                          3       12691.0                  777   \n",
       "1                          2        8256.0                  864   \n",
       "2                          0        3418.0                    0   \n",
       "3                          1        3313.0                 2517   \n",
       "4                          0        4716.0                    0   \n",
       "...                      ...           ...                  ...   \n",
       "10122                      3        4003.0                 1851   \n",
       "10123                      3        4277.0                 2186   \n",
       "10124                      4        5409.0                    0   \n",
       "10125                      3        5281.0                    0   \n",
       "10126                      4       10388.0                 1961   \n",
       "\n",
       "       Avg_Open_To_Buy  Total_Trans_Amt  Total_Trans_Ct  Avg_Utilization_Ratio  \n",
       "0              11914.0             1144              42                  0.061  \n",
       "1               7392.0             1291              33                  0.105  \n",
       "2               3418.0             1887              20                  0.000  \n",
       "3                796.0             1171              20                  0.760  \n",
       "4               4716.0              816              28                  0.000  \n",
       "...                ...              ...             ...                    ...  \n",
       "10122           2152.0            15476             117                  0.462  \n",
       "10123           2091.0             8764              69                  0.511  \n",
       "10124           5409.0            10291              60                  0.000  \n",
       "10125           5281.0             8395              62                  0.000  \n",
       "10126           8427.0            10294              61                  0.189  \n",
       "\n",
       "[10127 rows x 19 columns]"
      ]
     },
     "execution_count": 3,
     "metadata": {},
     "output_type": "execute_result"
    }
   ],
   "source": [
    "df=pd.read_csv(\"data.csv\")\n",
    "df"
   ]
  },
  {
   "cell_type": "code",
   "execution_count": 34,
   "id": "4e16850e",
   "metadata": {},
   "outputs": [
    {
     "data": {
      "text/plain": [
       "(10127, 19)"
      ]
     },
     "execution_count": 34,
     "metadata": {},
     "output_type": "execute_result"
    }
   ],
   "source": [
    "df.shape\n",
    "#no. of rows / no. of columns..."
   ]
  },
  {
   "cell_type": "code",
   "execution_count": 35,
   "id": "b986a1da",
   "metadata": {},
   "outputs": [
    {
     "data": {
      "text/html": [
       "<div>\n",
       "<style scoped>\n",
       "    .dataframe tbody tr th:only-of-type {\n",
       "        vertical-align: middle;\n",
       "    }\n",
       "\n",
       "    .dataframe tbody tr th {\n",
       "        vertical-align: top;\n",
       "    }\n",
       "\n",
       "    .dataframe thead th {\n",
       "        text-align: right;\n",
       "    }\n",
       "</style>\n",
       "<table border=\"1\" class=\"dataframe\">\n",
       "  <thead>\n",
       "    <tr style=\"text-align: right;\">\n",
       "      <th></th>\n",
       "      <th>CLIENTNUM</th>\n",
       "      <th>Attrition_Flag</th>\n",
       "      <th>Customer_Age</th>\n",
       "      <th>Gender</th>\n",
       "      <th>Dependent_count</th>\n",
       "      <th>Education_Level</th>\n",
       "      <th>Marital_Status</th>\n",
       "      <th>Income_Category</th>\n",
       "      <th>Card_Category</th>\n",
       "      <th>Months_on_book</th>\n",
       "      <th>Total_Relationship_Count</th>\n",
       "      <th>Months_Inactive_12_mon</th>\n",
       "      <th>Contacts_Count_12_mon</th>\n",
       "      <th>Credit_Limit</th>\n",
       "      <th>Total_Revolving_Bal</th>\n",
       "      <th>Avg_Open_To_Buy</th>\n",
       "      <th>Total_Trans_Amt</th>\n",
       "      <th>Total_Trans_Ct</th>\n",
       "      <th>Avg_Utilization_Ratio</th>\n",
       "    </tr>\n",
       "  </thead>\n",
       "  <tbody>\n",
       "    <tr>\n",
       "      <th>0</th>\n",
       "      <td>768805383</td>\n",
       "      <td>Existing Customer</td>\n",
       "      <td>45</td>\n",
       "      <td>M</td>\n",
       "      <td>3</td>\n",
       "      <td>High School</td>\n",
       "      <td>Married</td>\n",
       "      <td>$60K - $80K</td>\n",
       "      <td>Blue</td>\n",
       "      <td>39</td>\n",
       "      <td>5</td>\n",
       "      <td>1</td>\n",
       "      <td>3</td>\n",
       "      <td>12691.0</td>\n",
       "      <td>777</td>\n",
       "      <td>11914.0</td>\n",
       "      <td>1144</td>\n",
       "      <td>42</td>\n",
       "      <td>0.061</td>\n",
       "    </tr>\n",
       "    <tr>\n",
       "      <th>1</th>\n",
       "      <td>818770008</td>\n",
       "      <td>Existing Customer</td>\n",
       "      <td>49</td>\n",
       "      <td>F</td>\n",
       "      <td>5</td>\n",
       "      <td>Graduate</td>\n",
       "      <td>Single</td>\n",
       "      <td>Less than $40K</td>\n",
       "      <td>Blue</td>\n",
       "      <td>44</td>\n",
       "      <td>6</td>\n",
       "      <td>1</td>\n",
       "      <td>2</td>\n",
       "      <td>8256.0</td>\n",
       "      <td>864</td>\n",
       "      <td>7392.0</td>\n",
       "      <td>1291</td>\n",
       "      <td>33</td>\n",
       "      <td>0.105</td>\n",
       "    </tr>\n",
       "    <tr>\n",
       "      <th>2</th>\n",
       "      <td>713982108</td>\n",
       "      <td>Existing Customer</td>\n",
       "      <td>51</td>\n",
       "      <td>M</td>\n",
       "      <td>3</td>\n",
       "      <td>Graduate</td>\n",
       "      <td>Married</td>\n",
       "      <td>$80K - $120K</td>\n",
       "      <td>Blue</td>\n",
       "      <td>36</td>\n",
       "      <td>4</td>\n",
       "      <td>1</td>\n",
       "      <td>0</td>\n",
       "      <td>3418.0</td>\n",
       "      <td>0</td>\n",
       "      <td>3418.0</td>\n",
       "      <td>1887</td>\n",
       "      <td>20</td>\n",
       "      <td>0.000</td>\n",
       "    </tr>\n",
       "    <tr>\n",
       "      <th>3</th>\n",
       "      <td>769911858</td>\n",
       "      <td>Existing Customer</td>\n",
       "      <td>40</td>\n",
       "      <td>F</td>\n",
       "      <td>4</td>\n",
       "      <td>High School</td>\n",
       "      <td>Unknown</td>\n",
       "      <td>Less than $40K</td>\n",
       "      <td>Blue</td>\n",
       "      <td>34</td>\n",
       "      <td>3</td>\n",
       "      <td>4</td>\n",
       "      <td>1</td>\n",
       "      <td>3313.0</td>\n",
       "      <td>2517</td>\n",
       "      <td>796.0</td>\n",
       "      <td>1171</td>\n",
       "      <td>20</td>\n",
       "      <td>0.760</td>\n",
       "    </tr>\n",
       "    <tr>\n",
       "      <th>4</th>\n",
       "      <td>709106358</td>\n",
       "      <td>Existing Customer</td>\n",
       "      <td>40</td>\n",
       "      <td>M</td>\n",
       "      <td>3</td>\n",
       "      <td>Uneducated</td>\n",
       "      <td>Married</td>\n",
       "      <td>$60K - $80K</td>\n",
       "      <td>Blue</td>\n",
       "      <td>21</td>\n",
       "      <td>5</td>\n",
       "      <td>1</td>\n",
       "      <td>0</td>\n",
       "      <td>4716.0</td>\n",
       "      <td>0</td>\n",
       "      <td>4716.0</td>\n",
       "      <td>816</td>\n",
       "      <td>28</td>\n",
       "      <td>0.000</td>\n",
       "    </tr>\n",
       "  </tbody>\n",
       "</table>\n",
       "</div>"
      ],
      "text/plain": [
       "   CLIENTNUM     Attrition_Flag  Customer_Age Gender  Dependent_count  \\\n",
       "0  768805383  Existing Customer            45      M                3   \n",
       "1  818770008  Existing Customer            49      F                5   \n",
       "2  713982108  Existing Customer            51      M                3   \n",
       "3  769911858  Existing Customer            40      F                4   \n",
       "4  709106358  Existing Customer            40      M                3   \n",
       "\n",
       "  Education_Level Marital_Status Income_Category Card_Category  \\\n",
       "0     High School        Married     $60K - $80K          Blue   \n",
       "1        Graduate         Single  Less than $40K          Blue   \n",
       "2        Graduate        Married    $80K - $120K          Blue   \n",
       "3     High School        Unknown  Less than $40K          Blue   \n",
       "4      Uneducated        Married     $60K - $80K          Blue   \n",
       "\n",
       "   Months_on_book  Total_Relationship_Count  Months_Inactive_12_mon  \\\n",
       "0              39                         5                       1   \n",
       "1              44                         6                       1   \n",
       "2              36                         4                       1   \n",
       "3              34                         3                       4   \n",
       "4              21                         5                       1   \n",
       "\n",
       "   Contacts_Count_12_mon  Credit_Limit  Total_Revolving_Bal  Avg_Open_To_Buy  \\\n",
       "0                      3       12691.0                  777          11914.0   \n",
       "1                      2        8256.0                  864           7392.0   \n",
       "2                      0        3418.0                    0           3418.0   \n",
       "3                      1        3313.0                 2517            796.0   \n",
       "4                      0        4716.0                    0           4716.0   \n",
       "\n",
       "   Total_Trans_Amt  Total_Trans_Ct  Avg_Utilization_Ratio  \n",
       "0             1144              42                  0.061  \n",
       "1             1291              33                  0.105  \n",
       "2             1887              20                  0.000  \n",
       "3             1171              20                  0.760  \n",
       "4              816              28                  0.000  "
      ]
     },
     "execution_count": 35,
     "metadata": {},
     "output_type": "execute_result"
    }
   ],
   "source": [
    "df.head()\n",
    "#first 5..."
   ]
  },
  {
   "cell_type": "code",
   "execution_count": 36,
   "id": "3d38aa96",
   "metadata": {},
   "outputs": [
    {
     "data": {
      "text/html": [
       "<div>\n",
       "<style scoped>\n",
       "    .dataframe tbody tr th:only-of-type {\n",
       "        vertical-align: middle;\n",
       "    }\n",
       "\n",
       "    .dataframe tbody tr th {\n",
       "        vertical-align: top;\n",
       "    }\n",
       "\n",
       "    .dataframe thead th {\n",
       "        text-align: right;\n",
       "    }\n",
       "</style>\n",
       "<table border=\"1\" class=\"dataframe\">\n",
       "  <thead>\n",
       "    <tr style=\"text-align: right;\">\n",
       "      <th></th>\n",
       "      <th>CLIENTNUM</th>\n",
       "      <th>Attrition_Flag</th>\n",
       "      <th>Customer_Age</th>\n",
       "      <th>Gender</th>\n",
       "      <th>Dependent_count</th>\n",
       "      <th>Education_Level</th>\n",
       "      <th>Marital_Status</th>\n",
       "      <th>Income_Category</th>\n",
       "      <th>Card_Category</th>\n",
       "      <th>Months_on_book</th>\n",
       "      <th>Total_Relationship_Count</th>\n",
       "      <th>Months_Inactive_12_mon</th>\n",
       "      <th>Contacts_Count_12_mon</th>\n",
       "      <th>Credit_Limit</th>\n",
       "      <th>Total_Revolving_Bal</th>\n",
       "      <th>Avg_Open_To_Buy</th>\n",
       "      <th>Total_Trans_Amt</th>\n",
       "      <th>Total_Trans_Ct</th>\n",
       "      <th>Avg_Utilization_Ratio</th>\n",
       "    </tr>\n",
       "  </thead>\n",
       "  <tbody>\n",
       "    <tr>\n",
       "      <th>10122</th>\n",
       "      <td>772366833</td>\n",
       "      <td>Existing Customer</td>\n",
       "      <td>50</td>\n",
       "      <td>M</td>\n",
       "      <td>2</td>\n",
       "      <td>Graduate</td>\n",
       "      <td>Single</td>\n",
       "      <td>$40K - $60K</td>\n",
       "      <td>Blue</td>\n",
       "      <td>40</td>\n",
       "      <td>3</td>\n",
       "      <td>2</td>\n",
       "      <td>3</td>\n",
       "      <td>4003.0</td>\n",
       "      <td>1851</td>\n",
       "      <td>2152.0</td>\n",
       "      <td>15476</td>\n",
       "      <td>117</td>\n",
       "      <td>0.462</td>\n",
       "    </tr>\n",
       "    <tr>\n",
       "      <th>10123</th>\n",
       "      <td>710638233</td>\n",
       "      <td>Attrited Customer</td>\n",
       "      <td>41</td>\n",
       "      <td>M</td>\n",
       "      <td>2</td>\n",
       "      <td>Unknown</td>\n",
       "      <td>Divorced</td>\n",
       "      <td>$40K - $60K</td>\n",
       "      <td>Blue</td>\n",
       "      <td>25</td>\n",
       "      <td>4</td>\n",
       "      <td>2</td>\n",
       "      <td>3</td>\n",
       "      <td>4277.0</td>\n",
       "      <td>2186</td>\n",
       "      <td>2091.0</td>\n",
       "      <td>8764</td>\n",
       "      <td>69</td>\n",
       "      <td>0.511</td>\n",
       "    </tr>\n",
       "    <tr>\n",
       "      <th>10124</th>\n",
       "      <td>716506083</td>\n",
       "      <td>Attrited Customer</td>\n",
       "      <td>44</td>\n",
       "      <td>F</td>\n",
       "      <td>1</td>\n",
       "      <td>High School</td>\n",
       "      <td>Married</td>\n",
       "      <td>Less than $40K</td>\n",
       "      <td>Blue</td>\n",
       "      <td>36</td>\n",
       "      <td>5</td>\n",
       "      <td>3</td>\n",
       "      <td>4</td>\n",
       "      <td>5409.0</td>\n",
       "      <td>0</td>\n",
       "      <td>5409.0</td>\n",
       "      <td>10291</td>\n",
       "      <td>60</td>\n",
       "      <td>0.000</td>\n",
       "    </tr>\n",
       "    <tr>\n",
       "      <th>10125</th>\n",
       "      <td>717406983</td>\n",
       "      <td>Attrited Customer</td>\n",
       "      <td>30</td>\n",
       "      <td>M</td>\n",
       "      <td>2</td>\n",
       "      <td>Graduate</td>\n",
       "      <td>Unknown</td>\n",
       "      <td>$40K - $60K</td>\n",
       "      <td>Blue</td>\n",
       "      <td>36</td>\n",
       "      <td>4</td>\n",
       "      <td>3</td>\n",
       "      <td>3</td>\n",
       "      <td>5281.0</td>\n",
       "      <td>0</td>\n",
       "      <td>5281.0</td>\n",
       "      <td>8395</td>\n",
       "      <td>62</td>\n",
       "      <td>0.000</td>\n",
       "    </tr>\n",
       "    <tr>\n",
       "      <th>10126</th>\n",
       "      <td>714337233</td>\n",
       "      <td>Attrited Customer</td>\n",
       "      <td>43</td>\n",
       "      <td>F</td>\n",
       "      <td>2</td>\n",
       "      <td>Graduate</td>\n",
       "      <td>Married</td>\n",
       "      <td>Less than $40K</td>\n",
       "      <td>Silver</td>\n",
       "      <td>25</td>\n",
       "      <td>6</td>\n",
       "      <td>2</td>\n",
       "      <td>4</td>\n",
       "      <td>10388.0</td>\n",
       "      <td>1961</td>\n",
       "      <td>8427.0</td>\n",
       "      <td>10294</td>\n",
       "      <td>61</td>\n",
       "      <td>0.189</td>\n",
       "    </tr>\n",
       "  </tbody>\n",
       "</table>\n",
       "</div>"
      ],
      "text/plain": [
       "       CLIENTNUM     Attrition_Flag  Customer_Age Gender  Dependent_count  \\\n",
       "10122  772366833  Existing Customer            50      M                2   \n",
       "10123  710638233  Attrited Customer            41      M                2   \n",
       "10124  716506083  Attrited Customer            44      F                1   \n",
       "10125  717406983  Attrited Customer            30      M                2   \n",
       "10126  714337233  Attrited Customer            43      F                2   \n",
       "\n",
       "      Education_Level Marital_Status Income_Category Card_Category  \\\n",
       "10122        Graduate         Single     $40K - $60K          Blue   \n",
       "10123         Unknown       Divorced     $40K - $60K          Blue   \n",
       "10124     High School        Married  Less than $40K          Blue   \n",
       "10125        Graduate        Unknown     $40K - $60K          Blue   \n",
       "10126        Graduate        Married  Less than $40K        Silver   \n",
       "\n",
       "       Months_on_book  Total_Relationship_Count  Months_Inactive_12_mon  \\\n",
       "10122              40                         3                       2   \n",
       "10123              25                         4                       2   \n",
       "10124              36                         5                       3   \n",
       "10125              36                         4                       3   \n",
       "10126              25                         6                       2   \n",
       "\n",
       "       Contacts_Count_12_mon  Credit_Limit  Total_Revolving_Bal  \\\n",
       "10122                      3        4003.0                 1851   \n",
       "10123                      3        4277.0                 2186   \n",
       "10124                      4        5409.0                    0   \n",
       "10125                      3        5281.0                    0   \n",
       "10126                      4       10388.0                 1961   \n",
       "\n",
       "       Avg_Open_To_Buy  Total_Trans_Amt  Total_Trans_Ct  Avg_Utilization_Ratio  \n",
       "10122           2152.0            15476             117                  0.462  \n",
       "10123           2091.0             8764              69                  0.511  \n",
       "10124           5409.0            10291              60                  0.000  \n",
       "10125           5281.0             8395              62                  0.000  \n",
       "10126           8427.0            10294              61                  0.189  "
      ]
     },
     "execution_count": 36,
     "metadata": {},
     "output_type": "execute_result"
    }
   ],
   "source": [
    "df.tail()\n",
    "#last 5..."
   ]
  },
  {
   "cell_type": "code",
   "execution_count": 37,
   "id": "c0453552",
   "metadata": {},
   "outputs": [
    {
     "data": {
      "text/plain": [
       "Index(['CLIENTNUM', 'Attrition_Flag', 'Customer_Age', 'Gender',\n",
       "       'Dependent_count', 'Education_Level', 'Marital_Status',\n",
       "       'Income_Category', 'Card_Category', 'Months_on_book',\n",
       "       'Total_Relationship_Count', 'Months_Inactive_12_mon',\n",
       "       'Contacts_Count_12_mon', 'Credit_Limit', 'Total_Revolving_Bal',\n",
       "       'Avg_Open_To_Buy', 'Total_Trans_Amt', 'Total_Trans_Ct',\n",
       "       'Avg_Utilization_Ratio'],\n",
       "      dtype='object')"
      ]
     },
     "execution_count": 37,
     "metadata": {},
     "output_type": "execute_result"
    }
   ],
   "source": [
    "df.columns\n",
    "#which gives you all columns..."
   ]
  },
  {
   "cell_type": "code",
   "execution_count": 38,
   "id": "2759e6ac",
   "metadata": {},
   "outputs": [
    {
     "name": "stdout",
     "output_type": "stream",
     "text": [
      "<class 'pandas.core.frame.DataFrame'>\n",
      "RangeIndex: 10127 entries, 0 to 10126\n",
      "Data columns (total 19 columns):\n",
      " #   Column                    Non-Null Count  Dtype  \n",
      "---  ------                    --------------  -----  \n",
      " 0   CLIENTNUM                 10127 non-null  int64  \n",
      " 1   Attrition_Flag            10127 non-null  object \n",
      " 2   Customer_Age              10127 non-null  int64  \n",
      " 3   Gender                    10034 non-null  object \n",
      " 4   Dependent_count           10127 non-null  int64  \n",
      " 5   Education_Level           10127 non-null  object \n",
      " 6   Marital_Status            10127 non-null  object \n",
      " 7   Income_Category           10127 non-null  object \n",
      " 8   Card_Category             9995 non-null   object \n",
      " 9   Months_on_book            10127 non-null  int64  \n",
      " 10  Total_Relationship_Count  10127 non-null  int64  \n",
      " 11  Months_Inactive_12_mon    10127 non-null  int64  \n",
      " 12  Contacts_Count_12_mon     10127 non-null  int64  \n",
      " 13  Credit_Limit              10067 non-null  float64\n",
      " 14  Total_Revolving_Bal       10127 non-null  int64  \n",
      " 15  Avg_Open_To_Buy           10127 non-null  float64\n",
      " 16  Total_Trans_Amt           10127 non-null  int64  \n",
      " 17  Total_Trans_Ct            10127 non-null  int64  \n",
      " 18  Avg_Utilization_Ratio     10127 non-null  float64\n",
      "dtypes: float64(3), int64(10), object(6)\n",
      "memory usage: 1.5+ MB\n"
     ]
    }
   ],
   "source": [
    "df.info()\n",
    "#complete data details..."
   ]
  },
  {
   "cell_type": "code",
   "execution_count": 39,
   "id": "33e5efd5",
   "metadata": {},
   "outputs": [
    {
     "data": {
      "text/html": [
       "<div>\n",
       "<style scoped>\n",
       "    .dataframe tbody tr th:only-of-type {\n",
       "        vertical-align: middle;\n",
       "    }\n",
       "\n",
       "    .dataframe tbody tr th {\n",
       "        vertical-align: top;\n",
       "    }\n",
       "\n",
       "    .dataframe thead th {\n",
       "        text-align: right;\n",
       "    }\n",
       "</style>\n",
       "<table border=\"1\" class=\"dataframe\">\n",
       "  <thead>\n",
       "    <tr style=\"text-align: right;\">\n",
       "      <th></th>\n",
       "      <th>CLIENTNUM</th>\n",
       "      <th>Customer_Age</th>\n",
       "      <th>Dependent_count</th>\n",
       "      <th>Months_on_book</th>\n",
       "      <th>Total_Relationship_Count</th>\n",
       "      <th>Months_Inactive_12_mon</th>\n",
       "      <th>Contacts_Count_12_mon</th>\n",
       "      <th>Credit_Limit</th>\n",
       "      <th>Total_Revolving_Bal</th>\n",
       "      <th>Avg_Open_To_Buy</th>\n",
       "      <th>Total_Trans_Amt</th>\n",
       "      <th>Total_Trans_Ct</th>\n",
       "      <th>Avg_Utilization_Ratio</th>\n",
       "    </tr>\n",
       "  </thead>\n",
       "  <tbody>\n",
       "    <tr>\n",
       "      <th>count</th>\n",
       "      <td>1.012700e+04</td>\n",
       "      <td>10127.000000</td>\n",
       "      <td>10127.000000</td>\n",
       "      <td>10127.000000</td>\n",
       "      <td>10127.000000</td>\n",
       "      <td>10127.000000</td>\n",
       "      <td>10127.000000</td>\n",
       "      <td>10067.000000</td>\n",
       "      <td>10127.000000</td>\n",
       "      <td>10127.000000</td>\n",
       "      <td>10127.000000</td>\n",
       "      <td>10127.000000</td>\n",
       "      <td>10127.000000</td>\n",
       "    </tr>\n",
       "    <tr>\n",
       "      <th>mean</th>\n",
       "      <td>7.391776e+08</td>\n",
       "      <td>47.285277</td>\n",
       "      <td>2.787400</td>\n",
       "      <td>35.928409</td>\n",
       "      <td>3.812580</td>\n",
       "      <td>2.341167</td>\n",
       "      <td>2.455317</td>\n",
       "      <td>8703.180550</td>\n",
       "      <td>1162.814061</td>\n",
       "      <td>7469.139637</td>\n",
       "      <td>4404.086304</td>\n",
       "      <td>64.858695</td>\n",
       "      <td>0.274894</td>\n",
       "    </tr>\n",
       "    <tr>\n",
       "      <th>std</th>\n",
       "      <td>3.690378e+07</td>\n",
       "      <td>13.270923</td>\n",
       "      <td>6.479135</td>\n",
       "      <td>7.986416</td>\n",
       "      <td>1.554408</td>\n",
       "      <td>1.010622</td>\n",
       "      <td>1.106225</td>\n",
       "      <td>9190.058902</td>\n",
       "      <td>814.987335</td>\n",
       "      <td>9090.685324</td>\n",
       "      <td>3397.129254</td>\n",
       "      <td>23.472570</td>\n",
       "      <td>0.275691</td>\n",
       "    </tr>\n",
       "    <tr>\n",
       "      <th>min</th>\n",
       "      <td>7.080821e+08</td>\n",
       "      <td>26.000000</td>\n",
       "      <td>0.000000</td>\n",
       "      <td>13.000000</td>\n",
       "      <td>1.000000</td>\n",
       "      <td>0.000000</td>\n",
       "      <td>0.000000</td>\n",
       "      <td>1438.300000</td>\n",
       "      <td>0.000000</td>\n",
       "      <td>3.000000</td>\n",
       "      <td>510.000000</td>\n",
       "      <td>10.000000</td>\n",
       "      <td>0.000000</td>\n",
       "    </tr>\n",
       "    <tr>\n",
       "      <th>25%</th>\n",
       "      <td>7.130368e+08</td>\n",
       "      <td>41.000000</td>\n",
       "      <td>1.000000</td>\n",
       "      <td>31.000000</td>\n",
       "      <td>3.000000</td>\n",
       "      <td>2.000000</td>\n",
       "      <td>2.000000</td>\n",
       "      <td>2555.500000</td>\n",
       "      <td>359.000000</td>\n",
       "      <td>1324.500000</td>\n",
       "      <td>2155.500000</td>\n",
       "      <td>45.000000</td>\n",
       "      <td>0.023000</td>\n",
       "    </tr>\n",
       "    <tr>\n",
       "      <th>50%</th>\n",
       "      <td>7.179264e+08</td>\n",
       "      <td>46.000000</td>\n",
       "      <td>2.000000</td>\n",
       "      <td>36.000000</td>\n",
       "      <td>4.000000</td>\n",
       "      <td>2.000000</td>\n",
       "      <td>2.000000</td>\n",
       "      <td>4557.000000</td>\n",
       "      <td>1276.000000</td>\n",
       "      <td>3474.000000</td>\n",
       "      <td>3899.000000</td>\n",
       "      <td>67.000000</td>\n",
       "      <td>0.176000</td>\n",
       "    </tr>\n",
       "    <tr>\n",
       "      <th>75%</th>\n",
       "      <td>7.731435e+08</td>\n",
       "      <td>52.000000</td>\n",
       "      <td>3.000000</td>\n",
       "      <td>40.000000</td>\n",
       "      <td>5.000000</td>\n",
       "      <td>3.000000</td>\n",
       "      <td>3.000000</td>\n",
       "      <td>11127.500000</td>\n",
       "      <td>1784.000000</td>\n",
       "      <td>9859.000000</td>\n",
       "      <td>4741.000000</td>\n",
       "      <td>81.000000</td>\n",
       "      <td>0.503000</td>\n",
       "    </tr>\n",
       "    <tr>\n",
       "      <th>max</th>\n",
       "      <td>8.283431e+08</td>\n",
       "      <td>222.000000</td>\n",
       "      <td>143.000000</td>\n",
       "      <td>56.000000</td>\n",
       "      <td>6.000000</td>\n",
       "      <td>6.000000</td>\n",
       "      <td>6.000000</td>\n",
       "      <td>34664.000000</td>\n",
       "      <td>2517.000000</td>\n",
       "      <td>34516.000000</td>\n",
       "      <td>18484.000000</td>\n",
       "      <td>139.000000</td>\n",
       "      <td>0.999000</td>\n",
       "    </tr>\n",
       "  </tbody>\n",
       "</table>\n",
       "</div>"
      ],
      "text/plain": [
       "          CLIENTNUM  Customer_Age  Dependent_count  Months_on_book  \\\n",
       "count  1.012700e+04  10127.000000     10127.000000    10127.000000   \n",
       "mean   7.391776e+08     47.285277         2.787400       35.928409   \n",
       "std    3.690378e+07     13.270923         6.479135        7.986416   \n",
       "min    7.080821e+08     26.000000         0.000000       13.000000   \n",
       "25%    7.130368e+08     41.000000         1.000000       31.000000   \n",
       "50%    7.179264e+08     46.000000         2.000000       36.000000   \n",
       "75%    7.731435e+08     52.000000         3.000000       40.000000   \n",
       "max    8.283431e+08    222.000000       143.000000       56.000000   \n",
       "\n",
       "       Total_Relationship_Count  Months_Inactive_12_mon  \\\n",
       "count              10127.000000            10127.000000   \n",
       "mean                   3.812580                2.341167   \n",
       "std                    1.554408                1.010622   \n",
       "min                    1.000000                0.000000   \n",
       "25%                    3.000000                2.000000   \n",
       "50%                    4.000000                2.000000   \n",
       "75%                    5.000000                3.000000   \n",
       "max                    6.000000                6.000000   \n",
       "\n",
       "       Contacts_Count_12_mon  Credit_Limit  Total_Revolving_Bal  \\\n",
       "count           10127.000000  10067.000000         10127.000000   \n",
       "mean                2.455317   8703.180550          1162.814061   \n",
       "std                 1.106225   9190.058902           814.987335   \n",
       "min                 0.000000   1438.300000             0.000000   \n",
       "25%                 2.000000   2555.500000           359.000000   \n",
       "50%                 2.000000   4557.000000          1276.000000   \n",
       "75%                 3.000000  11127.500000          1784.000000   \n",
       "max                 6.000000  34664.000000          2517.000000   \n",
       "\n",
       "       Avg_Open_To_Buy  Total_Trans_Amt  Total_Trans_Ct  Avg_Utilization_Ratio  \n",
       "count     10127.000000     10127.000000    10127.000000           10127.000000  \n",
       "mean       7469.139637      4404.086304       64.858695               0.274894  \n",
       "std        9090.685324      3397.129254       23.472570               0.275691  \n",
       "min           3.000000       510.000000       10.000000               0.000000  \n",
       "25%        1324.500000      2155.500000       45.000000               0.023000  \n",
       "50%        3474.000000      3899.000000       67.000000               0.176000  \n",
       "75%        9859.000000      4741.000000       81.000000               0.503000  \n",
       "max       34516.000000     18484.000000      139.000000               0.999000  "
      ]
     },
     "execution_count": 39,
     "metadata": {},
     "output_type": "execute_result"
    }
   ],
   "source": [
    "df.describe()"
   ]
  },
  {
   "cell_type": "code",
   "execution_count": 40,
   "id": "03144872",
   "metadata": {},
   "outputs": [],
   "source": [
    "#'object' dtype is 'strings'..."
   ]
  },
  {
   "cell_type": "code",
   "execution_count": 41,
   "id": "c6c99f91",
   "metadata": {},
   "outputs": [
    {
     "data": {
      "text/plain": [
       "CLIENTNUM                     0\n",
       "Attrition_Flag                0\n",
       "Customer_Age                  0\n",
       "Gender                       93\n",
       "Dependent_count               0\n",
       "Education_Level               0\n",
       "Marital_Status                0\n",
       "Income_Category               0\n",
       "Card_Category               132\n",
       "Months_on_book                0\n",
       "Total_Relationship_Count      0\n",
       "Months_Inactive_12_mon        0\n",
       "Contacts_Count_12_mon         0\n",
       "Credit_Limit                 60\n",
       "Total_Revolving_Bal           0\n",
       "Avg_Open_To_Buy               0\n",
       "Total_Trans_Amt               0\n",
       "Total_Trans_Ct                0\n",
       "Avg_Utilization_Ratio         0\n",
       "dtype: int64"
      ]
     },
     "execution_count": 41,
     "metadata": {},
     "output_type": "execute_result"
    }
   ],
   "source": [
    "df.isnull().sum()"
   ]
  },
  {
   "cell_type": "markdown",
   "id": "9194d0e0",
   "metadata": {},
   "source": [
    "### TABULATE MODULE DEMO:"
   ]
  },
  {
   "cell_type": "code",
   "execution_count": 43,
   "id": "cf2be339",
   "metadata": {},
   "outputs": [
    {
     "data": {
      "text/plain": [
       "{'Name': ['tom', 'jerry'], 'Age': [1, 2]}"
      ]
     },
     "execution_count": 43,
     "metadata": {},
     "output_type": "execute_result"
    }
   ],
   "source": [
    "dict={\"Name\":[\"tom\",\"jerry\"],\"Age\":[1,2]}\n",
    "dict"
   ]
  },
  {
   "cell_type": "code",
   "execution_count": 44,
   "id": "28c17feb",
   "metadata": {},
   "outputs": [
    {
     "name": "stdout",
     "output_type": "stream",
     "text": [
      "Student_Name      Student_Roll_no.\n",
      "--------------  ------------------\n",
      "tom                              1\n",
      "jerry                            2\n"
     ]
    }
   ],
   "source": [
    "print(tabulate(dict,headers=[\"Student_Name\",\"Student_Roll_no.\"]))"
   ]
  },
  {
   "cell_type": "code",
   "execution_count": 45,
   "id": "7555275c",
   "metadata": {},
   "outputs": [
    {
     "name": "stdout",
     "output_type": "stream",
     "text": [
      "Student      Student_Roll_no.\n",
      "---------  ------------------\n",
      "tom                         1\n",
      "jerry                       2\n"
     ]
    }
   ],
   "source": [
    "print(tabulate(dict,headers=[\"Student\",\"Student_Roll_no.\"]))"
   ]
  },
  {
   "cell_type": "code",
   "execution_count": 46,
   "id": "4f96d082",
   "metadata": {},
   "outputs": [],
   "source": [
    "#note:\n",
    "#unique() gives the names of the unique values or ...\n",
    "#nunique() gives the count of the number of unique values..."
   ]
  },
  {
   "cell_type": "code",
   "execution_count": 47,
   "id": "dd88e62f",
   "metadata": {},
   "outputs": [
    {
     "name": "stdout",
     "output_type": "stream",
     "text": [
      "categorical               continuous\n",
      "------------------------  ---------------------\n",
      "Attrition_Flag            CLIENTNUM\n",
      "Gender                    Customer_Age\n",
      "Dependent_count           Credit_Limit\n",
      "Education_Level           Total_Revolving_Bal\n",
      "Marital_Status            Avg_Open_To_Buy\n",
      "Income_Category           Total_Trans_Amt\n",
      "Card_Category             Total_Trans_Ct\n",
      "Months_on_book            Avg_Utilization_Ratio\n",
      "Total_Relationship_Count\n",
      "Months_Inactive_12_mon\n",
      "Contacts_Count_12_mon\n"
     ]
    }
   ],
   "source": [
    "#creating a function using def which seperates the categorical and continuous values consisting columns...\n",
    "\n",
    "def seperate_data_types(df):\n",
    "    categorical=[]\n",
    "    continuous=[]\n",
    "    for column in df.columns:\n",
    "        if df[column].nunique() < 100:\n",
    "            categorical.append(column)\n",
    "        else:\n",
    "            continuous.append(column)\n",
    "    return categorical,continuous\n",
    "\n",
    "categorical,continuous=seperate_data_types(df)\n",
    "\n",
    "\n",
    "#table=[categorical,countinuous]\n",
    "#creating a table...\n",
    "\n",
    "print(tabulate\n",
    "              ({\"Categorical\":categorical,\n",
    "                \"Continuous\":continuous},\n",
    "                                        headers=[\"categorical\",\n",
    "                                                 \"continuous\"]))"
   ]
  },
  {
   "cell_type": "markdown",
   "id": "b30adba6",
   "metadata": {},
   "source": [
    "## LEVEL 1 Analysis..."
   ]
  },
  {
   "cell_type": "code",
   "execution_count": 9,
   "id": "92027d01",
   "metadata": {},
   "outputs": [],
   "source": [
    "def info_of_cat(col):\n",
    "    \n",
    "        # unique: returns the unique values in the col\n",
    "        print(f\"Unique values in {col} are: {df[col].unique()}\")\n",
    "        \n",
    "        # mode: returns the mode of the column\n",
    "        print(f\"Mode of {col} is {df[col].mode()[0]}\")\n",
    "        \n",
    "        # isnull().sum() counts the number of null in dataframe\n",
    "        print(f\"Number of missing values in {col} is {df[col].isnull().sum()}\")\n",
    "        \n",
    "        #` check if null values are present\n",
    "        if df[col].isnull().sum() > 0:\n",
    "            \n",
    "            print(f\"\\nThere are null values in the {col} column\")"
   ]
  },
  {
   "cell_type": "code",
   "execution_count": 10,
   "id": "05f60bad",
   "metadata": {},
   "outputs": [
    {
     "name": "stdout",
     "output_type": "stream",
     "text": [
      "Unique values in Attrition_Flag are: ['Existing Customer' 'Attrited Customer']\n",
      "Mode of Attrition_Flag is Existing Customer\n",
      "Number of missing values in Attrition_Flag is 0\n"
     ]
    }
   ],
   "source": [
    "info_of_cat(\"Attrition_Flag\")"
   ]
  },
  {
   "cell_type": "markdown",
   "id": "55966f72",
   "metadata": {},
   "source": [
    "##### Attrition Flag is a nominal datatype."
   ]
  },
  {
   "cell_type": "code",
   "execution_count": 11,
   "id": "5308353b",
   "metadata": {
    "scrolled": true
   },
   "outputs": [
    {
     "data": {
      "image/png": "[encoded data removed]",
      "text/plain": [
       "<Figure size 1080x504 with 2 Axes>"
      ]
     },
     "metadata": {
      "needs_background": "light"
     },
     "output_type": "display_data"
    }
   ],
   "source": [
    "# 1,2 are the array positional numbers...\n",
    "#size and shape of the outcome(figure) is the figsize values...\n",
    "fig, ax = plt.subplots(1, 2, figsize = (15, 7))\n",
    "\n",
    "# Set the title of the graph\n",
    "ax[0].set_title(\"Count of Attrition Flag:\")\n",
    "ax[1].set_title(\"Composition of Attrition Flag:\")\n",
    "\n",
    "# value_counts: returns the count of values in series: return series\n",
    "percentage = df[\"Attrition_Flag\"].value_counts()\n",
    "\n",
    "# Converting the index of value counts into list\n",
    "#labels = list(percentage.index)\n",
    "labels = list(df[\"Attrition_Flag\"].value_counts().index)\n",
    "\n",
    "\n",
    "#function using fo counting and displaying...\n",
    "sns.countplot(x = df[\"Attrition_Flag\"], ax = ax[0])\n",
    "\n",
    "# autopct: to print the percentage on pie wedge. 2 decimal points used\n",
    "plt.pie(percentage,labels = labels, autopct= \"%0.2f%%\")  \n",
    "\n",
    "#displaying...\n",
    "plt.show()"
   ]
  },
  {
   "cell_type": "code",
   "execution_count": 12,
   "id": "cfd05eac",
   "metadata": {
    "scrolled": true
   },
   "outputs": [
    {
     "name": "stdout",
     "output_type": "stream",
     "text": [
      "Unique values in Gender are: ['M' 'F' nan]\n",
      "Mode of Gender is F\n",
      "Number of missing values in Gender is 93\n",
      "\n",
      "There are null values in the Gender column\n"
     ]
    }
   ],
   "source": [
    "#by using the \"info_of_cat()\" function which we have created above...\n",
    "#checking the missing values in the gender column...\n",
    "\n",
    "info_of_cat(\"Gender\")"
   ]
  },
  {
   "cell_type": "code",
   "execution_count": 13,
   "id": "84f15c3c",
   "metadata": {},
   "outputs": [
    {
     "name": "stdout",
     "output_type": "stream",
     "text": [
      "F\n"
     ]
    }
   ],
   "source": [
    "#As gender is a nominal data...\n",
    "#filling the nan values in the gender column using mode()...\n",
    "\n",
    "\n",
    "gender_mode = df.Gender.mode()[0]\n",
    "\n",
    "print(gender_mode)\n",
    "\n",
    "df[\"Gender\"].fillna(gender_mode, inplace = True)"
   ]
  },
  {
   "cell_type": "markdown",
   "id": "be28afc6",
   "metadata": {},
   "source": [
    "##### NIIT's Code-Book approach...\n",
    "##### for diagramatical illustration..."
   ]
  },
  {
   "cell_type": "code",
   "execution_count": 14,
   "id": "4637f8af",
   "metadata": {},
   "outputs": [
    {
     "data": {
      "image/png": "[encoded data removed]",
      "text/plain": [
       "<Figure size 1080x504 with 2 Axes>"
      ]
     },
     "metadata": {
      "needs_background": "light"
     },
     "output_type": "display_data"
    }
   ],
   "source": [
    "fig, ax = plt.subplots(1, 2, figsize = (15, 7))\n",
    "\n",
    "#Value count is an inbuilt function to calculate the number of classes in gender columns\n",
    "data = df[\"Gender\"].value_counts()\n",
    "\n",
    "#data keys provide the index names but this function provides the columns names if called on dataframe\n",
    "labels =data.keys()\n",
    "                                                                \n",
    "sns.countplot(x = df[\"Gender\"], ax = ax[0])\n",
    "\n",
    "# pctdistance is the distance between the percentage\n",
    "plt.pie(x = data, autopct = \"%.1f%%\", explode = [0.02, 0.0], labels = labels, pctdistance = 0.5)\n",
    "\n",
    "# on pie chart from center.\n",
    "#  explode is to split the slices by the distance provided\n",
    "# autopct: is used to print the number on pie slices.  \n",
    "\n",
    "#displaying...\n",
    "plt.show()"
   ]
  },
  {
   "cell_type": "markdown",
   "id": "6720dc4b",
   "metadata": {},
   "source": [
    "###### Shruti ma'am's approach...\n",
    "##### for diagramatical illustration..."
   ]
  },
  {
   "cell_type": "code",
   "execution_count": 15,
   "id": "745b66f5",
   "metadata": {},
   "outputs": [
    {
     "data": {
      "image/png": "[encoded data removed]",
      "text/plain": [
       "<Figure size 1080x504 with 2 Axes>"
      ]
     },
     "metadata": {
      "needs_background": "light"
     },
     "output_type": "display_data"
    }
   ],
   "source": [
    "# 1,2 are the array positional numbers...\n",
    "#size and shape of the outcome(figure) is the figsize values...\n",
    "fig, ax = plt.subplots(1, 2, figsize = (15, 7))\n",
    "\n",
    "# Set the title of the graph\n",
    "ax[0].set_title(\"Count of Gender:\")\n",
    "ax[1].set_title(\"Composition of Gender:\")\n",
    "\n",
    "# value_counts: returns the count of values in series: return series\n",
    "percentage = df[\"Gender\"].value_counts()\n",
    "\n",
    "# Converting the index of value counts into list\n",
    "#labels = list(percentage.index)\n",
    "labels = list(df[\"Gender\"].value_counts().index)\n",
    "\n",
    "\n",
    "#function using fo counting and displaying...\n",
    "sns.countplot(x = df[\"Gender\"], ax = ax[0])\n",
    "\n",
    "# autopct: to print the percentage on pie wedge. 2 decimal points used\n",
    "plt.pie(percentage,labels = labels, autopct= \"%0.2f%%\")  \n",
    "\n",
    "#displaying...\n",
    "plt.show()"
   ]
  },
  {
   "cell_type": "markdown",
   "id": "c15b28b9",
   "metadata": {},
   "source": [
    "First we have removed or filled the nan values and after we have visually represented it..."
   ]
  },
  {
   "cell_type": "code",
   "execution_count": 16,
   "id": "c1c966d0",
   "metadata": {},
   "outputs": [],
   "source": [
    "#info_of_cat(\"Dependent_count\") # check for the unique values in the feature"
   ]
  },
  {
   "cell_type": "code",
   "execution_count": 17,
   "id": "fd7904d9",
   "metadata": {},
   "outputs": [
    {
     "name": "stdout",
     "output_type": "stream",
     "text": [
      "Unique values in Dependent_count are: [  3   5   4   2   0   1   9  29 103  22  25  78  90  35  60  42 119 104\n",
      "  88  48  34 143 100  59 130  95   7  82  69  92 110  17  10  27  19 109\n",
      " 142 116 113 125  80  63  24  97 102  52  87  11 117  13  67  89  61  72\n",
      " 120  76]\n",
      "Mode of Dependent_count is 3\n",
      "Number of missing values in Dependent_count is 0\n"
     ]
    }
   ],
   "source": [
    "#checking the unique values in the \"Dependent_count\" column... \n",
    "info_of_cat(\"Dependent_count\")"
   ]
  },
  {
   "cell_type": "markdown",
   "id": "fb54193d",
   "metadata": {},
   "source": [
    "##### Diagram..."
   ]
  },
  {
   "cell_type": "code",
   "execution_count": 18,
   "id": "a0034b5d",
   "metadata": {},
   "outputs": [
    {
     "data": {
      "text/plain": [
       "<Figure size 720x432 with 0 Axes>"
      ]
     },
     "execution_count": 18,
     "metadata": {},
     "output_type": "execute_result"
    },
    {
     "data": {
      "text/plain": [
       "<Figure size 720x432 with 0 Axes>"
      ]
     },
     "metadata": {},
     "output_type": "display_data"
    }
   ],
   "source": [
    "plt.figure(figsize=(10,6))"
   ]
  },
  {
   "cell_type": "code",
   "execution_count": 19,
   "id": "3af7816b",
   "metadata": {},
   "outputs": [
    {
     "data": {
      "image/png": "[encoded data removed]",
      "text/plain": [
       "<Figure size 2160x720 with 1 Axes>"
      ]
     },
     "metadata": {
      "needs_background": "light"
     },
     "output_type": "display_data"
    }
   ],
   "source": [
    "#............\n",
    "\n",
    "fig, ax = plt.subplots()\n",
    "\n",
    "ax = sns.countplot(x = df[\"Dependent_count\"])\n",
    "\n",
    "# ax.patches returns the rectange object from matplotlib\n",
    "for bar in ax.patches:\n",
    "    \n",
    "    # first it calculate the bar height and then dividing by the number of rows in data(to calculate percentage)\n",
    "    percentage = f\"{round(bar.get_height() /len(df), 2)}%\"   #divide by 100 to get like 27%,....instead of 0.27%!\n",
    "    # and multiply with 100 to get the percentage and rounding of by 2 numbers.  \n",
    "   \n",
    "    # get_x: returns the left corrdinate of the rectange, get_width: returns width of rectangle\n",
    "    x = bar.get_x() + bar.get_width() /2\n",
    "    \n",
    "    # get_height: returns height of rectangle\n",
    "    y = bar.get_height()   \n",
    "    \n",
    "     # va bottom: means percentage would be above the bar head\n",
    "    ax.annotate(percentage, (x, y), va = \"bottom\", ha =\"center\" )\n",
    "    \n",
    "    # annotate: used to annotate over objects, here objects are the bars\n",
    "    #size of the height & width...{___Ignorable___}\n",
    "    fig.set_figheight(10)                                                             \n",
    "    fig.set_figwidth(30)\n",
    "    \n",
    "#displaying...        \n",
    "plt.show()"
   ]
  },
  {
   "cell_type": "code",
   "execution_count": 20,
   "id": "55dff6e6",
   "metadata": {},
   "outputs": [
    {
     "name": "stdout",
     "output_type": "stream",
     "text": [
      "Rectangle(xy=(-0.4, 0), width=0.8, height=898, angle=0)\n",
      "Rectangle(xy=(0.6, 0), width=0.8, height=1825, angle=0)\n",
      "Rectangle(xy=(1.6, 0), width=0.8, height=2636, angle=0)\n",
      "Rectangle(xy=(2.6, 0), width=0.8, height=2718, angle=0)\n",
      "Rectangle(xy=(3.6, 0), width=0.8, height=1562, angle=0)\n",
      "Rectangle(xy=(4.6, 0), width=0.8, height=425, angle=0)\n",
      "Rectangle(xy=(5.6, 0), width=0.8, height=1, angle=0)\n",
      "Rectangle(xy=(6.6, 0), width=0.8, height=1, angle=0)\n",
      "Rectangle(xy=(7.6, 0), width=0.8, height=2, angle=0)\n",
      "Rectangle(xy=(8.6, 0), width=0.8, height=1, angle=0)\n",
      "Rectangle(xy=(9.6, 0), width=0.8, height=1, angle=0)\n",
      "Rectangle(xy=(10.6, 0), width=0.8, height=1, angle=0)\n",
      "Rectangle(xy=(11.6, 0), width=0.8, height=1, angle=0)\n",
      "Rectangle(xy=(12.6, 0), width=0.8, height=1, angle=0)\n",
      "Rectangle(xy=(13.6, 0), width=0.8, height=1, angle=0)\n",
      "Rectangle(xy=(14.6, 0), width=0.8, height=2, angle=0)\n",
      "Rectangle(xy=(15.6, 0), width=0.8, height=1, angle=0)\n",
      "Rectangle(xy=(16.6, 0), width=0.8, height=2, angle=0)\n",
      "Rectangle(xy=(17.6, 0), width=0.8, height=1, angle=0)\n",
      "Rectangle(xy=(18.6, 0), width=0.8, height=1, angle=0)\n",
      "Rectangle(xy=(19.6, 0), width=0.8, height=1, angle=0)\n",
      "Rectangle(xy=(20.6, 0), width=0.8, height=2, angle=0)\n",
      "Rectangle(xy=(21.6, 0), width=0.8, height=1, angle=0)\n",
      "Rectangle(xy=(22.6, 0), width=0.8, height=1, angle=0)\n",
      "Rectangle(xy=(23.6, 0), width=0.8, height=1, angle=0)\n",
      "Rectangle(xy=(24.6, 0), width=0.8, height=1, angle=0)\n",
      "Rectangle(xy=(25.6, 0), width=0.8, height=1, angle=0)\n",
      "Rectangle(xy=(26.6, 0), width=0.8, height=1, angle=0)\n",
      "Rectangle(xy=(27.6, 0), width=0.8, height=1, angle=0)\n",
      "Rectangle(xy=(28.6, 0), width=0.8, height=1, angle=0)\n",
      "Rectangle(xy=(29.6, 0), width=0.8, height=1, angle=0)\n",
      "Rectangle(xy=(30.6, 0), width=0.8, height=2, angle=0)\n",
      "Rectangle(xy=(31.6, 0), width=0.8, height=1, angle=0)\n",
      "Rectangle(xy=(32.6, 0), width=0.8, height=2, angle=0)\n",
      "Rectangle(xy=(33.6, 0), width=0.8, height=1, angle=0)\n",
      "Rectangle(xy=(34.6, 0), width=0.8, height=1, angle=0)\n",
      "Rectangle(xy=(35.6, 0), width=0.8, height=1, angle=0)\n",
      "Rectangle(xy=(36.6, 0), width=0.8, height=1, angle=0)\n",
      "Rectangle(xy=(37.6, 0), width=0.8, height=1, angle=0)\n",
      "Rectangle(xy=(38.6, 0), width=0.8, height=2, angle=0)\n",
      "Rectangle(xy=(39.6, 0), width=0.8, height=2, angle=0)\n",
      "Rectangle(xy=(40.6, 0), width=0.8, height=1, angle=0)\n",
      "Rectangle(xy=(41.6, 0), width=0.8, height=2, angle=0)\n",
      "Rectangle(xy=(42.6, 0), width=0.8, height=2, angle=0)\n",
      "Rectangle(xy=(43.6, 0), width=0.8, height=1, angle=0)\n",
      "Rectangle(xy=(44.6, 0), width=0.8, height=1, angle=0)\n",
      "Rectangle(xy=(45.6, 0), width=0.8, height=2, angle=0)\n",
      "Rectangle(xy=(46.6, 0), width=0.8, height=2, angle=0)\n",
      "Rectangle(xy=(47.6, 0), width=0.8, height=1, angle=0)\n",
      "Rectangle(xy=(48.6, 0), width=0.8, height=1, angle=0)\n",
      "Rectangle(xy=(49.6, 0), width=0.8, height=1, angle=0)\n",
      "Rectangle(xy=(50.6, 0), width=0.8, height=1, angle=0)\n",
      "Rectangle(xy=(51.6, 0), width=0.8, height=1, angle=0)\n",
      "Rectangle(xy=(52.6, 0), width=0.8, height=2, angle=0)\n",
      "Rectangle(xy=(53.6, 0), width=0.8, height=1, angle=0)\n",
      "Rectangle(xy=(54.6, 0), width=0.8, height=1, angle=0)\n"
     ]
    }
   ],
   "source": [
    "#just for detailed explaination...\n",
    "#iteration for every ractangle/bar...\n",
    "for bar in ax.patches:\n",
    "    print(bar)"
   ]
  },
  {
   "cell_type": "code",
   "execution_count": 21,
   "id": "09443db7",
   "metadata": {},
   "outputs": [
    {
     "name": "stdout",
     "output_type": "stream",
     "text": [
      "0.09%\n",
      "0.18%\n",
      "0.26%\n",
      "0.27%\n",
      "0.15%\n",
      "0.04%\n",
      "0.0%\n",
      "0.0%\n",
      "0.0%\n",
      "0.0%\n",
      "0.0%\n",
      "0.0%\n",
      "0.0%\n",
      "0.0%\n",
      "0.0%\n",
      "0.0%\n",
      "0.0%\n",
      "0.0%\n",
      "0.0%\n",
      "0.0%\n",
      "0.0%\n",
      "0.0%\n",
      "0.0%\n",
      "0.0%\n",
      "0.0%\n",
      "0.0%\n",
      "0.0%\n",
      "0.0%\n",
      "0.0%\n",
      "0.0%\n",
      "0.0%\n",
      "0.0%\n",
      "0.0%\n",
      "0.0%\n",
      "0.0%\n",
      "0.0%\n",
      "0.0%\n",
      "0.0%\n",
      "0.0%\n",
      "0.0%\n",
      "0.0%\n",
      "0.0%\n",
      "0.0%\n",
      "0.0%\n",
      "0.0%\n",
      "0.0%\n",
      "0.0%\n",
      "0.0%\n",
      "0.0%\n",
      "0.0%\n",
      "0.0%\n",
      "0.0%\n",
      "0.0%\n",
      "0.0%\n",
      "0.0%\n",
      "0.0%\n"
     ]
    }
   ],
   "source": [
    "#just for detailed explaination...\n",
    "#can change or increase round function...  \n",
    "for bar in ax.patches:\n",
    "    print(f\"{round(bar.get_height() /len(df), 2)}%\")"
   ]
  },
  {
   "cell_type": "markdown",
   "id": "80396692",
   "metadata": {},
   "source": [
    "# Outliers Analysis and Treatment:\n",
    "The customers who have a Dependent Count greater than the 5 are replaced with the mean of the population."
   ]
  },
  {
   "cell_type": "code",
   "execution_count": 22,
   "id": "dbc98517",
   "metadata": {},
   "outputs": [],
   "source": [
    "# Making changes in data\n",
    "# Replacing the nan values with mean...\n",
    "mean = int(df.Dependent_count.mean())\n",
    "\n",
    "# accessing the data higher than 6\n",
    "x = df[df[\"Dependent_count\"] > 5].index\n",
    "for index in x:\n",
    "    df.loc[index, \"Dependent_count\"] = mean"
   ]
  },
  {
   "cell_type": "code",
   "execution_count": 23,
   "id": "821d7442",
   "metadata": {},
   "outputs": [
    {
     "name": "stdout",
     "output_type": "stream",
     "text": [
      "Unique values in Dependent_count are: [3 5 4 2 0 1]\n",
      "Mode of Dependent_count is 3\n",
      "Number of missing values in Dependent_count is 0\n"
     ]
    }
   ],
   "source": [
    "info_of_cat(\"Dependent_count\")"
   ]
  },
  {
   "cell_type": "code",
   "execution_count": 24,
   "id": "4a0f1c84",
   "metadata": {},
   "outputs": [
    {
     "data": {
      "image/png": "[encoded data removed]",
      "text/plain": [
       "<Figure size 432x288 with 1 Axes>"
      ]
     },
     "metadata": {
      "needs_background": "light"
     },
     "output_type": "display_data"
    }
   ],
   "source": [
    "#............\n",
    "#diagram for 'Dependent_count' after outlier treatment...\n",
    "\n",
    "fig, ax = plt.subplots()\n",
    "\n",
    "ax = sns.countplot(x = df[\"Dependent_count\"])\n",
    "\n",
    "# ax.patches returns the rectange object from matplotlib\n",
    "for bar in ax.patches:\n",
    "    \n",
    "    # first it calculate the bar height and then dividing by the number of rows in data(to calculate percentage)\n",
    "    percentage = f\"{round(bar.get_height() /len(df), 2)}%\" #divide by 100 to get like 27%,....instead of 0.27%!\n",
    "    #percentage = f\"{round(((bar.get_height() /len(df))*100), 2)}%\"\n",
    "    # and multiply with 100 to get the percentage and rounding of by 2 numbers.  \n",
    "   \n",
    "    # get_x: returns the left corrdinate of the rectange, get_width: returns width of rectangle\n",
    "    x = bar.get_x() + bar.get_width() /2\n",
    "    \n",
    "    # get_height: returns height of rectangle\n",
    "    y = bar.get_height()   \n",
    "    \n",
    "    # va bottom: means percentage would be above the bar head\n",
    "    ax.annotate(percentage, (x, y), va = \"bottom\", ha =\"center\" )\n",
    "    ax.annotate(percentage, (x, y), va = \"top\", ha =\"center\" )\n",
    "    \n",
    "    # annotate: used to annotate over objects, here objects are the bars\n",
    "    #size of the height & width...{___Ignorable___}\n",
    "    #fig.set_figheight(10)                                                             \n",
    "    #fig.set_figwidth(30)\n",
    "    \n",
    "#displaying...        \n",
    "plt.show()"
   ]
  },
  {
   "cell_type": "markdown",
   "id": "93aded98",
   "metadata": {},
   "source": [
    "## Inmmterpretation: Majority of the customers are inactive for 3 months."
   ]
  },
  {
   "cell_type": "markdown",
   "id": "8dee810b",
   "metadata": {},
   "source": [
    "# $Univariate \\ Analysis \\ of \\ Numerical \\ Variables$"
   ]
  },
  {
   "cell_type": "markdown",
   "id": "b1f6d6fe",
   "metadata": {},
   "source": [
    "# User defined function for calculating mean, median, mode,  standard deviation, and count of all null values "
   ]
  },
  {
   "cell_type": "code",
   "execution_count": 25,
   "id": "b3cf45ac",
   "metadata": {},
   "outputs": [],
   "source": [
    "def info_of_numerical(col):\n",
    "    print(f\"The mean of the {col} is {df[col].mean()}\")\n",
    "    print(f\"The median of the {col} is {df[col].median()}\")\n",
    "    print(f\"The mode of the {col} is {df[col].mode()[0]}\")\n",
    "    print(f\"The standard deviation of the {col} is {df[col].std()}\")\n",
    "    print(f\"Number of missing values in the {col} is {df[col].isnull().sum()}\")"
   ]
  },
  {
   "cell_type": "code",
   "execution_count": 26,
   "id": "fc24c2a3",
   "metadata": {},
   "outputs": [
    {
     "name": "stdout",
     "output_type": "stream",
     "text": [
      "The mean of the Customer_Age is 47.285276982324476\n",
      "The median of the Customer_Age is 46.0\n",
      "The mode of the Customer_Age is 44\n",
      "The standard deviation of the Customer_Age is 13.270923260536534\n",
      "Number of missing values in the Customer_Age is 0\n"
     ]
    }
   ],
   "source": [
    "info_of_numerical(\"Customer_Age\")"
   ]
  },
  {
   "cell_type": "code",
   "execution_count": 27,
   "id": "a0e20563",
   "metadata": {},
   "outputs": [
    {
     "data": {
      "image/png": "[encoded data removed]",
      "text/plain": [
       "<Figure size 1440x504 with 2 Axes>"
      ]
     },
     "metadata": {
      "needs_background": "light"
     },
     "output_type": "display_data"
    }
   ],
   "source": [
    "# Distribution of Customer_Age...\n",
    "\n",
    "#Creating the space for the 2 images, first argument in subplots is rows and second is columns and the figure size\n",
    "fig, ax = plt.subplots(1, 2, figsize= (20, 7))               \n",
    "\n",
    " #ax[1] means image will plot at the second space\n",
    "sns.histplot(x = df[\"Customer_Age\"], ax =ax[1], color = \"m\")\n",
    "\n",
    " #ax[0] means image will plot at the second space\n",
    "sns.boxplot(x = df[\"Customer_Age\"], ax = ax[0], color = \"g\")\n",
    "\n",
    "\n",
    "plt.show()\n"
   ]
  },
  {
   "cell_type": "code",
   "execution_count": null,
   "id": "0c52ad4c",
   "metadata": {},
   "outputs": [],
   "source": []
  },
  {
   "cell_type": "code",
   "execution_count": 28,
   "id": "530da51b",
   "metadata": {},
   "outputs": [],
   "source": [
    "def info_of_numerical(col):\n",
    "    print(f\"The mean of the {col} is {df[col].mean()}\")\n",
    "    print(f\"The median of the {col} is {df[col].median()}\")\n",
    "    print(f\"The mode of the {col} is {df[col].mode()[0]}\")\n",
    "    print(f\"The standard deviation of the {col} is {df[col].std()}\")\n",
    "    print(f\"Number of missing values in the {col} is {df[col].isnull().sum()}\")"
   ]
  },
  {
   "cell_type": "code",
   "execution_count": 29,
   "id": "eb6f9ba7",
   "metadata": {},
   "outputs": [],
   "source": [
    "# FUNCTION FOR BOXPLOT AND HISTOGRAM... \n",
    "\n",
    "def box_hist(col):\n",
    "    fig, ax = plt.subplots(1, 2, figsize= (20, 7))\n",
    "    sns.histplot(x = df[\"Customer_Age\"], ax =ax[1], color = \"m\")\n",
    "    sns.boxplot(x = df[\"Customer_Age\"], ax = ax[0], color = \"g\")\n",
    "    plt.show()"
   ]
  },
  {
   "cell_type": "code",
   "execution_count": 30,
   "id": "a9115681",
   "metadata": {},
   "outputs": [],
   "source": [
    "#Repolacing the nan values(outliers) with mean...\n",
    "mean = int(df.Customer_Age.mean())\n",
    "# accessing the data higher than 75\n",
    "x = df[df[\"Customer_Age\"] > 75].index\n",
    "for index in x:\n",
    "    df.loc[index, \"Customer_Age\"] = mean"
   ]
  },
  {
   "cell_type": "code",
   "execution_count": 31,
   "id": "e538452b",
   "metadata": {},
   "outputs": [
    {
     "name": "stdout",
     "output_type": "stream",
     "text": [
      "The mean of the Customer_Age is 46.32931766564629\n",
      "The median of the Customer_Age is 46.0\n",
      "The mode of the Customer_Age is 47\n",
      "The standard deviation of the Customer_Age is 7.9775059377027295\n",
      "Number of missing values in the Customer_Age is 0\n"
     ]
    }
   ],
   "source": [
    "info_of_numerical(\"Customer_Age\")"
   ]
  },
  {
   "cell_type": "code",
   "execution_count": 32,
   "id": "7573f3bb",
   "metadata": {},
   "outputs": [
    {
     "data": {
      "image/png": "[encoded data removed]",
      "text/plain": [
       "<Figure size 1440x504 with 2 Axes>"
      ]
     },
     "metadata": {
      "needs_background": "light"
     },
     "output_type": "display_data"
    }
   ],
   "source": [
    "box_hist(\"Customer_Age\")"
   ]
  },
  {
   "cell_type": "code",
   "execution_count": 33,
   "id": "f519a835",
   "metadata": {},
   "outputs": [
    {
     "name": "stdout",
     "output_type": "stream",
     "text": [
      "Unique values in Total_Revolving_Bal are: [ 777  864    0 ...  534  476 2241]\n",
      "Mode of Total_Revolving_Bal is 0\n",
      "Number of missing values in Total_Revolving_Bal is 0\n"
     ]
    }
   ],
   "source": [
    "#Total_Revolving_Bal\n",
    "info_of_cat(\"Total_Revolving_Bal\")"
   ]
  },
  {
   "cell_type": "code",
   "execution_count": 34,
   "id": "c47c2afc",
   "metadata": {},
   "outputs": [
    {
     "name": "stdout",
     "output_type": "stream",
     "text": [
      "The mean of the Total_Revolving_Bal is 1162.8140614199665\n",
      "The median of the Total_Revolving_Bal is 1276.0\n",
      "The mode of the Total_Revolving_Bal is 0\n",
      "The standard deviation of the Total_Revolving_Bal is 814.9873352357522\n",
      "Number of missing values in the Total_Revolving_Bal is 0\n"
     ]
    }
   ],
   "source": [
    "info_of_numerical(\"Total_Revolving_Bal\")"
   ]
  },
  {
   "cell_type": "code",
   "execution_count": null,
   "id": "08911f0d",
   "metadata": {},
   "outputs": [],
   "source": []
  },
  {
   "cell_type": "code",
   "execution_count": null,
   "id": "ae81bffc",
   "metadata": {},
   "outputs": [],
   "source": []
  },
  {
   "cell_type": "code",
   "execution_count": null,
   "id": "788467b3",
   "metadata": {},
   "outputs": [],
   "source": []
  },
  {
   "cell_type": "code",
   "execution_count": null,
   "id": "bb77d949",
   "metadata": {},
   "outputs": [],
   "source": []
  },
  {
   "cell_type": "code",
   "execution_count": null,
   "id": "def82288",
   "metadata": {},
   "outputs": [],
   "source": []
  },
  {
   "cell_type": "code",
   "execution_count": null,
   "id": "a8c9d595",
   "metadata": {},
   "outputs": [],
   "source": []
  },
  {
   "cell_type": "markdown",
   "id": "4def7f7d",
   "metadata": {},
   "source": [
    "### Shruti ma'am's given task..."
   ]
  },
  {
   "cell_type": "markdown",
   "id": "d5f10aac",
   "metadata": {},
   "source": [
    "###### Checking missing values in \"Educational level\" and if any removing them or replace using mode() and ploting diagram for \"Educational level\":"
   ]
  },
  {
   "cell_type": "code",
   "execution_count": 35,
   "id": "3af73f1a",
   "metadata": {
    "scrolled": true
   },
   "outputs": [
    {
     "name": "stdout",
     "output_type": "stream",
     "text": [
      "Unique values in Education_Level are: ['High School' 'Graduate' 'Uneducated' 'Unknown' 'College' 'Post-Graduate'\n",
      " 'Doctorate']\n",
      "Mode of Education_Level is Graduate\n",
      "Number of missing values in Education_Level is 0\n"
     ]
    }
   ],
   "source": [
    "info_of_cat(\"Education_Level\")"
   ]
  },
  {
   "cell_type": "code",
   "execution_count": 36,
   "id": "e31bc091",
   "metadata": {},
   "outputs": [],
   "source": [
    "#ignored as there are no missing values...\n",
    "\n",
    "#replacing the nan values by mode() i.e; Graduate...\n",
    "\n",
    "# el_mode=df.Education_Level.mode()[0]\n",
    "# print(el_mode)\n",
    "# df[\"Education_Level\"].fillna(el_mode, inplace=True)"
   ]
  },
  {
   "cell_type": "code",
   "execution_count": 37,
   "id": "4bb1d290",
   "metadata": {},
   "outputs": [
    {
     "data": {
      "image/png": "[encoded data removed]",
      "text/plain": [
       "<Figure size 1080x504 with 2 Axes>"
      ]
     },
     "metadata": {
      "needs_background": "light"
     },
     "output_type": "display_data"
    }
   ],
   "source": [
    "fig, ax = plt.subplots(1, 2, figsize = (15, 7))\n",
    "\n",
    "ax[0].set_title(\"Count of Education Level:\")\n",
    "ax[1].set_title(\"Composition of Education Level:\")\n",
    "\n",
    "percentage = df[\"Education_Level\"].value_counts()\n",
    "\n",
    "labels = list(df[\"Education_Level\"].value_counts().index)\n",
    "\n",
    "sns.countplot(x = df[\"Education_Level\"], ax = ax[0])\n",
    "\n",
    "plt.pie(percentage,labels = labels, autopct= \"%0.2f%%\")  \n",
    "\n",
    "plt.show()"
   ]
  },
  {
   "cell_type": "markdown",
   "id": "3b1a8097",
   "metadata": {},
   "source": [
    "##### Checking missing values in \"Marital_Status\" and if any removing them or replace using  and ploting diagram for \"Marital_Status\":"
   ]
  },
  {
   "cell_type": "code",
   "execution_count": 38,
   "id": "2f4042e7",
   "metadata": {},
   "outputs": [
    {
     "name": "stdout",
     "output_type": "stream",
     "text": [
      "Unique values in Marital_Status are: ['Married' 'Single' 'Unknown' 'Divorced']\n",
      "Mode of Marital_Status is Married\n",
      "Number of missing values in Marital_Status is 0\n"
     ]
    }
   ],
   "source": [
    "info_of_cat(\"Marital_Status\")"
   ]
  },
  {
   "cell_type": "code",
   "execution_count": 39,
   "id": "df843a8f",
   "metadata": {},
   "outputs": [],
   "source": [
    "#No missing values...in Marital_Status."
   ]
  },
  {
   "cell_type": "markdown",
   "id": "b3525e80",
   "metadata": {},
   "source": [
    "##### Shruti ma'am approach..."
   ]
  },
  {
   "cell_type": "code",
   "execution_count": 45,
   "id": "5eb24ca2",
   "metadata": {},
   "outputs": [
    {
     "data": {
      "image/png": "[encoded data removed]",
      "text/plain": [
       "<Figure size 1080x504 with 2 Axes>"
      ]
     },
     "metadata": {
      "needs_background": "light"
     },
     "output_type": "display_data"
    }
   ],
   "source": [
    "fig, ax = plt.subplots(1, 2, figsize = (15, 7))\n",
    " \n",
    "ax[0].set_title(\"Count of Marital Status:\")\n",
    "ax[1].set_title(\"Composition of Marital Status:\")\n",
    "\n",
    "percentage = df[\"Marital_Status\"].value_counts()\n",
    "\n",
    "labels = list(df[\"Marital_Status\"].value_counts().index)\n",
    "\n",
    "sns.countplot(x = df[\"Marital_Status\"], ax = ax[0])\n",
    "\n",
    "plt.pie(percentage,labels = labels, autopct= \"%0.2f%%\")  \n",
    "\n",
    "plt.show()"
   ]
  },
  {
   "cell_type": "code",
   "execution_count": 42,
   "id": "368e71f1",
   "metadata": {},
   "outputs": [],
   "source": [
    "# fig, ax = plt.subplots(1, 2, figsize = (15, 7))\n",
    " \n",
    "# ax[0].set_title(\"Count of Marital Status:\")\n",
    "# ax[1].set_title(\"Composition of Marital Status:\")\n",
    "\n",
    "# #percentage = df[\"Marital_Status\"].value_counts()\n",
    "# percentage = f\"{round(bar.get_height() /len(df), 2)}%\"\n",
    "# labels = list(df[\"Marital_Status\"].value_counts().index)\n",
    "\n",
    "# sns.countplot(x = df[\"Marital_Status\"], ax = ax[0])\n",
    "\n",
    "# plt.pie(percentage,labels = labels, autopct= \"%0.2f%%\")  \n",
    "\n",
    "# plt.show()"
   ]
  },
  {
   "cell_type": "markdown",
   "id": "e22ee596",
   "metadata": {},
   "source": [
    "##### Niit approach..."
   ]
  },
  {
   "cell_type": "code",
   "execution_count": 118,
   "id": "43bd9808",
   "metadata": {},
   "outputs": [
    {
     "data": {
      "image/png": "[encoded data removed]",
      "text/plain": [
       "<Figure size 432x288 with 1 Axes>"
      ]
     },
     "metadata": {
      "needs_background": "light"
     },
     "output_type": "display_data"
    }
   ],
   "source": [
    "fig, ax = plt.subplots()\n",
    "\n",
    "ax = sns.countplot(x = df[\"Marital_Status\"])\n",
    "\n",
    "for bar in ax.patches:\n",
    "    \n",
    "    percentage = f\"{round(bar.get_height() /len(df), 2)}%\" \n",
    "    \n",
    "    x = bar.get_x() + bar.get_width() /2\n",
    "    \n",
    "    y = bar.get_height()   \n",
    "    \n",
    "    ax.annotate(percentage, (x, y), va = \"bottom\", ha =\"center\" )\n",
    "    ax.annotate(percentage, (x, y), va = \"top\", ha =\"center\" )\n",
    "           \n",
    "plt.show()"
   ]
  },
  {
   "cell_type": "code",
   "execution_count": null,
   "id": "e26fe846",
   "metadata": {},
   "outputs": [],
   "source": [
    "#No outliers...in Marital_Status."
   ]
  },
  {
   "cell_type": "markdown",
   "id": "f724c4ba",
   "metadata": {},
   "source": [
    "##### Checking missing values in \"Income_Category\" and if any removing them or replace using  and ploting diagram for \"Income_Category\":"
   ]
  },
  {
   "cell_type": "code",
   "execution_count": 120,
   "id": "60db8163",
   "metadata": {},
   "outputs": [
    {
     "name": "stdout",
     "output_type": "stream",
     "text": [
      "Unique values in Income_Category are: ['$60K - $80K' 'Less than $40K' '$80K - $120K' '$40K - $60K' '$120K +'\n",
      " 'Unknown']\n",
      "Mode of Income_Category is Less than $40K\n",
      "Number of missing values in Income_Category is 0\n"
     ]
    }
   ],
   "source": [
    "info_of_cat(\"Income_Category\")"
   ]
  },
  {
   "cell_type": "code",
   "execution_count": 121,
   "id": "a0bc514c",
   "metadata": {},
   "outputs": [],
   "source": [
    "#No missing values...in Income_Category."
   ]
  },
  {
   "cell_type": "code",
   "execution_count": 123,
   "id": "f4007c12",
   "metadata": {},
   "outputs": [
    {
     "data": {
      "image/png": "[encoded data removed]",
      "text/plain": [
       "<Figure size 1080x504 with 2 Axes>"
      ]
     },
     "metadata": {
      "needs_background": "light"
     },
     "output_type": "display_data"
    }
   ],
   "source": [
    "#s\n",
    "\n",
    "fig, ax = plt.subplots(1, 2, figsize = (15, 7))\n",
    " \n",
    "ax[0].set_title(\"Count of Income_Category:\")\n",
    "ax[1].set_title(\"Composition of Income_Category:\")\n",
    "\n",
    "percentage = df[\"Income_Category\"].value_counts()\n",
    "\n",
    "labels = list(df[\"Income_Category\"].value_counts().index)\n",
    "\n",
    "sns.countplot(x = df[\"Income_Category\"], ax = ax[0])\n",
    "\n",
    "plt.pie(percentage,labels = labels, autopct= \"%0.2f%%\")  \n",
    "\n",
    "plt.show()"
   ]
  },
  {
   "cell_type": "code",
   "execution_count": 124,
   "id": "c4ec679e",
   "metadata": {},
   "outputs": [
    {
     "data": {
      "image/png": "[encoded data removed]",
      "text/plain": [
       "<Figure size 432x288 with 1 Axes>"
      ]
     },
     "metadata": {
      "needs_background": "light"
     },
     "output_type": "display_data"
    }
   ],
   "source": [
    "#niit\n",
    "\n",
    "fig, ax = plt.subplots()\n",
    "\n",
    "ax = sns.countplot(x = df[\"Income_Category\"])\n",
    "\n",
    "for bar in ax.patches:\n",
    "    \n",
    "    percentage = f\"{round(bar.get_height() /len(df), 2)}%\" \n",
    "    \n",
    "    x = bar.get_x() + bar.get_width() /2\n",
    "    \n",
    "    y = bar.get_height()   \n",
    "    \n",
    "    ax.annotate(percentage, (x, y), va = \"bottom\", ha =\"center\" )\n",
    "    ax.annotate(percentage, (x, y), va = \"top\", ha =\"center\" )\n",
    "           \n",
    "plt.show()"
   ]
  },
  {
   "cell_type": "code",
   "execution_count": null,
   "id": "01d06f24",
   "metadata": {},
   "outputs": [],
   "source": [
    "#No outliers...in Income_Category."
   ]
  },
  {
   "cell_type": "markdown",
   "id": "4fe68062",
   "metadata": {},
   "source": [
    "##### Checking missing values in \"Card_Category\" and if any removing them or replace using  and ploting diagram for \"Card_Category\":"
   ]
  },
  {
   "cell_type": "code",
   "execution_count": 125,
   "id": "3d36f6f7",
   "metadata": {},
   "outputs": [
    {
     "name": "stdout",
     "output_type": "stream",
     "text": [
      "Unique values in Card_Category are: ['Blue' 'Gold' 'Silver' nan 'Platinum']\n",
      "Mode of Card_Category is Blue\n",
      "Number of missing values in Card_Category is 132\n",
      "\n",
      "There are null values in the Card_Category column\n"
     ]
    }
   ],
   "source": [
    "info_of_cat(\"Card_Category\")"
   ]
  },
  {
   "cell_type": "code",
   "execution_count": 127,
   "id": "17f1ab07",
   "metadata": {},
   "outputs": [
    {
     "name": "stdout",
     "output_type": "stream",
     "text": [
      "Blue\n"
     ]
    }
   ],
   "source": [
    "#found some missing values...\n",
    "#filling it...\n",
    "\n",
    "cc_mode=df.Card_Category.mode()[0]\n",
    "print(cc_mode)\n",
    "df[\"Card_Category\"].fillna(el_mode, inplace=True)"
   ]
  },
  {
   "cell_type": "code",
   "execution_count": 130,
   "id": "d0904101",
   "metadata": {},
   "outputs": [
    {
     "data": {
      "image/png": "[encoded data removed]",
      "text/plain": [
       "<Figure size 1080x504 with 2 Axes>"
      ]
     },
     "metadata": {
      "needs_background": "light"
     },
     "output_type": "display_data"
    }
   ],
   "source": [
    "fig, ax = plt.subplots(1, 2, figsize = (15, 7))\n",
    " \n",
    "ax[0].set_title(\"Count of Card_Category:\")\n",
    "ax[1].set_title(\"Composition of Card_Category:\")\n",
    "\n",
    "percentage = df[\"Card_Category\"].value_counts()\n",
    "\n",
    "labels = list(df[\"Card_Category\"].value_counts().index)\n",
    "\n",
    "sns.countplot(x = df[\"Card_Category\"], ax = ax[0])\n",
    "\n",
    "plt.pie(percentage,labels = labels, explode=[0.2,0.2,0.2,0.4,0.6], autopct= \"%0.2f%%\") \n",
    "#explode parameter is used for slicing the pie chart...\n",
    "\n",
    "plt.show()"
   ]
  },
  {
   "cell_type": "markdown",
   "id": "7f87ce2b",
   "metadata": {},
   "source": [
    "##### Checking missing values in \"Total_Relationship_Count\" and if any removing them or replace using  and ploting diagram for \"Total_Relationship_Count\":"
   ]
  },
  {
   "cell_type": "code",
   "execution_count": null,
   "id": "43e2b4b8",
   "metadata": {},
   "outputs": [],
   "source": []
  },
  {
   "cell_type": "markdown",
   "id": "648b4489",
   "metadata": {},
   "source": [
    "Level 2 Analysis (Getting closer to the BIG QUESTION: Churn Analysis) \n",
    "--------------------------------------------------------------------------------------------------\n",
    "\n",
    "How can this column make way to further analysis to answer the BIG QUESTION?\n",
    "\n",
    "What other columns could be clubbed with this Attrition Flag column to ask further questions?\n",
    "\n",
    "The below are the available list of columns/features in the given data."
   ]
  },
  {
   "cell_type": "code",
   "execution_count": 152,
   "id": "bae5156f",
   "metadata": {},
   "outputs": [
    {
     "name": "stdout",
     "output_type": "stream",
     "text": [
      "categorical               continuous\n",
      "------------------------  ---------------------\n",
      "Attrition_Flag            CLIENTNUM\n",
      "Gender                    Customer_Age\n",
      "Dependent_count           Credit_Limit\n",
      "Education_Level           Total_Revolving_Bal\n",
      "Marital_Status            Avg_Open_To_Buy\n",
      "Income_Category           Total_Trans_Amt\n",
      "Card_Category             Total_Trans_Ct\n",
      "Months_on_book            Avg_Utilization_Ratio\n",
      "Total_Relationship_Count\n",
      "Months_Inactive_12_mon\n",
      "Contacts_Count_12_mon\n"
     ]
    }
   ],
   "source": [
    "print(tabulate({\"Categorical\":categorical,\n",
    "                \"continuous\": continuous}, headers = [\"categorical\",\n",
    "                                                      \"continuous\"]))"
   ]
  },
  {
   "cell_type": "markdown",
   "id": "97380b91",
   "metadata": {},
   "source": [
    "CAT-CAT ANALYSIS  (relationship between categorical data)\n",
    "-------------------------------------------------------------------------------------\n",
    "One could ask the following questions about the customers who have left the bank by relating the\n",
    "\"attrition flag\" column with each and every categorical column mentioned above. \n",
    " \n",
    "1. Genderwise count of customers who are with the bank and those who have left.\n",
    "2. Is there a connection between the education level and the customers who have left the bank?\n",
    "3. Marital Status analysis of those customers who have left the bank\n",
    "4. Income category analysis of the customers who have left the bank \n",
    "5. Card category analysis of the customers who have left the bank \n",
    "6. Is there any relation between months inactive and churn?\n",
    "7. Is there any relation between churn and relationship count?\n",
    "8. Is there any relation between churn and contacts count?\n",
    "\n",
    "Note: We could repeat the same analysis with the customers who are still with the bank. \n",
    "    \n",
    "1. Is there a connection between the education level and the existing customers?\n",
    "2. Marital Status analysis of those customers who are with the bank \n",
    "3. Income category analysis of customers who are with the bank \n",
    "4. Card category analysis of the customers who are still with the bank\n",
    "5. Is there any relation between months inactive and existing customers? \n",
    "6. Is there any relation between existing customers and relationship count? \n",
    "7. Is there any relation between existing customers and contacts count? "
   ]
  },
  {
   "cell_type": "markdown",
   "id": "078c6577",
   "metadata": {},
   "source": [
    "### Relationship of Attrition_Flag with Gender\n",
    "Level 2 Categorical to Categorical"
   ]
  },
  {
   "cell_type": "code",
   "execution_count": 153,
   "id": "6023e5bf",
   "metadata": {},
   "outputs": [
    {
     "data": {
      "image/png": "[encoded data removed]",
      "text/plain": [
       "<Figure size 720x504 with 1 Axes>"
      ]
     },
     "metadata": {
      "needs_background": "light"
     },
     "output_type": "display_data"
    }
   ],
   "source": [
    "fig, ax = plt.subplots(figsize = (10, 7))\n",
    "sns.countplot(x = \"Gender\", hue = \"Attrition_Flag\", data = df)\n",
    "plt.show()"
   ]
  },
  {
   "cell_type": "markdown",
   "id": "7a6f7623",
   "metadata": {},
   "source": [
    "## Interpretation: Percentage of women getting churned out is more than men."
   ]
  },
  {
   "cell_type": "markdown",
   "id": "41d3a231",
   "metadata": {},
   "source": [
    "Further Analysis (Level 3): \\\n",
    "\n",
    "Let's look into the data to check if there is additional information about the customers who are women."
   ]
  },
  {
   "cell_type": "code",
   "execution_count": 156,
   "id": "18c35670",
   "metadata": {},
   "outputs": [
    {
     "data": {
      "text/plain": [
       "Index(['CLIENTNUM', 'Attrition_Flag', 'Customer_Age', 'Gender',\n",
       "       'Dependent_count', 'Education_Level', 'Marital_Status',\n",
       "       'Income_Category', 'Card_Category', 'Months_on_book',\n",
       "       'Total_Relationship_Count', 'Months_Inactive_12_mon',\n",
       "       'Contacts_Count_12_mon', 'Credit_Limit', 'Total_Revolving_Bal',\n",
       "       'Avg_Open_To_Buy', 'Total_Trans_Amt', 'Total_Trans_Ct',\n",
       "       'Avg_Utilization_Ratio'],\n",
       "      dtype='object')"
      ]
     },
     "execution_count": 156,
     "metadata": {},
     "output_type": "execute_result"
    }
   ],
   "source": [
    "df.columns"
   ]
  },
  {
   "cell_type": "markdown",
   "id": "a34b1728",
   "metadata": {},
   "source": [
    "### One could consider analyzing all the above columns for the customers who have left and are women. However it could be a waste of time, hence it is better to consult the domain expert to choose the appropriate columns for further analysis. \n",
    "Let's consider the following columns:\n",
    "1. Age\n",
    "2. Education\n",
    "3. Total Trans Amount"
   ]
  },
  {
   "cell_type": "markdown",
   "id": "95533d2e",
   "metadata": {},
   "source": [
    "## Further Analysis\n",
    "1. Which age group of women has a larger churn?\n",
    "2. Analyze the churn of women customers based on their education level. \n",
    "3. Do you think the average Total Transaction amount of women who churned out is different from those who are still with the bank?\n",
    "\n",
    "## Deeper Analysis\n",
    "1. One could try to analyze within each age group the education level of the women who have left the bank.\n",
    "\n",
    "## Business Value\n",
    "At times, a lot of deeper analysis scenarios might not be useful for the business, even though they might look good from an analysis perspective. \n"
   ]
  },
  {
   "cell_type": "markdown",
   "id": "e6af6b77",
   "metadata": {},
   "source": [
    "# Relationship of Attrition_Flag with Dependent_count  \n",
    "Level 2 Categorical to Categorical"
   ]
  },
  {
   "cell_type": "code",
   "execution_count": 157,
   "id": "1a0194b1",
   "metadata": {},
   "outputs": [
    {
     "data": {
      "image/png": "[encoded data removed]",
      "text/plain": [
       "<Figure size 720x504 with 1 Axes>"
      ]
     },
     "metadata": {
      "needs_background": "light"
     },
     "output_type": "display_data"
    }
   ],
   "source": [
    "fig, ax = plt.subplots(figsize = (10, 7))\n",
    "sns.countplot(x = \"Dependent_count\", hue = \"Attrition_Flag\", data = df)\n",
    "plt.show()"
   ]
  },
  {
   "cell_type": "code",
   "execution_count": 158,
   "id": "d117f8bf",
   "metadata": {},
   "outputs": [],
   "source": [
    "def countplot(col):\n",
    "    fig, ax = plt.subplots(figsize = (10, 7))\n",
    "    sns.countplot(x = \"Dependent_count\", hue = \"Attrition_Flag\", data = df)\n",
    "    plt.show()"
   ]
  },
  {
   "cell_type": "code",
   "execution_count": 159,
   "id": "d15afa8e",
   "metadata": {},
   "outputs": [
    {
     "data": {
      "image/png": "[encoded data removed]",
      "text/plain": [
       "<Figure size 720x504 with 1 Axes>"
      ]
     },
     "metadata": {
      "needs_background": "light"
     },
     "output_type": "display_data"
    }
   ],
   "source": [
    "countplot(\"Dependent_count\")"
   ]
  },
  {
   "cell_type": "code",
   "execution_count": 160,
   "id": "91b8f14b",
   "metadata": {},
   "outputs": [
    {
     "data": {
      "image/png": "[encoded data removed]",
      "text/plain": [
       "<Figure size 720x504 with 1 Axes>"
      ]
     },
     "metadata": {
      "needs_background": "light"
     },
     "output_type": "display_data"
    }
   ],
   "source": [
    "countplot(\"Education_Level\")"
   ]
  },
  {
   "cell_type": "code",
   "execution_count": null,
   "id": "8206a6f1",
   "metadata": {},
   "outputs": [],
   "source": []
  }
 ],
 "metadata": {
  "kernelspec": {
   "display_name": "Python 3 (ipykernel)",
   "language": "python",
   "name": "python3"
  },
  "language_info": {
   "codemirror_mode": {
    "name": "ipython",
    "version": 3
   },
   "file_extension": ".py",
   "mimetype": "text/x-python",
   "name": "python",
   "nbconvert_exporter": "python",
   "pygments_lexer": "ipython3",
   "version": "3.10.2"
  }
 },
 "nbformat": 4,
 "nbformat_minor": 5
}
