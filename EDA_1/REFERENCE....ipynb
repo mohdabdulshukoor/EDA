{
 "cells": [
  {
   "cell_type": "code",
   "execution_count": 21,
   "id": "baae9257",
   "metadata": {},
   "outputs": [],
   "source": [
    "import math\n",
    "import numpy as np\n",
    "import pandas as pd\n",
    "import seaborn as sns\n",
    "import matplotlib.pyplot as plt\n",
    "from tabulate import tabulate as tab\n",
    "import warnings \n",
    "warnings.filterwarnings(\"ignore\")\n",
    "import matplotlib as mpl"
   ]
  },
  {
   "cell_type": "code",
   "execution_count": 2,
   "id": "32d6bb9d",
   "metadata": {},
   "outputs": [
    {
     "data": {
      "text/html": [
       "<div>\n",
       "<style scoped>\n",
       "    .dataframe tbody tr th:only-of-type {\n",
       "        vertical-align: middle;\n",
       "    }\n",
       "\n",
       "    .dataframe tbody tr th {\n",
       "        vertical-align: top;\n",
       "    }\n",
       "\n",
       "    .dataframe thead th {\n",
       "        text-align: right;\n",
       "    }\n",
       "</style>\n",
       "<table border=\"1\" class=\"dataframe\">\n",
       "  <thead>\n",
       "    <tr style=\"text-align: right;\">\n",
       "      <th></th>\n",
       "      <th>city</th>\n",
       "      <th>area</th>\n",
       "      <th>rooms</th>\n",
       "      <th>bathroom</th>\n",
       "      <th>parking spaces</th>\n",
       "      <th>floor</th>\n",
       "      <th>animal</th>\n",
       "      <th>furniture</th>\n",
       "      <th>hoa (R$)</th>\n",
       "      <th>rent amount (R$)</th>\n",
       "      <th>property tax (R$)</th>\n",
       "      <th>fire insurance (R$)</th>\n",
       "      <th>total (R$)</th>\n",
       "    </tr>\n",
       "  </thead>\n",
       "  <tbody>\n",
       "    <tr>\n",
       "      <th>0</th>\n",
       "      <td>São Paulo</td>\n",
       "      <td>70</td>\n",
       "      <td>2</td>\n",
       "      <td>1</td>\n",
       "      <td>1</td>\n",
       "      <td>7</td>\n",
       "      <td>acept</td>\n",
       "      <td>furnished</td>\n",
       "      <td>2065</td>\n",
       "      <td>3300</td>\n",
       "      <td>211</td>\n",
       "      <td>42</td>\n",
       "      <td>5618</td>\n",
       "    </tr>\n",
       "    <tr>\n",
       "      <th>1</th>\n",
       "      <td>São Paulo</td>\n",
       "      <td>320</td>\n",
       "      <td>4</td>\n",
       "      <td>4</td>\n",
       "      <td>0</td>\n",
       "      <td>20</td>\n",
       "      <td>acept</td>\n",
       "      <td>not furnished</td>\n",
       "      <td>1200</td>\n",
       "      <td>4960</td>\n",
       "      <td>1750</td>\n",
       "      <td>63</td>\n",
       "      <td>7973</td>\n",
       "    </tr>\n",
       "    <tr>\n",
       "      <th>2</th>\n",
       "      <td>Porto Alegre</td>\n",
       "      <td>80</td>\n",
       "      <td>1</td>\n",
       "      <td>1</td>\n",
       "      <td>1</td>\n",
       "      <td>6</td>\n",
       "      <td>acept</td>\n",
       "      <td>not furnished</td>\n",
       "      <td>1000</td>\n",
       "      <td>2800</td>\n",
       "      <td>0</td>\n",
       "      <td>41</td>\n",
       "      <td>3841</td>\n",
       "    </tr>\n",
       "    <tr>\n",
       "      <th>3</th>\n",
       "      <td>Porto Alegre</td>\n",
       "      <td>51</td>\n",
       "      <td>2</td>\n",
       "      <td>1</td>\n",
       "      <td>0</td>\n",
       "      <td>2</td>\n",
       "      <td>acept</td>\n",
       "      <td>not furnished</td>\n",
       "      <td>270</td>\n",
       "      <td>1112</td>\n",
       "      <td>22</td>\n",
       "      <td>17</td>\n",
       "      <td>1421</td>\n",
       "    </tr>\n",
       "    <tr>\n",
       "      <th>4</th>\n",
       "      <td>São Paulo</td>\n",
       "      <td>25</td>\n",
       "      <td>1</td>\n",
       "      <td>1</td>\n",
       "      <td>0</td>\n",
       "      <td>1</td>\n",
       "      <td>not acept</td>\n",
       "      <td>not furnished</td>\n",
       "      <td>0</td>\n",
       "      <td>800</td>\n",
       "      <td>25</td>\n",
       "      <td>11</td>\n",
       "      <td>836</td>\n",
       "    </tr>\n",
       "  </tbody>\n",
       "</table>\n",
       "</div>"
      ],
      "text/plain": [
       "           city  area  rooms  bathroom  parking spaces  floor     animal  \\\n",
       "0     São Paulo    70      2         1               1      7      acept   \n",
       "1     São Paulo   320      4         4               0     20      acept   \n",
       "2  Porto Alegre    80      1         1               1      6      acept   \n",
       "3  Porto Alegre    51      2         1               0      2      acept   \n",
       "4     São Paulo    25      1         1               0      1  not acept   \n",
       "\n",
       "       furniture  hoa (R$)  rent amount (R$)  property tax (R$)  \\\n",
       "0      furnished      2065              3300                211   \n",
       "1  not furnished      1200              4960               1750   \n",
       "2  not furnished      1000              2800                  0   \n",
       "3  not furnished       270              1112                 22   \n",
       "4  not furnished         0               800                 25   \n",
       "\n",
       "   fire insurance (R$)  total (R$)  \n",
       "0                   42        5618  \n",
       "1                   63        7973  \n",
       "2                   41        3841  \n",
       "3                   17        1421  \n",
       "4                   11         836  "
      ]
     },
     "execution_count": 2,
     "metadata": {},
     "output_type": "execute_result"
    }
   ],
   "source": [
    "df=pd.read_csv(\"data (1).csv\")\n",
    "df[:5]"
   ]
  },
  {
   "cell_type": "code",
   "execution_count": null,
   "id": "0551560e",
   "metadata": {},
   "outputs": [],
   "source": []
  },
  {
   "cell_type": "code",
   "execution_count": null,
   "id": "77d11434",
   "metadata": {},
   "outputs": [],
   "source": []
  },
  {
   "cell_type": "code",
   "execution_count": null,
   "id": "ca9212f5",
   "metadata": {},
   "outputs": [],
   "source": []
  },
  {
   "cell_type": "code",
   "execution_count": null,
   "id": "7d6027bb",
   "metadata": {},
   "outputs": [],
   "source": []
  },
  {
   "cell_type": "code",
   "execution_count": null,
   "id": "e6540ad2",
   "metadata": {},
   "outputs": [],
   "source": []
  },
  {
   "cell_type": "code",
   "execution_count": null,
   "id": "4e66aa05",
   "metadata": {},
   "outputs": [],
   "source": []
  },
  {
   "cell_type": "code",
   "execution_count": null,
   "id": "198ecaa9",
   "metadata": {},
   "outputs": [],
   "source": []
  },
  {
   "cell_type": "code",
   "execution_count": null,
   "id": "58f71deb",
   "metadata": {},
   "outputs": [],
   "source": []
  },
  {
   "cell_type": "code",
   "execution_count": null,
   "id": "0c1764ec",
   "metadata": {},
   "outputs": [],
   "source": []
  },
  {
   "cell_type": "markdown",
   "id": "4ce094de",
   "metadata": {},
   "source": [
    "# ---------------------------------------------------------------------------------------------------------------"
   ]
  },
  {
   "cell_type": "markdown",
   "id": "cf02959a",
   "metadata": {},
   "source": [
    "##### plot the pair plot of salary, balance and age in data dataframe.  \n",
    "\n",
    ">sns.pairplot(data = data, vars=['salary','balance','age'])\n",
    "plt.show()"
   ]
  },
  {
   "cell_type": "markdown",
   "id": "56519d13",
   "metadata": {},
   "source": [
    "##### columnwise statistical description...\n",
    ">df.column.describe()"
   ]
  },
  {
   "cell_type": "markdown",
   "id": "8cc4c2e8",
   "metadata": {},
   "source": [
    "# ---------------------------------------------------------------------------------------------------------------"
   ]
  },
  {
   "cell_type": "code",
   "execution_count": null,
   "id": "88a4a89b",
   "metadata": {},
   "outputs": [],
   "source": [
    "#plot the bar graph of marital status with average value of response_rate\n",
    "data.groupby('marital')['response_rate'].mean().plot.bar()\n",
    "plt.show()"
   ]
  },
  {
   "cell_type": "code",
   "execution_count": null,
   "id": "bd2183fa",
   "metadata": {},
   "outputs": [],
   "source": [
    "#horizontal and percentage output....\n",
    "\n",
    "\n",
    "# Let's calculate the percentage of each job status category.\n",
    "df.col.value_counts(normalize=True)\n",
    "\n",
    "#plot the bar graph of percentage job categories\n",
    "df.col.value_counts(normalize=True).plot.barh()\n",
    "plt.show()"
   ]
  },
  {
   "cell_type": "code",
   "execution_count": null,
   "id": "9865ea6a",
   "metadata": {},
   "outputs": [],
   "source": [
    "#BARPLOT...\n",
    "\n",
    "\n",
    "# analyzing the Education Field:\n",
    "\n",
    "#plt.FIGURE['figure.figsize'] = (8, 4)\n",
    "#PLT.figure(figsize=(8, 6), dpi=80)\n",
    "\n",
    "plt.rcParams['figure.figsize'] = (8, 4)\n",
    "data['EducationField'].value_counts().plot(kind = 'bar', color = 'orange')\n",
    "plt.ylabel('Values')\n",
    "plt.xlabel('Different Education Fields')\n",
    "plt.xticks(rotation = 360)\n",
    "plt.title('No. of Employees from different Education Fields', fontsize =12)\n",
    "plt.show()"
   ]
  },
  {
   "cell_type": "code",
   "execution_count": null,
   "id": "e8095a9a",
   "metadata": {},
   "outputs": [],
   "source": [
    "# lets plot Education vs Monthly Rate\n",
    "\n",
    "#plt.FIGURE['figure.figsize'] = (8, 4)\n",
    "#PLT.figure(figsize=(8, 6), dpi=80)\n",
    "\n",
    "plt.rcParams['figure.figsize'] = (10, 4)\n",
    "plt.bar(data['EducationField'], data['MonthlyRate'], width = 0.7, align = 'center')\n",
    "plt.title('Average Salary of Employees from Various Departments')\n",
    "plt.show()"
   ]
  },
  {
   "cell_type": "markdown",
   "id": "76bcdd0c",
   "metadata": {},
   "source": [
    "# ---------------------------------------------------------------------------------------------------------------"
   ]
  },
  {
   "cell_type": "markdown",
   "id": "7ac4b4d2",
   "metadata": {},
   "source": [
    "### Histogram/column/bar with percentage:"
   ]
  },
  {
   "cell_type": "code",
   "execution_count": null,
   "id": "edc7ae82",
   "metadata": {},
   "outputs": [],
   "source": [
    "fig, ax = plt.subplots()\n",
    "\n",
    "ax = sns.countplot(x = df[\"Marital_Status\"])\n",
    "\n",
    "for bar in ax.patches:\n",
    "    \n",
    "    percentage = f\"{round(bar.get_height() /len(df), 2)}%\" \n",
    "    \n",
    "    x = bar.get_x() + bar.get_width() /2\n",
    "    \n",
    "    y = bar.get_height()   \n",
    "    \n",
    "    ax.annotate(percentage, (x, y), va = \"bottom\", ha =\"center\" )\n",
    "    ax.annotate(percentage, (x, y), va = \"top\", ha =\"center\" )\n",
    "           \n",
    "plt.show()"
   ]
  },
  {
   "cell_type": "markdown",
   "id": "e419e1f1",
   "metadata": {},
   "source": [
    "### Histogram/column/bar___&___Pie chart/diagram*(exploded/sliced) with percentage:"
   ]
  },
  {
   "cell_type": "code",
   "execution_count": null,
   "id": "50e39047",
   "metadata": {},
   "outputs": [],
   "source": [
    "#NIIT's Approach...\n",
    "\n",
    "fig, ax = plt.subplots(1, 2, figsize = (15, 7))\n",
    " \n",
    "ax[0].set_title(\"Count of Card_Category:\")\n",
    "ax[1].set_title(\"Composition of Card_Category:\")\n",
    "\n",
    "percentage = df[\"Card_Category\"].value_counts()\n",
    "\n",
    "labels = list(df[\"Card_Category\"].value_counts().index)\n",
    "\n",
    "sns.countplot(x = df[\"Card_Category\"], ax = ax[0])\n",
    "\n",
    "plt.pie(percentage,labels = labels, explode=[0.2,0.2,0.2,0.4,0.6], autopct= \"%0.2f%%\") \n",
    "#explode parameter is used for slicing the pie chart...\n",
    "\n",
    "plt.show()"
   ]
  },
  {
   "cell_type": "markdown",
   "id": "b1bad3ca",
   "metadata": {},
   "source": [
    "# ---------------------------------------------------------------------------------------------------------------"
   ]
  },
  {
   "cell_type": "code",
   "execution_count": null,
   "id": "4a6229c8",
   "metadata": {},
   "outputs": [],
   "source": [
    "#1. Simple Bar\n",
    "\n",
    "\n",
    "x = np.array(list(\"ABCDEFGHIJ\"))  # categorical variable \n",
    "y = np.arange(1, 11)\n",
    "sns.barplot(x=x, y=y, palette=\"viridis\") "
   ]
  },
  {
   "cell_type": "code",
   "execution_count": null,
   "id": "90b0341b",
   "metadata": {},
   "outputs": [],
   "source": [
    "#2. Vertical barplot\n",
    "\n",
    "\n",
    "tips = sns.load_dataset(\"tips\") # load embedded dataset \"tips\"\n",
    "\n",
    "sns.barplot(x=\"day\", y=\"total_bill\", data=tips, color=\"royalblue\")"
   ]
  },
  {
   "cell_type": "code",
   "execution_count": null,
   "id": "7b5e974d",
   "metadata": {},
   "outputs": [],
   "source": [
    "#3. Horizontal Barplot\n",
    "\n",
    "\n",
    "# make a horizontal barplot\n",
    "sns.barplot(x=\"total_bill\", y=\"day\", data=tips, color=\"royalblue\")\n",
    "\n",
    "# add a vertical line\n",
    "plt.axvline(x = 19.8,color='r',linewidth = 2,linestyle = '--')\n",
    "\n",
    "# add annotation\n",
    "plt.text(19.8+0.2, 0.5, \" Avg Bill: $20\", size='small', color='r', weight='light')"
   ]
  },
  {
   "cell_type": "code",
   "execution_count": null,
   "id": "3c341289",
   "metadata": {},
   "outputs": [],
   "source": [
    "#4. Grouped Barplot\n",
    "\n",
    "\n",
    "sns.barplot(x=\"day\", y=\"total_bill\", hue=\"sex\", data=tips, palette = \"Set1\")\n",
    "plt.legend(loc=2)  # set legend position "
   ]
  },
  {
   "cell_type": "code",
   "execution_count": null,
   "id": "ddcf90a0",
   "metadata": {},
   "outputs": [],
   "source": [
    "#5. Facet Barplot\n",
    "\n",
    "\n",
    "plt.figure(figsize = (12,6))\n",
    "sns.catplot(x=\"sex\", y=\"total_bill\",\n",
    "                hue=\"time\", col=\"day\",\n",
    "                data=tips, kind=\"bar\",\n",
    "                height=5, aspect=.7,palette = \"Set1\");"
   ]
  },
  {
   "cell_type": "markdown",
   "id": "1294b27e",
   "metadata": {},
   "source": [
    "# ---------------------------------------------------------------------------------------------------------------"
   ]
  },
  {
   "cell_type": "code",
   "execution_count": 17,
   "id": "9cdc61ee",
   "metadata": {},
   "outputs": [
    {
     "data": {
      "image/png": "[encoded data removed]",
      "text/plain": [
       "<Figure size 508.35x432 with 1 Axes>"
      ]
     },
     "metadata": {},
     "output_type": "display_data"
    }
   ],
   "source": [
    "sns.set_theme(style=\"whitegrid\")\n",
    "\n",
    "penguins = sns.load_dataset(\"penguins\")\n",
    "\n",
    "# Draw a nested barplot by species and sex\n",
    "g = sns.catplot(\n",
    "    data=penguins, kind=\"bar\",\n",
    "    x=\"species\", y=\"body_mass_g\", hue=\"sex\",\n",
    "    ci=\"sd\", palette=\"dark\", alpha=.6, height=6\n",
    ")\n",
    "g.despine(left=True)\n",
    "g.set_axis_labels(\"\", \"Body mass (g)\")\n",
    "g.legend.set_title(\"\")"
   ]
  },
  {
   "cell_type": "markdown",
   "id": "eea2c08e",
   "metadata": {},
   "source": [
    "# ---------------------------------------------------------------------------------------------------------------"
   ]
  },
  {
   "cell_type": "markdown",
   "id": "6bac3317",
   "metadata": {},
   "source": [
    "##### Multivariate Plots  \n",
    "There are two different types of plots available to visualize Multivariate data using bar Plots  \n",
    ">* Grouped Bar Plots  \n",
    ">* Stacked Bar Plots  "
   ]
  },
  {
   "cell_type": "code",
   "execution_count": 6,
   "id": "0c5fab1f",
   "metadata": {},
   "outputs": [],
   "source": [
    "#Grouped Bar Plots\n",
    "# lets plot Departments vs Monthly Rate\n",
    "\n",
    "#plt.FIGURE['figure.figsize'] = (8, 4)\n",
    "#PLT.figure(figsize=(8, 6), dpi=80)\n",
    "\n",
    "plt.rcParams['figure.figsize'] = (10, 4)\n",
    "\n",
    "x = data.pivot_table(index = ['Department','EducationField'],   #PLOTTING USING PIVOT TABLE\n",
    "                     values = ['MonthlyRate'], \n",
    "                     aggfunc = 'mean')\n",
    "\n",
    "x = pd.crosstab(index = data['Department'],\n",
    "                columns = data['EducationField'],   #PLOTTING USING CROSSTAB(COUNTING...)\n",
    "                values = data['MonthlyRate'],\n",
    "                aggfunc = 'mean')\n",
    "\n",
    "x.plot(kind = 'bar', stacked = False)\n",
    "plt.xticks(rotation = 90)\n",
    "plt.show()"
   ]
  },
  {
   "cell_type": "markdown",
   "id": "ea1e727f",
   "metadata": {},
   "source": [
    "##### We can Plot Multi-Variate Charts for any data using Pivot_table() function  "
   ]
  },
  {
   "cell_type": "code",
   "execution_count": null,
   "id": "edb1686d",
   "metadata": {},
   "outputs": [],
   "source": [
    "# using crosstab funtion, making a cross tabular using multiple variables.\n",
    "# we have used mean function to aggregate the values of Monthly rate.\n",
    "# for x axis -> index: Department\n",
    "# for y axis -> index: Education Field\n",
    "# values (x X y) -> Monthly Rate, aggreated using mean function\n",
    "\n",
    "x = pd.crosstab(index = data['Department'],\n",
    "                columns = data['EducationField'],\n",
    "                values = data['MonthlyRate'],\n",
    "                aggfunc = 'mean')\n",
    "x"
   ]
  },
  {
   "cell_type": "markdown",
   "id": "7e56df0c",
   "metadata": {},
   "source": [
    "##### Stacked Bar Plot"
   ]
  },
  {
   "cell_type": "code",
   "execution_count": null,
   "id": "b4c1d67c",
   "metadata": {},
   "outputs": [],
   "source": [
    "# lets plot a Stacked Bar Chart\n",
    "# we will use x, which we have created using crosstab function\n",
    "\n",
    "# setting the size of the plot\n",
    "\n",
    "#plt.FIGURE['figure.figsize'] = (8, 4)\n",
    "#PLT.figure(figsize=(8, 6), dpi=80)\n",
    "\n",
    "plt.rcParams['figure.figsize'] = (8, 4)\n",
    "\n",
    "# keeping the Stacked option to **True**\n",
    "x.plot(kind = 'bar', stacked = True)\n",
    "plt.ylabel('Salary')\n",
    "plt.xticks(rotation = 20)\n",
    "plt.show()"
   ]
  },
  {
   "cell_type": "markdown",
   "id": "76ac84c8",
   "metadata": {},
   "source": [
    "##### Grouped Bar Plot"
   ]
  },
  {
   "cell_type": "code",
   "execution_count": null,
   "id": "2a2671ad",
   "metadata": {},
   "outputs": [],
   "source": [
    "# Lets make a Grouped Bar Plot \n",
    "# we will be using the variable x which we have created using the cross tab function\n",
    "\n",
    "# setting the size of the plot\n",
    "\n",
    "#plt.FIGURE['figure.figsize'] = (8, 4)\n",
    "#PLT.figure(figsize=(8, 6), dpi=80)\n",
    "\n",
    "plt.rcParams['figure.figsize'] = (8, 4)\n",
    "\n",
    "# keeping the stacked option to **false**\n",
    "x.plot(kind = 'bar', stacked = False)\n",
    "plt.xticks(rotation = 20)\n",
    "plt.show()"
   ]
  },
  {
   "cell_type": "markdown",
   "id": "641cc2c1",
   "metadata": {},
   "source": [
    "# ---------------------------------------------------------------------------------------------------------------"
   ]
  },
  {
   "cell_type": "markdown",
   "id": "dc37b9ec",
   "metadata": {},
   "source": [
    ">sns.histplot(auto.horsepower,bins=10)"
   ]
  },
  {
   "cell_type": "markdown",
   "id": "cf8806f2",
   "metadata": {},
   "source": [
    "# ---------------------------------------------------------------------------------------------------------------"
   ]
  },
  {
   "cell_type": "markdown",
   "id": "855ff5d7",
   "metadata": {},
   "source": [
    "# categorical info. def function"
   ]
  },
  {
   "cell_type": "code",
   "execution_count": null,
   "id": "ba5e10bb",
   "metadata": {},
   "outputs": [],
   "source": [
    "def info_of_cat(col):\n",
    "    \n",
    "        # unique: returns the unique values in the col\n",
    "        print(f\"Unique values in {col} are: {df[col].unique()}\")\n",
    "        \n",
    "        # mode: returns the mode of the column\n",
    "        print(f\"Mode of {col} is {df[col].mode()[0]}\")\n",
    "        \n",
    "        # isnull().sum() counts the number of null in dataframe\n",
    "        print(f\"Number of missing values in {col} is {df[col].isnull().sum()}\")\n",
    "        \n",
    "        #` check if null values are present\n",
    "        if df[col].isnull().sum() > 0:\n",
    "            \n",
    "            print(f\"\\nThere are null values in the {col} column\")"
   ]
  },
  {
   "cell_type": "markdown",
   "id": "f60e187c",
   "metadata": {},
   "source": [
    "# numerical info. def function"
   ]
  },
  {
   "cell_type": "code",
   "execution_count": null,
   "id": "7f8df661",
   "metadata": {},
   "outputs": [],
   "source": [
    "def info_of_numerical(col):\n",
    "    print(f\"The mean of the {col} is {df[col].mean()}\")\n",
    "    print(f\"The median of the {col} is {df[col].median()}\")\n",
    "    print(f\"The mode of the {col} is {df[col].mode()[0]}\")\n",
    "    print(f\"The standard deviation of the {col} is {df[col].std()}\")\n",
    "    print(f\"Number of missing values in the {col} is {df[col].isnull().sum()}\")"
   ]
  },
  {
   "cell_type": "markdown",
   "id": "2efab2f8",
   "metadata": {},
   "source": [
    "# boxplot & histogram def function"
   ]
  },
  {
   "cell_type": "code",
   "execution_count": null,
   "id": "be95828a",
   "metadata": {},
   "outputs": [],
   "source": [
    "def box_hist(col):\n",
    "    fig, ax = plt.subplots(1, 2, figsize= (20, 7))\n",
    "    sns.histplot(x = df[\"Customer_Age\"], ax =ax[1], color = \"m\")\n",
    "    sns.boxplot(x = df[\"Customer_Age\"], ax = ax[0], color = \"g\")\n",
    "    plt.show()"
   ]
  },
  {
   "cell_type": "markdown",
   "id": "a948da46",
   "metadata": {},
   "source": [
    "# countplot def function"
   ]
  },
  {
   "cell_type": "code",
   "execution_count": null,
   "id": "b2664866",
   "metadata": {},
   "outputs": [],
   "source": [
    "def countplot(col):\n",
    "    fig, ax = plt.subplots(figsize = (10, 7))\n",
    "    sns.countplot(x = \"Dependent_count\", hue = \"Attrition_Flag\", data = df)\n",
    "    plt.show()"
   ]
  },
  {
   "cell_type": "markdown",
   "id": "4f0a9df6",
   "metadata": {},
   "source": [
    "# missing values filled with mode()...nominal data!"
   ]
  },
  {
   "cell_type": "code",
   "execution_count": null,
   "id": "dc959c3c",
   "metadata": {},
   "outputs": [],
   "source": [
    "def fill_miss_mode(col):\n",
    "    mode = df[col].mode()[0] #[0] is index, without \"[0]\" we'll get boolean value...\n",
    "    print(mode)\n",
    "    df[col].fillna(mode, inplace = True, axis = 0)"
   ]
  },
  {
   "cell_type": "markdown",
   "id": "6b1360cb",
   "metadata": {},
   "source": [
    "# User defined function for extracting numerical category column info..."
   ]
  },
  {
   "cell_type": "code",
   "execution_count": null,
   "id": "926de28b",
   "metadata": {},
   "outputs": [],
   "source": [
    "\n",
    "def numerical_cat_info(col):\n",
    "    \n",
    "    print(f\"The mean of the {col} is {df[col].mean()}\")\n",
    "    \n",
    "    print(f\"The median of the {col} is {df[col].median()}\")\n",
    "    \n",
    "    print(f\"The mode of the {col} is {df[col].mode()[0]}\")\n",
    "    \n",
    "    print(f\"The standard deviation of the {col} is {df[col].std()}\")\n",
    "    \n",
    "    print(f\"Number of missing values in the {col} is {df[col].isnull().sum()}\")"
   ]
  },
  {
   "cell_type": "markdown",
   "id": "d3f4ba16",
   "metadata": {},
   "source": [
    "# User defined function for drawing a boxplot and a histogram..."
   ]
  },
  {
   "cell_type": "code",
   "execution_count": null,
   "id": "4ea1a66d",
   "metadata": {},
   "outputs": [],
   "source": [
    "def box_hist(col):\n",
    "\n",
    "    fig, ax = plt.subplots(1, 2, figsize= (20, 7))\n",
    "\n",
    "    sns.histplot(x = df[col], ax =ax[1], color = \"m\") \n",
    "\n",
    "    sns.boxplot(x = df[col], ax = ax[0], color = \"g\") \n",
    "\n",
    "    plt.show()"
   ]
  },
  {
   "cell_type": "markdown",
   "id": "5858d800",
   "metadata": {},
   "source": [
    "# filling missing values as unknown..."
   ]
  },
  {
   "cell_type": "code",
   "execution_count": null,
   "id": "f813c5af",
   "metadata": {},
   "outputs": [],
   "source": [
    "df[\"Column\"].fillna(\"Unknown\",inplace=True)"
   ]
  },
  {
   "cell_type": "markdown",
   "id": "fc95a26c",
   "metadata": {},
   "source": [
    "# filling mising values with mean in numerical data..."
   ]
  },
  {
   "cell_type": "code",
   "execution_count": null,
   "id": "7aaef3b2",
   "metadata": {},
   "outputs": [],
   "source": [
    "mean=36.93015214384509\n",
    "df[\"Age\"].fillna(mean,\n",
    "                axis=0,\n",
    "                inplace=True)"
   ]
  },
  {
   "cell_type": "markdown",
   "id": "92c38051",
   "metadata": {},
   "source": [
    "# Histogram for categorical vs categorical data/column..."
   ]
  },
  {
   "cell_type": "code",
   "execution_count": null,
   "id": "58370634",
   "metadata": {},
   "outputs": [],
   "source": [
    "def cat_cat_hist(col):\n",
    "    fig, ax = plt.subplots(figsize = (10, 7))\n",
    "    sns.countplot(x = (col), hue = \"col\", data = df)\n",
    "    plt.show()"
   ]
  },
  {
   "cell_type": "code",
   "execution_count": null,
   "id": "8828cd61",
   "metadata": {},
   "outputs": [],
   "source": []
  },
  {
   "cell_type": "code",
   "execution_count": null,
   "id": "20f9f2a4",
   "metadata": {},
   "outputs": [],
   "source": [
    "df.groupby(['city'])['bathroom'].aggregate(lambda x: x.mean()).plot(kind='barh',color=['r','g','b','y','c']\\\n",
    "    ,xlabel='City', title='Average number of bathrooms of a house in each city', fontsize=12);"
   ]
  },
  {
   "cell_type": "markdown",
   "id": "30fd3b31",
   "metadata": {},
   "source": [
    "# ---------------------------------------------------------------------------------------------------------------"
   ]
  },
  {
   "cell_type": "markdown",
   "id": "a99ed149",
   "metadata": {},
   "source": [
    "##### hist/pie       S_Ma'am's Approach:"
   ]
  },
  {
   "cell_type": "code",
   "execution_count": null,
   "id": "4aa0a81d",
   "metadata": {},
   "outputs": [],
   "source": [
    "fig, ax = plt.subplots(1, 2, figsize = (15, 7))\n",
    " \n",
    "ax[0].set_title(\"Count of Marital Status:\")\n",
    "ax[1].set_title(\"Composition of Marital Status:\")\n",
    "\n",
    "percentage = df[\"Marital_Status\"].value_counts()\n",
    "\n",
    "labels = list(df[\"Marital_Status\"].value_counts().index)\n",
    "\n",
    "sns.countplot(x = df[\"Marital_Status\"], ax = ax[0])\n",
    "\n",
    "plt.pie(percentage,labels = labels, autopct= \"%0.2f%%\")  \n",
    "\n",
    "plt.show()"
   ]
  },
  {
   "cell_type": "markdown",
   "id": "1aee5ae8",
   "metadata": {},
   "source": [
    "# ---------------------------------------------------------------------------------------------------------------"
   ]
  },
  {
   "cell_type": "markdown",
   "id": "f7cd0d8b",
   "metadata": {},
   "source": [
    "##### lets check the documentation of Bar Plots in Matplotlib...\n",
    ">help(plt.bar)"
   ]
  },
  {
   "cell_type": "markdown",
   "id": "1538148c",
   "metadata": {},
   "source": [
    "# ---------------------------------------------------------------------------------------------------------------"
   ]
  },
  {
   "cell_type": "code",
   "execution_count": null,
   "id": "b1e35fef",
   "metadata": {},
   "outputs": [],
   "source": []
  }
 ],
 "metadata": {
  "kernelspec": {
   "display_name": "Python 3 (ipykernel)",
   "language": "python",
   "name": "python3"
  },
  "language_info": {
   "codemirror_mode": {
    "name": "ipython",
    "version": 3
   },
   "file_extension": ".py",
   "mimetype": "text/x-python",
   "name": "python",
   "nbconvert_exporter": "python",
   "pygments_lexer": "ipython3",
   "version": "3.10.2"
  }
 },
 "nbformat": 4,
 "nbformat_minor": 5
}
