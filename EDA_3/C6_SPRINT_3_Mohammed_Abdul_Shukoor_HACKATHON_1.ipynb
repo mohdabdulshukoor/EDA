{
 "cells": [
  {
   "cell_type": "markdown",
   "id": "6f23f738",
   "metadata": {},
   "source": [
    "# $Brazil \\ Housing \\ Exploratory \\ Data \\ Analysis \\$"
   ]
  },
  {
   "cell_type": "markdown",
   "id": "0a04ada0",
   "metadata": {},
   "source": [
    "# ---------------------------------------------------------------------------------------------------------------"
   ]
  },
  {
   "cell_type": "code",
   "execution_count": 4,
   "id": "e922e9da",
   "metadata": {},
   "outputs": [],
   "source": [
    "import math\n",
    "import numpy as np\n",
    "import pandas as pd\n",
    "import seaborn as sns\n",
    "import matplotlib.pyplot as plt\n",
    "from tabulate import tabulate as tab"
   ]
  },
  {
   "cell_type": "markdown",
   "id": "f2a03196",
   "metadata": {},
   "source": [
    "# ---------------------------------------------------------------------------------------------------------------"
   ]
  },
  {
   "cell_type": "markdown",
   "id": "d8d8db36",
   "metadata": {},
   "source": [
    "## LEVEL 0 Analysis:"
   ]
  },
  {
   "cell_type": "code",
   "execution_count": 3,
   "id": "987588c3",
   "metadata": {
    "scrolled": false
   },
   "outputs": [
    {
     "data": {
      "text/html": [
       "<div>\n",
       "<style scoped>\n",
       "    .dataframe tbody tr th:only-of-type {\n",
       "        vertical-align: middle;\n",
       "    }\n",
       "\n",
       "    .dataframe tbody tr th {\n",
       "        vertical-align: top;\n",
       "    }\n",
       "\n",
       "    .dataframe thead th {\n",
       "        text-align: right;\n",
       "    }\n",
       "</style>\n",
       "<table border=\"1\" class=\"dataframe\">\n",
       "  <thead>\n",
       "    <tr style=\"text-align: right;\">\n",
       "      <th></th>\n",
       "      <th>city</th>\n",
       "      <th>area</th>\n",
       "      <th>rooms</th>\n",
       "      <th>bathroom</th>\n",
       "      <th>parking spaces</th>\n",
       "      <th>floor</th>\n",
       "      <th>animal</th>\n",
       "      <th>furniture</th>\n",
       "      <th>hoa (R$)</th>\n",
       "      <th>rent amount (R$)</th>\n",
       "      <th>property tax (R$)</th>\n",
       "      <th>fire insurance (R$)</th>\n",
       "      <th>total (R$)</th>\n",
       "    </tr>\n",
       "  </thead>\n",
       "  <tbody>\n",
       "    <tr>\n",
       "      <th>0</th>\n",
       "      <td>São Paulo</td>\n",
       "      <td>70</td>\n",
       "      <td>2</td>\n",
       "      <td>1</td>\n",
       "      <td>1</td>\n",
       "      <td>7</td>\n",
       "      <td>acept</td>\n",
       "      <td>furnished</td>\n",
       "      <td>2065</td>\n",
       "      <td>3300</td>\n",
       "      <td>211</td>\n",
       "      <td>42</td>\n",
       "      <td>5618</td>\n",
       "    </tr>\n",
       "    <tr>\n",
       "      <th>1</th>\n",
       "      <td>São Paulo</td>\n",
       "      <td>320</td>\n",
       "      <td>4</td>\n",
       "      <td>4</td>\n",
       "      <td>0</td>\n",
       "      <td>20</td>\n",
       "      <td>acept</td>\n",
       "      <td>not furnished</td>\n",
       "      <td>1200</td>\n",
       "      <td>4960</td>\n",
       "      <td>1750</td>\n",
       "      <td>63</td>\n",
       "      <td>7973</td>\n",
       "    </tr>\n",
       "    <tr>\n",
       "      <th>2</th>\n",
       "      <td>Porto Alegre</td>\n",
       "      <td>80</td>\n",
       "      <td>1</td>\n",
       "      <td>1</td>\n",
       "      <td>1</td>\n",
       "      <td>6</td>\n",
       "      <td>acept</td>\n",
       "      <td>not furnished</td>\n",
       "      <td>1000</td>\n",
       "      <td>2800</td>\n",
       "      <td>0</td>\n",
       "      <td>41</td>\n",
       "      <td>3841</td>\n",
       "    </tr>\n",
       "    <tr>\n",
       "      <th>3</th>\n",
       "      <td>Porto Alegre</td>\n",
       "      <td>51</td>\n",
       "      <td>2</td>\n",
       "      <td>1</td>\n",
       "      <td>0</td>\n",
       "      <td>2</td>\n",
       "      <td>acept</td>\n",
       "      <td>not furnished</td>\n",
       "      <td>270</td>\n",
       "      <td>1112</td>\n",
       "      <td>22</td>\n",
       "      <td>17</td>\n",
       "      <td>1421</td>\n",
       "    </tr>\n",
       "    <tr>\n",
       "      <th>4</th>\n",
       "      <td>São Paulo</td>\n",
       "      <td>25</td>\n",
       "      <td>1</td>\n",
       "      <td>1</td>\n",
       "      <td>0</td>\n",
       "      <td>1</td>\n",
       "      <td>not acept</td>\n",
       "      <td>not furnished</td>\n",
       "      <td>0</td>\n",
       "      <td>800</td>\n",
       "      <td>25</td>\n",
       "      <td>11</td>\n",
       "      <td>836</td>\n",
       "    </tr>\n",
       "    <tr>\n",
       "      <th>...</th>\n",
       "      <td>...</td>\n",
       "      <td>...</td>\n",
       "      <td>...</td>\n",
       "      <td>...</td>\n",
       "      <td>...</td>\n",
       "      <td>...</td>\n",
       "      <td>...</td>\n",
       "      <td>...</td>\n",
       "      <td>...</td>\n",
       "      <td>...</td>\n",
       "      <td>...</td>\n",
       "      <td>...</td>\n",
       "      <td>...</td>\n",
       "    </tr>\n",
       "    <tr>\n",
       "      <th>10687</th>\n",
       "      <td>Porto Alegre</td>\n",
       "      <td>63</td>\n",
       "      <td>2</td>\n",
       "      <td>1</td>\n",
       "      <td>1</td>\n",
       "      <td>5</td>\n",
       "      <td>not acept</td>\n",
       "      <td>furnished</td>\n",
       "      <td>402</td>\n",
       "      <td>1478</td>\n",
       "      <td>24</td>\n",
       "      <td>22</td>\n",
       "      <td>1926</td>\n",
       "    </tr>\n",
       "    <tr>\n",
       "      <th>10688</th>\n",
       "      <td>São Paulo</td>\n",
       "      <td>285</td>\n",
       "      <td>4</td>\n",
       "      <td>4</td>\n",
       "      <td>4</td>\n",
       "      <td>17</td>\n",
       "      <td>acept</td>\n",
       "      <td>not furnished</td>\n",
       "      <td>3100</td>\n",
       "      <td>15000</td>\n",
       "      <td>973</td>\n",
       "      <td>191</td>\n",
       "      <td>19260</td>\n",
       "    </tr>\n",
       "    <tr>\n",
       "      <th>10689</th>\n",
       "      <td>Rio de Janeiro</td>\n",
       "      <td>70</td>\n",
       "      <td>3</td>\n",
       "      <td>3</td>\n",
       "      <td>0</td>\n",
       "      <td>8</td>\n",
       "      <td>not acept</td>\n",
       "      <td>furnished</td>\n",
       "      <td>980</td>\n",
       "      <td>6000</td>\n",
       "      <td>332</td>\n",
       "      <td>78</td>\n",
       "      <td>7390</td>\n",
       "    </tr>\n",
       "    <tr>\n",
       "      <th>10690</th>\n",
       "      <td>Rio de Janeiro</td>\n",
       "      <td>120</td>\n",
       "      <td>2</td>\n",
       "      <td>2</td>\n",
       "      <td>2</td>\n",
       "      <td>8</td>\n",
       "      <td>acept</td>\n",
       "      <td>furnished</td>\n",
       "      <td>1585</td>\n",
       "      <td>12000</td>\n",
       "      <td>279</td>\n",
       "      <td>155</td>\n",
       "      <td>14020</td>\n",
       "    </tr>\n",
       "    <tr>\n",
       "      <th>10691</th>\n",
       "      <td>São Paulo</td>\n",
       "      <td>80</td>\n",
       "      <td>2</td>\n",
       "      <td>1</td>\n",
       "      <td>0</td>\n",
       "      <td>0</td>\n",
       "      <td>acept</td>\n",
       "      <td>not furnished</td>\n",
       "      <td>0</td>\n",
       "      <td>1400</td>\n",
       "      <td>165</td>\n",
       "      <td>22</td>\n",
       "      <td>1587</td>\n",
       "    </tr>\n",
       "  </tbody>\n",
       "</table>\n",
       "<p>10692 rows × 13 columns</p>\n",
       "</div>"
      ],
      "text/plain": [
       "                 city  area  rooms  bathroom  parking spaces  floor  \\\n",
       "0           São Paulo    70      2         1               1      7   \n",
       "1           São Paulo   320      4         4               0     20   \n",
       "2        Porto Alegre    80      1         1               1      6   \n",
       "3        Porto Alegre    51      2         1               0      2   \n",
       "4           São Paulo    25      1         1               0      1   \n",
       "...               ...   ...    ...       ...             ...    ...   \n",
       "10687    Porto Alegre    63      2         1               1      5   \n",
       "10688       São Paulo   285      4         4               4     17   \n",
       "10689  Rio de Janeiro    70      3         3               0      8   \n",
       "10690  Rio de Janeiro   120      2         2               2      8   \n",
       "10691       São Paulo    80      2         1               0      0   \n",
       "\n",
       "          animal      furniture  hoa (R$)  rent amount (R$)  \\\n",
       "0          acept      furnished      2065              3300   \n",
       "1          acept  not furnished      1200              4960   \n",
       "2          acept  not furnished      1000              2800   \n",
       "3          acept  not furnished       270              1112   \n",
       "4      not acept  not furnished         0               800   \n",
       "...          ...            ...       ...               ...   \n",
       "10687  not acept      furnished       402              1478   \n",
       "10688      acept  not furnished      3100             15000   \n",
       "10689  not acept      furnished       980              6000   \n",
       "10690      acept      furnished      1585             12000   \n",
       "10691      acept  not furnished         0              1400   \n",
       "\n",
       "       property tax (R$)  fire insurance (R$)  total (R$)  \n",
       "0                    211                   42        5618  \n",
       "1                   1750                   63        7973  \n",
       "2                      0                   41        3841  \n",
       "3                     22                   17        1421  \n",
       "4                     25                   11         836  \n",
       "...                  ...                  ...         ...  \n",
       "10687                 24                   22        1926  \n",
       "10688                973                  191       19260  \n",
       "10689                332                   78        7390  \n",
       "10690                279                  155       14020  \n",
       "10691                165                   22        1587  \n",
       "\n",
       "[10692 rows x 13 columns]"
      ]
     },
     "execution_count": 3,
     "metadata": {},
     "output_type": "execute_result"
    }
   ],
   "source": [
    "#reading the data file and converting to DataFrame...\n",
    "df=pd.read_csv(\"data (1).csv\")\n",
    "df"
   ]
  },
  {
   "cell_type": "code",
   "execution_count": 4,
   "id": "7c7c77a0",
   "metadata": {},
   "outputs": [
    {
     "data": {
      "text/html": [
       "<div>\n",
       "<style scoped>\n",
       "    .dataframe tbody tr th:only-of-type {\n",
       "        vertical-align: middle;\n",
       "    }\n",
       "\n",
       "    .dataframe tbody tr th {\n",
       "        vertical-align: top;\n",
       "    }\n",
       "\n",
       "    .dataframe thead th {\n",
       "        text-align: right;\n",
       "    }\n",
       "</style>\n",
       "<table border=\"1\" class=\"dataframe\">\n",
       "  <thead>\n",
       "    <tr style=\"text-align: right;\">\n",
       "      <th></th>\n",
       "      <th>city</th>\n",
       "      <th>area</th>\n",
       "      <th>rooms</th>\n",
       "      <th>bathroom</th>\n",
       "      <th>parking spaces</th>\n",
       "      <th>floor</th>\n",
       "      <th>animal</th>\n",
       "      <th>furniture</th>\n",
       "      <th>hoa (R$)</th>\n",
       "      <th>rent amount (R$)</th>\n",
       "      <th>property tax (R$)</th>\n",
       "      <th>fire insurance (R$)</th>\n",
       "      <th>total (R$)</th>\n",
       "    </tr>\n",
       "  </thead>\n",
       "  <tbody>\n",
       "    <tr>\n",
       "      <th>0</th>\n",
       "      <td>São Paulo</td>\n",
       "      <td>70</td>\n",
       "      <td>2</td>\n",
       "      <td>1</td>\n",
       "      <td>1</td>\n",
       "      <td>7</td>\n",
       "      <td>acept</td>\n",
       "      <td>furnished</td>\n",
       "      <td>2065</td>\n",
       "      <td>3300</td>\n",
       "      <td>211</td>\n",
       "      <td>42</td>\n",
       "      <td>5618</td>\n",
       "    </tr>\n",
       "    <tr>\n",
       "      <th>1</th>\n",
       "      <td>São Paulo</td>\n",
       "      <td>320</td>\n",
       "      <td>4</td>\n",
       "      <td>4</td>\n",
       "      <td>0</td>\n",
       "      <td>20</td>\n",
       "      <td>acept</td>\n",
       "      <td>not furnished</td>\n",
       "      <td>1200</td>\n",
       "      <td>4960</td>\n",
       "      <td>1750</td>\n",
       "      <td>63</td>\n",
       "      <td>7973</td>\n",
       "    </tr>\n",
       "    <tr>\n",
       "      <th>2</th>\n",
       "      <td>Porto Alegre</td>\n",
       "      <td>80</td>\n",
       "      <td>1</td>\n",
       "      <td>1</td>\n",
       "      <td>1</td>\n",
       "      <td>6</td>\n",
       "      <td>acept</td>\n",
       "      <td>not furnished</td>\n",
       "      <td>1000</td>\n",
       "      <td>2800</td>\n",
       "      <td>0</td>\n",
       "      <td>41</td>\n",
       "      <td>3841</td>\n",
       "    </tr>\n",
       "    <tr>\n",
       "      <th>3</th>\n",
       "      <td>Porto Alegre</td>\n",
       "      <td>51</td>\n",
       "      <td>2</td>\n",
       "      <td>1</td>\n",
       "      <td>0</td>\n",
       "      <td>2</td>\n",
       "      <td>acept</td>\n",
       "      <td>not furnished</td>\n",
       "      <td>270</td>\n",
       "      <td>1112</td>\n",
       "      <td>22</td>\n",
       "      <td>17</td>\n",
       "      <td>1421</td>\n",
       "    </tr>\n",
       "    <tr>\n",
       "      <th>4</th>\n",
       "      <td>São Paulo</td>\n",
       "      <td>25</td>\n",
       "      <td>1</td>\n",
       "      <td>1</td>\n",
       "      <td>0</td>\n",
       "      <td>1</td>\n",
       "      <td>not acept</td>\n",
       "      <td>not furnished</td>\n",
       "      <td>0</td>\n",
       "      <td>800</td>\n",
       "      <td>25</td>\n",
       "      <td>11</td>\n",
       "      <td>836</td>\n",
       "    </tr>\n",
       "  </tbody>\n",
       "</table>\n",
       "</div>"
      ],
      "text/plain": [
       "           city  area  rooms  bathroom  parking spaces  floor     animal  \\\n",
       "0     São Paulo    70      2         1               1      7      acept   \n",
       "1     São Paulo   320      4         4               0     20      acept   \n",
       "2  Porto Alegre    80      1         1               1      6      acept   \n",
       "3  Porto Alegre    51      2         1               0      2      acept   \n",
       "4     São Paulo    25      1         1               0      1  not acept   \n",
       "\n",
       "       furniture  hoa (R$)  rent amount (R$)  property tax (R$)  \\\n",
       "0      furnished      2065              3300                211   \n",
       "1  not furnished      1200              4960               1750   \n",
       "2  not furnished      1000              2800                  0   \n",
       "3  not furnished       270              1112                 22   \n",
       "4  not furnished         0               800                 25   \n",
       "\n",
       "   fire insurance (R$)  total (R$)  \n",
       "0                   42        5618  \n",
       "1                   63        7973  \n",
       "2                   41        3841  \n",
       "3                   17        1421  \n",
       "4                   11         836  "
      ]
     },
     "execution_count": 4,
     "metadata": {},
     "output_type": "execute_result"
    }
   ],
   "source": [
    "#first 5...\n",
    "df.head()"
   ]
  },
  {
   "cell_type": "code",
   "execution_count": 5,
   "id": "9bab3e40",
   "metadata": {},
   "outputs": [
    {
     "data": {
      "text/html": [
       "<div>\n",
       "<style scoped>\n",
       "    .dataframe tbody tr th:only-of-type {\n",
       "        vertical-align: middle;\n",
       "    }\n",
       "\n",
       "    .dataframe tbody tr th {\n",
       "        vertical-align: top;\n",
       "    }\n",
       "\n",
       "    .dataframe thead th {\n",
       "        text-align: right;\n",
       "    }\n",
       "</style>\n",
       "<table border=\"1\" class=\"dataframe\">\n",
       "  <thead>\n",
       "    <tr style=\"text-align: right;\">\n",
       "      <th></th>\n",
       "      <th>city</th>\n",
       "      <th>area</th>\n",
       "      <th>rooms</th>\n",
       "      <th>bathroom</th>\n",
       "      <th>parking spaces</th>\n",
       "      <th>floor</th>\n",
       "      <th>animal</th>\n",
       "      <th>furniture</th>\n",
       "      <th>hoa (R$)</th>\n",
       "      <th>rent amount (R$)</th>\n",
       "      <th>property tax (R$)</th>\n",
       "      <th>fire insurance (R$)</th>\n",
       "      <th>total (R$)</th>\n",
       "    </tr>\n",
       "  </thead>\n",
       "  <tbody>\n",
       "    <tr>\n",
       "      <th>10687</th>\n",
       "      <td>Porto Alegre</td>\n",
       "      <td>63</td>\n",
       "      <td>2</td>\n",
       "      <td>1</td>\n",
       "      <td>1</td>\n",
       "      <td>5</td>\n",
       "      <td>not acept</td>\n",
       "      <td>furnished</td>\n",
       "      <td>402</td>\n",
       "      <td>1478</td>\n",
       "      <td>24</td>\n",
       "      <td>22</td>\n",
       "      <td>1926</td>\n",
       "    </tr>\n",
       "    <tr>\n",
       "      <th>10688</th>\n",
       "      <td>São Paulo</td>\n",
       "      <td>285</td>\n",
       "      <td>4</td>\n",
       "      <td>4</td>\n",
       "      <td>4</td>\n",
       "      <td>17</td>\n",
       "      <td>acept</td>\n",
       "      <td>not furnished</td>\n",
       "      <td>3100</td>\n",
       "      <td>15000</td>\n",
       "      <td>973</td>\n",
       "      <td>191</td>\n",
       "      <td>19260</td>\n",
       "    </tr>\n",
       "    <tr>\n",
       "      <th>10689</th>\n",
       "      <td>Rio de Janeiro</td>\n",
       "      <td>70</td>\n",
       "      <td>3</td>\n",
       "      <td>3</td>\n",
       "      <td>0</td>\n",
       "      <td>8</td>\n",
       "      <td>not acept</td>\n",
       "      <td>furnished</td>\n",
       "      <td>980</td>\n",
       "      <td>6000</td>\n",
       "      <td>332</td>\n",
       "      <td>78</td>\n",
       "      <td>7390</td>\n",
       "    </tr>\n",
       "    <tr>\n",
       "      <th>10690</th>\n",
       "      <td>Rio de Janeiro</td>\n",
       "      <td>120</td>\n",
       "      <td>2</td>\n",
       "      <td>2</td>\n",
       "      <td>2</td>\n",
       "      <td>8</td>\n",
       "      <td>acept</td>\n",
       "      <td>furnished</td>\n",
       "      <td>1585</td>\n",
       "      <td>12000</td>\n",
       "      <td>279</td>\n",
       "      <td>155</td>\n",
       "      <td>14020</td>\n",
       "    </tr>\n",
       "    <tr>\n",
       "      <th>10691</th>\n",
       "      <td>São Paulo</td>\n",
       "      <td>80</td>\n",
       "      <td>2</td>\n",
       "      <td>1</td>\n",
       "      <td>0</td>\n",
       "      <td>0</td>\n",
       "      <td>acept</td>\n",
       "      <td>not furnished</td>\n",
       "      <td>0</td>\n",
       "      <td>1400</td>\n",
       "      <td>165</td>\n",
       "      <td>22</td>\n",
       "      <td>1587</td>\n",
       "    </tr>\n",
       "  </tbody>\n",
       "</table>\n",
       "</div>"
      ],
      "text/plain": [
       "                 city  area  rooms  bathroom  parking spaces  floor  \\\n",
       "10687    Porto Alegre    63      2         1               1      5   \n",
       "10688       São Paulo   285      4         4               4     17   \n",
       "10689  Rio de Janeiro    70      3         3               0      8   \n",
       "10690  Rio de Janeiro   120      2         2               2      8   \n",
       "10691       São Paulo    80      2         1               0      0   \n",
       "\n",
       "          animal      furniture  hoa (R$)  rent amount (R$)  \\\n",
       "10687  not acept      furnished       402              1478   \n",
       "10688      acept  not furnished      3100             15000   \n",
       "10689  not acept      furnished       980              6000   \n",
       "10690      acept      furnished      1585             12000   \n",
       "10691      acept  not furnished         0              1400   \n",
       "\n",
       "       property tax (R$)  fire insurance (R$)  total (R$)  \n",
       "10687                 24                   22        1926  \n",
       "10688                973                  191       19260  \n",
       "10689                332                   78        7390  \n",
       "10690                279                  155       14020  \n",
       "10691                165                   22        1587  "
      ]
     },
     "execution_count": 5,
     "metadata": {},
     "output_type": "execute_result"
    }
   ],
   "source": [
    "#last 5...\n",
    "df.tail()"
   ]
  },
  {
   "cell_type": "code",
   "execution_count": 6,
   "id": "024a4c8b",
   "metadata": {},
   "outputs": [
    {
     "data": {
      "text/plain": [
       "(10692, 13)"
      ]
     },
     "execution_count": 6,
     "metadata": {},
     "output_type": "execute_result"
    }
   ],
   "source": [
    "#shape (no. of rows & columns)...\n",
    "df.shape"
   ]
  },
  {
   "cell_type": "code",
   "execution_count": 7,
   "id": "6aaf87b6",
   "metadata": {},
   "outputs": [
    {
     "data": {
      "text/html": [
       "<div>\n",
       "<style scoped>\n",
       "    .dataframe tbody tr th:only-of-type {\n",
       "        vertical-align: middle;\n",
       "    }\n",
       "\n",
       "    .dataframe tbody tr th {\n",
       "        vertical-align: top;\n",
       "    }\n",
       "\n",
       "    .dataframe thead th {\n",
       "        text-align: right;\n",
       "    }\n",
       "</style>\n",
       "<table border=\"1\" class=\"dataframe\">\n",
       "  <thead>\n",
       "    <tr style=\"text-align: right;\">\n",
       "      <th></th>\n",
       "      <th>area</th>\n",
       "      <th>rooms</th>\n",
       "      <th>bathroom</th>\n",
       "      <th>parking spaces</th>\n",
       "      <th>floor</th>\n",
       "      <th>hoa (R$)</th>\n",
       "      <th>rent amount (R$)</th>\n",
       "      <th>property tax (R$)</th>\n",
       "      <th>fire insurance (R$)</th>\n",
       "      <th>total (R$)</th>\n",
       "    </tr>\n",
       "  </thead>\n",
       "  <tbody>\n",
       "    <tr>\n",
       "      <th>count</th>\n",
       "      <td>10692.000000</td>\n",
       "      <td>10692.000000</td>\n",
       "      <td>10692.000000</td>\n",
       "      <td>10692.000000</td>\n",
       "      <td>10692.000000</td>\n",
       "      <td>1.069200e+04</td>\n",
       "      <td>10692.000000</td>\n",
       "      <td>10692.000000</td>\n",
       "      <td>10692.000000</td>\n",
       "      <td>1.069200e+04</td>\n",
       "    </tr>\n",
       "    <tr>\n",
       "      <th>mean</th>\n",
       "      <td>149.217920</td>\n",
       "      <td>2.506079</td>\n",
       "      <td>2.236813</td>\n",
       "      <td>1.609147</td>\n",
       "      <td>5.067995</td>\n",
       "      <td>1.174022e+03</td>\n",
       "      <td>3896.247194</td>\n",
       "      <td>366.704358</td>\n",
       "      <td>53.300879</td>\n",
       "      <td>5.490487e+03</td>\n",
       "    </tr>\n",
       "    <tr>\n",
       "      <th>std</th>\n",
       "      <td>537.016942</td>\n",
       "      <td>1.171266</td>\n",
       "      <td>1.407198</td>\n",
       "      <td>1.589521</td>\n",
       "      <td>6.069050</td>\n",
       "      <td>1.559231e+04</td>\n",
       "      <td>3408.545518</td>\n",
       "      <td>3107.832321</td>\n",
       "      <td>47.768031</td>\n",
       "      <td>1.648473e+04</td>\n",
       "    </tr>\n",
       "    <tr>\n",
       "      <th>min</th>\n",
       "      <td>11.000000</td>\n",
       "      <td>1.000000</td>\n",
       "      <td>1.000000</td>\n",
       "      <td>0.000000</td>\n",
       "      <td>0.000000</td>\n",
       "      <td>0.000000e+00</td>\n",
       "      <td>450.000000</td>\n",
       "      <td>0.000000</td>\n",
       "      <td>3.000000</td>\n",
       "      <td>4.990000e+02</td>\n",
       "    </tr>\n",
       "    <tr>\n",
       "      <th>25%</th>\n",
       "      <td>56.000000</td>\n",
       "      <td>2.000000</td>\n",
       "      <td>1.000000</td>\n",
       "      <td>0.000000</td>\n",
       "      <td>1.000000</td>\n",
       "      <td>1.700000e+02</td>\n",
       "      <td>1530.000000</td>\n",
       "      <td>38.000000</td>\n",
       "      <td>21.000000</td>\n",
       "      <td>2.061750e+03</td>\n",
       "    </tr>\n",
       "    <tr>\n",
       "      <th>50%</th>\n",
       "      <td>90.000000</td>\n",
       "      <td>2.000000</td>\n",
       "      <td>2.000000</td>\n",
       "      <td>1.000000</td>\n",
       "      <td>3.000000</td>\n",
       "      <td>5.600000e+02</td>\n",
       "      <td>2661.000000</td>\n",
       "      <td>125.000000</td>\n",
       "      <td>36.000000</td>\n",
       "      <td>3.581500e+03</td>\n",
       "    </tr>\n",
       "    <tr>\n",
       "      <th>75%</th>\n",
       "      <td>182.000000</td>\n",
       "      <td>3.000000</td>\n",
       "      <td>3.000000</td>\n",
       "      <td>2.000000</td>\n",
       "      <td>8.000000</td>\n",
       "      <td>1.237500e+03</td>\n",
       "      <td>5000.000000</td>\n",
       "      <td>375.000000</td>\n",
       "      <td>68.000000</td>\n",
       "      <td>6.768000e+03</td>\n",
       "    </tr>\n",
       "    <tr>\n",
       "      <th>max</th>\n",
       "      <td>46335.000000</td>\n",
       "      <td>13.000000</td>\n",
       "      <td>10.000000</td>\n",
       "      <td>12.000000</td>\n",
       "      <td>301.000000</td>\n",
       "      <td>1.117000e+06</td>\n",
       "      <td>45000.000000</td>\n",
       "      <td>313700.000000</td>\n",
       "      <td>677.000000</td>\n",
       "      <td>1.120000e+06</td>\n",
       "    </tr>\n",
       "  </tbody>\n",
       "</table>\n",
       "</div>"
      ],
      "text/plain": [
       "               area         rooms      bathroom  parking spaces         floor  \\\n",
       "count  10692.000000  10692.000000  10692.000000    10692.000000  10692.000000   \n",
       "mean     149.217920      2.506079      2.236813        1.609147      5.067995   \n",
       "std      537.016942      1.171266      1.407198        1.589521      6.069050   \n",
       "min       11.000000      1.000000      1.000000        0.000000      0.000000   \n",
       "25%       56.000000      2.000000      1.000000        0.000000      1.000000   \n",
       "50%       90.000000      2.000000      2.000000        1.000000      3.000000   \n",
       "75%      182.000000      3.000000      3.000000        2.000000      8.000000   \n",
       "max    46335.000000     13.000000     10.000000       12.000000    301.000000   \n",
       "\n",
       "           hoa (R$)  rent amount (R$)  property tax (R$)  fire insurance (R$)  \\\n",
       "count  1.069200e+04      10692.000000       10692.000000         10692.000000   \n",
       "mean   1.174022e+03       3896.247194         366.704358            53.300879   \n",
       "std    1.559231e+04       3408.545518        3107.832321            47.768031   \n",
       "min    0.000000e+00        450.000000           0.000000             3.000000   \n",
       "25%    1.700000e+02       1530.000000          38.000000            21.000000   \n",
       "50%    5.600000e+02       2661.000000         125.000000            36.000000   \n",
       "75%    1.237500e+03       5000.000000         375.000000            68.000000   \n",
       "max    1.117000e+06      45000.000000      313700.000000           677.000000   \n",
       "\n",
       "         total (R$)  \n",
       "count  1.069200e+04  \n",
       "mean   5.490487e+03  \n",
       "std    1.648473e+04  \n",
       "min    4.990000e+02  \n",
       "25%    2.061750e+03  \n",
       "50%    3.581500e+03  \n",
       "75%    6.768000e+03  \n",
       "max    1.120000e+06  "
      ]
     },
     "execution_count": 7,
     "metadata": {},
     "output_type": "execute_result"
    }
   ],
   "source": [
    "#extracting the statistical information/description...\n",
    "df.describe()"
   ]
  },
  {
   "cell_type": "code",
   "execution_count": 8,
   "id": "07cac926",
   "metadata": {},
   "outputs": [
    {
     "name": "stdout",
     "output_type": "stream",
     "text": [
      "<class 'pandas.core.frame.DataFrame'>\n",
      "RangeIndex: 10692 entries, 0 to 10691\n",
      "Data columns (total 13 columns):\n",
      " #   Column               Non-Null Count  Dtype \n",
      "---  ------               --------------  ----- \n",
      " 0   city                 10692 non-null  object\n",
      " 1   area                 10692 non-null  int64 \n",
      " 2   rooms                10692 non-null  int64 \n",
      " 3   bathroom             10692 non-null  int64 \n",
      " 4   parking spaces       10692 non-null  int64 \n",
      " 5   floor                10692 non-null  int64 \n",
      " 6   animal               10692 non-null  object\n",
      " 7   furniture            10692 non-null  object\n",
      " 8   hoa (R$)             10692 non-null  int64 \n",
      " 9   rent amount (R$)     10692 non-null  int64 \n",
      " 10  property tax (R$)    10692 non-null  int64 \n",
      " 11  fire insurance (R$)  10692 non-null  int64 \n",
      " 12  total (R$)           10692 non-null  int64 \n",
      "dtypes: int64(10), object(3)\n",
      "memory usage: 1.1+ MB\n"
     ]
    }
   ],
   "source": [
    "#extracting the inside information... \n",
    "df.info()"
   ]
  },
  {
   "cell_type": "code",
   "execution_count": 9,
   "id": "316083bc",
   "metadata": {},
   "outputs": [
    {
     "data": {
      "text/plain": [
       "city                   0\n",
       "area                   0\n",
       "rooms                  0\n",
       "bathroom               0\n",
       "parking spaces         0\n",
       "floor                  0\n",
       "animal                 0\n",
       "furniture              0\n",
       "hoa (R$)               0\n",
       "rent amount (R$)       0\n",
       "property tax (R$)      0\n",
       "fire insurance (R$)    0\n",
       "total (R$)             0\n",
       "dtype: int64"
      ]
     },
     "execution_count": 9,
     "metadata": {},
     "output_type": "execute_result"
    }
   ],
   "source": [
    "#checking the null/nan values...\n",
    "df.isnull().sum()\n",
    "#No null/nan values..."
   ]
  },
  {
   "cell_type": "code",
   "execution_count": 10,
   "id": "ed57032b",
   "metadata": {},
   "outputs": [
    {
     "data": {
      "text/plain": [
       "city                   object\n",
       "area                    int64\n",
       "rooms                   int64\n",
       "bathroom                int64\n",
       "parking spaces          int64\n",
       "floor                   int64\n",
       "animal                 object\n",
       "furniture              object\n",
       "hoa (R$)                int64\n",
       "rent amount (R$)        int64\n",
       "property tax (R$)       int64\n",
       "fire insurance (R$)     int64\n",
       "total (R$)              int64\n",
       "dtype: object"
      ]
     },
     "execution_count": 10,
     "metadata": {},
     "output_type": "execute_result"
    }
   ],
   "source": [
    "#checking the data-types [(object(categorical/strings) or numerical]...\n",
    "df.dtypes"
   ]
  },
  {
   "cell_type": "code",
   "execution_count": 11,
   "id": "0bc36445",
   "metadata": {},
   "outputs": [
    {
     "data": {
      "text/plain": [
       "Index(['city', 'area', 'rooms', 'bathroom', 'parking spaces', 'floor',\n",
       "       'animal', 'furniture', 'hoa (R$)', 'rent amount (R$)',\n",
       "       'property tax (R$)', 'fire insurance (R$)', 'total (R$)'],\n",
       "      dtype='object')"
      ]
     },
     "execution_count": 11,
     "metadata": {},
     "output_type": "execute_result"
    }
   ],
   "source": [
    "#extracting column names...\n",
    "df.columns"
   ]
  },
  {
   "cell_type": "code",
   "execution_count": 194,
   "id": "9412fb50",
   "metadata": {},
   "outputs": [],
   "source": [
    "#Seprating categorical and continuous variables...\n",
    "\n",
    "def seprate_data_types(df):\n",
    "    \n",
    "    categorical = []\n",
    "    continuous = []\n",
    "    \n",
    "    for column in df.columns: \n",
    "        \n",
    "        if df[column].nunique() < 6:     \n",
    "            categorical.append(column)\n",
    "            \n",
    "        else:\n",
    "            continuous.append(column)\n",
    "            \n",
    "    return categorical, continuous \n",
    "\n",
    "categorical, continuous = seprate_data_types(df)       "
   ]
  },
  {
   "cell_type": "code",
   "execution_count": 195,
   "id": "7974a1a7",
   "metadata": {
    "scrolled": true
   },
   "outputs": [
    {
     "name": "stdout",
     "output_type": "stream",
     "text": [
      "CATEGORICAL    CONTINUOUS\n",
      "-------------  -------------------\n",
      "city           area\n",
      "animal         rooms\n",
      "furniture      bathroom\n",
      "               parking spaces\n",
      "               floor\n",
      "               hoa (R$)\n",
      "               rent amount (R$)\n",
      "               property tax (R$)\n",
      "               fire insurance (R$)\n",
      "               total (R$)\n"
     ]
    }
   ],
   "source": [
    "#table=|categorical|countinuous|\n",
    "#creating a table...\n",
    "\n",
    "print(tab\n",
    "        ({\"Categorical\":categorical,\n",
    "                \"Continuous\":continuous},\n",
    "                                        headers=[\"CATEGORICAL\",\n",
    "                                                 \"CONTINUOUS\"]))"
   ]
  },
  {
   "cell_type": "markdown",
   "id": "db0e7fc2",
   "metadata": {},
   "source": [
    "# ---------------------------------------------------------------------------------------------------------------"
   ]
  },
  {
   "cell_type": "markdown",
   "id": "30d7871d",
   "metadata": {},
   "source": [
    "## LEVEL 1 Analysis:"
   ]
  },
  {
   "cell_type": "markdown",
   "id": "99fc93c7",
   "metadata": {},
   "source": [
    "# $Univariate \\ Analysis \\$"
   ]
  },
  {
   "cell_type": "code",
   "execution_count": 19,
   "id": "c45c378f",
   "metadata": {},
   "outputs": [],
   "source": [
    "#Categorical column/data information extracting user-defined function...\n",
    "\n",
    "def cat_info(col):\n",
    "    \n",
    "        #unique() returns the unique values in the column...\n",
    "        print(f\"Unique values in {col} : {df[col].unique()}\")\n",
    "        \n",
    "        #mode() returns the mode(most recurring value (index[0])) of the column...\n",
    "        print(f\"Mode of {col} : {df[col].mode()[0]}\")\n",
    "        \n",
    "        #isnull().sum() counts the number of null in dataframe...\n",
    "        print(f\"Number of missing values in {col} : {df[col].isnull().sum()}\")\n",
    "        \n",
    "        #`checking if null values are present...\n",
    "        if df[col].isnull().sum() > 0:\n",
    "            \n",
    "            print(f\"\\nThere are null values in the {col} column\")"
   ]
  },
  {
   "cell_type": "code",
   "execution_count": 197,
   "id": "3aedc6f5",
   "metadata": {},
   "outputs": [],
   "source": [
    "#User defined function for histogram...\n",
    "def histplot(col):\n",
    "    \n",
    "    fig, ax = plt.subplots()\n",
    "    \n",
    "    ax = sns.countplot(x = df[col])\n",
    "\n",
    "    for bar in ax.patches:\n",
    "    \n",
    "        percentage = f\"{round(bar.get_height() /len(df), 2)}%\" \n",
    "    \n",
    "        x = bar.get_x() + bar.get_width() /2\n",
    "    \n",
    "        y = bar.get_height()   \n",
    "    \n",
    "        ax.annotate(percentage, (x, y), va = \"bottom\", ha =\"center\" )\n",
    "        #ax.annotate(percentage, (x, y), va = \"top\", ha =\"center\" )\n",
    "           \n",
    "plt.show()"
   ]
  },
  {
   "cell_type": "code",
   "execution_count": 231,
   "id": "faff5e6d",
   "metadata": {},
   "outputs": [],
   "source": [
    "def box_hist(col):\n",
    "\n",
    "    fig, ax = plt.subplots(1, 2, figsize= (20, 7))\n",
    "\n",
    "    sns.histplot(x = df[col], ax =ax[1], color = \"m\") \n",
    "\n",
    "    sns.boxplot(x = df[col], ax = ax[0], color = \"g\") \n",
    "\n",
    "    plt.show()"
   ]
  },
  {
   "cell_type": "code",
   "execution_count": 196,
   "id": "c7613575",
   "metadata": {},
   "outputs": [
    {
     "name": "stdout",
     "output_type": "stream",
     "text": [
      "CATEGORICAL    CONTINUOUS\n",
      "-------------  -------------------\n",
      "city           area\n",
      "animal         rooms\n",
      "furniture      bathroom\n",
      "               parking spaces\n",
      "               floor\n",
      "               hoa (R$)\n",
      "               rent amount (R$)\n",
      "               property tax (R$)\n",
      "               fire insurance (R$)\n",
      "               total (R$)\n"
     ]
    }
   ],
   "source": [
    "print(tab\n",
    "        ({\"Categorical\":categorical,\n",
    "                \"Continuous\":continuous},\n",
    "                                        headers=[\"CATEGORICAL\",\n",
    "                                                 \"CONTINUOUS\"]))"
   ]
  },
  {
   "cell_type": "markdown",
   "id": "e726ddd0",
   "metadata": {},
   "source": [
    "## Analysis of categorical data:"
   ]
  },
  {
   "cell_type": "markdown",
   "id": "10d24441",
   "metadata": {},
   "source": [
    "## 1.city"
   ]
  },
  {
   "cell_type": "code",
   "execution_count": 21,
   "id": "8e0bd375",
   "metadata": {},
   "outputs": [
    {
     "name": "stdout",
     "output_type": "stream",
     "text": [
      "Unique values in city : ['São Paulo' 'Porto Alegre' 'Rio de Janeiro' 'Campinas' 'Belo Horizonte']\n",
      "Mode of city : São Paulo\n",
      "Number of missing values in city : 0\n"
     ]
    }
   ],
   "source": [
    "cat_info(\"city\")"
   ]
  },
  {
   "cell_type": "code",
   "execution_count": 105,
   "id": "c6aba765",
   "metadata": {},
   "outputs": [
    {
     "data": {
      "image/png": "[encoded data removed]",
      "text/plain": [
       "<Figure size 576x288 with 1 Axes>"
      ]
     },
     "metadata": {
      "needs_background": "light"
     },
     "output_type": "display_data"
    }
   ],
   "source": [
    "histplot(\"city\")"
   ]
  },
  {
   "cell_type": "markdown",
   "id": "513034eb",
   "metadata": {},
   "source": [
    "##### City overview ^"
   ]
  },
  {
   "cell_type": "markdown",
   "id": "53afcb14",
   "metadata": {},
   "source": [
    "##### From the above diagramatical representation we can notice that \"Sau Paula\" city has highest proportion of houses i.e; 55%  compared to the other cities and, the least proportion of houses are of \"Campinas\" city."
   ]
  },
  {
   "cell_type": "markdown",
   "id": "4ab35ac3",
   "metadata": {},
   "source": [
    "## 2.Animal"
   ]
  },
  {
   "cell_type": "code",
   "execution_count": 87,
   "id": "ce46bf44",
   "metadata": {},
   "outputs": [
    {
     "name": "stdout",
     "output_type": "stream",
     "text": [
      "Unique values in animal : ['acept' 'not acept']\n",
      "Mode of animal : acept\n",
      "Number of missing values in animal : 0\n"
     ]
    }
   ],
   "source": [
    "cat_info(\"animal\")"
   ]
  },
  {
   "cell_type": "code",
   "execution_count": 106,
   "id": "8199f453",
   "metadata": {},
   "outputs": [
    {
     "data": {
      "image/png": "[encoded data removed]",
      "text/plain": [
       "<Figure size 576x288 with 1 Axes>"
      ]
     },
     "metadata": {
      "needs_background": "light"
     },
     "output_type": "display_data"
    }
   ],
   "source": [
    "histplot(\"animal\")"
   ]
  },
  {
   "cell_type": "code",
   "execution_count": 166,
   "id": "fbfd4063",
   "metadata": {},
   "outputs": [
    {
     "data": {
      "image/png": "[encoded data removed]",
      "text/plain": [
       "<Figure size 1080x504 with 1 Axes>"
      ]
     },
     "metadata": {},
     "output_type": "display_data"
    }
   ],
   "source": [
    "fig, ax = plt.subplots( figsize = (15, 7))\n",
    " \n",
    "percentage = df[\"animal\"].value_counts()\n",
    "\n",
    "plt.pie(percentage,explode=(0.1,0.1), autopct= \"%0.2f%%\")  \n",
    "\n",
    "plt.show()"
   ]
  },
  {
   "cell_type": "markdown",
   "id": "3a1702f9",
   "metadata": {},
   "source": [
    "##### Here from the above two represented diagrams we can notice that the highest animal allowance is observed in Brazil  i.e;  77.78%"
   ]
  },
  {
   "cell_type": "markdown",
   "id": "c6002715",
   "metadata": {},
   "source": [
    "## 3.Furniture"
   ]
  },
  {
   "cell_type": "code",
   "execution_count": 88,
   "id": "f2362bc1",
   "metadata": {},
   "outputs": [
    {
     "name": "stdout",
     "output_type": "stream",
     "text": [
      "Unique values in furniture : ['furnished' 'not furnished']\n",
      "Mode of furniture : not furnished\n",
      "Number of missing values in furniture : 0\n"
     ]
    }
   ],
   "source": [
    "cat_info(\"furniture\")"
   ]
  },
  {
   "cell_type": "code",
   "execution_count": 89,
   "id": "d6788510",
   "metadata": {},
   "outputs": [
    {
     "data": {
      "image/png": "[encoded data removed]",
      "text/plain": [
       "<Figure size 576x288 with 1 Axes>"
      ]
     },
     "metadata": {
      "needs_background": "light"
     },
     "output_type": "display_data"
    }
   ],
   "source": [
    "histplot(\"furniture\")"
   ]
  },
  {
   "cell_type": "code",
   "execution_count": 167,
   "id": "54c2ba3c",
   "metadata": {},
   "outputs": [
    {
     "data": {
      "image/png": "[encoded data removed]",
      "text/plain": [
       "<Figure size 1080x504 with 1 Axes>"
      ]
     },
     "metadata": {},
     "output_type": "display_data"
    }
   ],
   "source": [
    "fig, ax = plt.subplots( figsize = (15, 7))\n",
    " \n",
    "percentage = df[\"furniture\"].value_counts()\n",
    "\n",
    "plt.pie(percentage,explode=(0.1,0.1), autopct= \"%0.2f%%\")  \n",
    "\n",
    "plt.show()"
   ]
  },
  {
   "cell_type": "markdown",
   "id": "5dd31d18",
   "metadata": {},
   "source": [
    "##### Here from the above two diagramatical demonstrations we can notice that the highest proportion houses in Brazil are un-furnished i.e;  75.63%"
   ]
  },
  {
   "cell_type": "markdown",
   "id": "afb1d190",
   "metadata": {},
   "source": [
    "## Analysis of continuous/numerical data:"
   ]
  },
  {
   "cell_type": "code",
   "execution_count": 203,
   "id": "152898a5",
   "metadata": {},
   "outputs": [],
   "source": [
    "#Numerical column/data infoormation extracting user-defined function...\n",
    "\n",
    "def num_info(col):\n",
    "    print(f\"The Mean of the {col} : {df[col].mean()}\")\n",
    "    print(f\"The Median of the {col} : {df[col].median()}\")\n",
    "    print(f\"The Mode of the {col} : {df[col].mode()[0]}\")\n",
    "    print(f\"The Standard deviation of the {col} : {df[col].std()}\")\n",
    "    print(f\"Number of missing values in the {col} : {df[col].isnull().sum()}\")"
   ]
  },
  {
   "cell_type": "code",
   "execution_count": 206,
   "id": "11535c32",
   "metadata": {},
   "outputs": [],
   "source": [
    "def box_hist(col):\n",
    "\n",
    "    fig, ax = plt.subplots(1, 2, figsize= (20, 7))\n",
    "\n",
    "    sns.histplot(x = df[col], ax =ax[1], color = \"m\") \n",
    "\n",
    "    sns.boxplot(x = df[col], ax = ax[0], color = \"g\") \n",
    "\n",
    "    plt.show()"
   ]
  },
  {
   "cell_type": "markdown",
   "id": "b0f0bfcd",
   "metadata": {},
   "source": [
    "## 4.Rooms"
   ]
  },
  {
   "cell_type": "code",
   "execution_count": 202,
   "id": "02185b52",
   "metadata": {},
   "outputs": [
    {
     "name": "stdout",
     "output_type": "stream",
     "text": [
      "The Mean of the rooms : 2.506079311634867\n",
      "The Median of the rooms : 2.0\n",
      "The Mode of the rooms : 3\n",
      "The Standard deviation of the rooms : 1.1712662540982353\n",
      "Number of missing values in the rooms : 0\n"
     ]
    }
   ],
   "source": [
    "num_info(\"rooms\")"
   ]
  },
  {
   "cell_type": "code",
   "execution_count": 98,
   "id": "1199fe17",
   "metadata": {},
   "outputs": [
    {
     "data": {
      "image/png": "[encoded data removed]",
      "text/plain": [
       "<Figure size 576x288 with 1 Axes>"
      ]
     },
     "metadata": {
      "needs_background": "light"
     },
     "output_type": "display_data"
    }
   ],
   "source": [
    "histplot(\"rooms\")"
   ]
  },
  {
   "cell_type": "markdown",
   "id": "61ef5e62",
   "metadata": {},
   "source": [
    "##### From the above diagramatical demonstration we can observe that majority of  the houses in Brazil are having rooms more than 2, and 3 rooms houses are in highest proportion i.e; 31%"
   ]
  },
  {
   "cell_type": "markdown",
   "id": "eb884533",
   "metadata": {},
   "source": [
    "## 5.Bathroom"
   ]
  },
  {
   "cell_type": "code",
   "execution_count": 201,
   "id": "6572e191",
   "metadata": {},
   "outputs": [
    {
     "name": "stdout",
     "output_type": "stream",
     "text": [
      "The Mean of the bathroom : 2.2368125701459034\n",
      "The Median of the bathroom : 2.0\n",
      "The Mode of the bathroom : 1\n",
      "The Standard deviation of the bathroom : 1.4071981983604036\n",
      "Number of missing values in the bathroom : 0\n"
     ]
    }
   ],
   "source": [
    "num_info(\"bathroom\")"
   ]
  },
  {
   "cell_type": "code",
   "execution_count": 99,
   "id": "531881fc",
   "metadata": {},
   "outputs": [
    {
     "data": {
      "image/png": "[encoded data removed]",
      "text/plain": [
       "<Figure size 576x288 with 1 Axes>"
      ]
     },
     "metadata": {
      "needs_background": "light"
     },
     "output_type": "display_data"
    }
   ],
   "source": [
    "histplot(\"bathroom\")"
   ]
  },
  {
   "cell_type": "code",
   "execution_count": 354,
   "id": "478258a2",
   "metadata": {},
   "outputs": [],
   "source": [
    "# mean=int(df['bathroom'].mean())\n",
    "# x=df[df['bathroom']>25000].index\n",
    "# for index in x:\n",
    "#     df.loc[index,'bathroom)']=mean"
   ]
  },
  {
   "cell_type": "markdown",
   "id": "fb9ce118",
   "metadata": {},
   "source": [
    "##### From the above diagramatical demonstration we can observe that majority of  the houses in Brazil are having bathrooms 2 or more than 2 and houses with 1 bathroom are in highest proportion i.e; 40% from that we can estimate that 40% percent of the Brazil houses are of small family or small houses."
   ]
  },
  {
   "cell_type": "markdown",
   "id": "e75e33c2",
   "metadata": {},
   "source": [
    "## 6.Parking Spaces"
   ]
  },
  {
   "cell_type": "code",
   "execution_count": 200,
   "id": "9bddef88",
   "metadata": {},
   "outputs": [
    {
     "name": "stdout",
     "output_type": "stream",
     "text": [
      "The Mean of the parking spaces : 1.6091470258136924\n",
      "The Median of the parking spaces : 1.0\n",
      "The Mode of the parking spaces : 1\n",
      "The Standard deviation of the parking spaces : 1.589520723805543\n",
      "Number of missing values in the parking spaces : 0\n"
     ]
    }
   ],
   "source": [
    "num_info(\"parking spaces\")"
   ]
  },
  {
   "cell_type": "code",
   "execution_count": 100,
   "id": "908c32e7",
   "metadata": {},
   "outputs": [
    {
     "data": {
      "image/png": "[encoded data removed]",
      "text/plain": [
       "<Figure size 576x288 with 1 Axes>"
      ]
     },
     "metadata": {
      "needs_background": "light"
     },
     "output_type": "display_data"
    }
   ],
   "source": [
    "histplot(\"parking spaces\")"
   ]
  },
  {
   "cell_type": "markdown",
   "id": "f47b0cd8",
   "metadata": {},
   "source": [
    "##### Here from the above diagram we can observe that in Brazil there are 25 % of houses with no parking slots, houses with 2 or more than 2 parking slots are of 20-30 % and houses with alteast 1 parking slot are of highest i.e;  34%"
   ]
  },
  {
   "cell_type": "markdown",
   "id": "89cbbe5d",
   "metadata": {},
   "source": [
    "## 7.Floor"
   ]
  },
  {
   "cell_type": "code",
   "execution_count": 267,
   "id": "6cace805",
   "metadata": {},
   "outputs": [
    {
     "name": "stdout",
     "output_type": "stream",
     "text": [
      "The Mean of the floor : 5.0679947624392065\n",
      "The Median of the floor : 3.0\n",
      "The Mode of the floor : 0\n",
      "The Standard deviation of the floor : 6.069050243218473\n",
      "Number of missing values in the floor : 0\n"
     ]
    }
   ],
   "source": [
    "num_info(\"floor\")"
   ]
  },
  {
   "cell_type": "code",
   "execution_count": 268,
   "id": "cb1e5854",
   "metadata": {},
   "outputs": [
    {
     "data": {
      "image/png": "[encoded data removed]",
      "text/plain": [
       "<Figure size 1440x648 with 1 Axes>"
      ]
     },
     "metadata": {
      "needs_background": "light"
     },
     "output_type": "display_data"
    }
   ],
   "source": [
    "fig, ax = plt.subplots(figsize=(20,9))\n",
    "    \n",
    "ax = sns.countplot(x = df[\"floor\"])\n",
    "\n",
    "for bar in ax.patches:\n",
    "    \n",
    "    percentage = f\"{round(bar.get_height() /len(df), 2)}%\" \n",
    "    \n",
    "    x = bar.get_x() + bar.get_width() /2\n",
    "    \n",
    "    y = bar.get_height()   \n",
    "    \n",
    "    ax.annotate(percentage, (x, y), va = \"bottom\", ha =\"center\" )\n",
    "    #ax.annotate(percentage, (x, y), va = \"top\", ha =\"center\" )\n",
    "\n",
    "plt.title(\"Composition of Floors\")    \n",
    "plt.show()"
   ]
  },
  {
   "cell_type": "markdown",
   "id": "aa69561c",
   "metadata": {},
   "source": [
    "##### From the above diagramtical representation we can oserve that in Brazil their are larger proportion of ground level houses i.e; 23% compared to the other houses, which varies from 1-17 floors in Brazil.\n",
    "##### Further the houses of floors more than 10 are very less which are approximately between 1-4%."
   ]
  },
  {
   "cell_type": "markdown",
   "id": "76a72a4f",
   "metadata": {},
   "source": [
    "# ---------------------------------------------------------------------------------------------------------------"
   ]
  },
  {
   "cell_type": "markdown",
   "id": "bf89cabf",
   "metadata": {},
   "source": [
    "# Level 2 Analysis:"
   ]
  },
  {
   "cell_type": "markdown",
   "id": "97755f12",
   "metadata": {},
   "source": [
    "# $Bivariate \\ Analysis \\$"
   ]
  },
  {
   "cell_type": "code",
   "execution_count": 235,
   "id": "8da538db",
   "metadata": {},
   "outputs": [],
   "source": [
    "def cat_cat_hist(col):\n",
    "    fig, ax = plt.subplots(figsize = (10, 7))\n",
    "    sns.countplot(x = (col), hue = \"city\", data = df)\n",
    "    plt.show()"
   ]
  },
  {
   "cell_type": "code",
   "execution_count": 270,
   "id": "606b60cb",
   "metadata": {},
   "outputs": [],
   "source": [
    "def cat_cat_histplot(col):\n",
    "    fig, ax = plt.subplots(figsize = (10, 7))\n",
    "    sns.histplot(data=df,x=(col),hue=\"city\")\n",
    "    plt.show()"
   ]
  },
  {
   "cell_type": "code",
   "execution_count": 236,
   "id": "650840ee",
   "metadata": {},
   "outputs": [],
   "source": [
    "def cn_box_hist(col):  \n",
    "    \n",
    "    fig, ax = plt.subplots(1,                   #for creaing sublots(empty)...\n",
    "                           2,\n",
    "                           figsize = (15, 7))\n",
    "    \n",
    "    sns.histplot(x = df[col],                   #for histogram...\n",
    "                 hue = df[\"city\"],\n",
    "                 ax = ax[0])\n",
    "    \n",
    "    sns.boxplot(y = df[col],                    #for boxplot...\n",
    "                x = df[\"city\"],\n",
    "                ax = ax[1])\n",
    "    \n",
    "    plt.show()"
   ]
  },
  {
   "cell_type": "markdown",
   "id": "c357a785",
   "metadata": {},
   "source": [
    "# 1. City v/s Animal Allowance v/s Furnised and non Furnished houses"
   ]
  },
  {
   "cell_type": "code",
   "execution_count": 349,
   "id": "5e966cca",
   "metadata": {},
   "outputs": [
    {
     "data": {
      "image/png": "[encoded data removed]",
      "text/plain": [
       "<Figure size 1008x360 with 2 Axes>"
      ]
     },
     "metadata": {
      "needs_background": "light"
     },
     "output_type": "display_data"
    }
   ],
   "source": [
    "fig, axes = plt.subplots(1,2, figsize=(14,5))\n",
    "x=x.sort_values()\n",
    "sns.countplot(x='city',\n",
    "              hue='animal',\n",
    "              data=df, \n",
    "              palette='BuGn',\n",
    "              ax=axes[0],);\n",
    "\n",
    "sns.countplot(x='city',\n",
    "              hue='furniture',\n",
    "              data=df,\n",
    "              palette='Blues',\n",
    "              ax=axes[1]);"
   ]
  },
  {
   "cell_type": "markdown",
   "id": "eebf5c9c",
   "metadata": {},
   "source": [
    "##### From the above diagramatical representation It is evident that 50-60% of all houses in Brazil are not furnished and also do accept animals.\n",
    ">As most of the houses are located in Sao Paulo, so most of the furnished as well animal acceptance or allowance can be observed in the same Sao Paulo city only.  \n",
    "Least furnished houses are in Campinas  &  Most furnished houses are in Sao Paulo  \n",
    "Least animal acceptance can be observed in Campinas & high in Sao Paulo"
   ]
  },
  {
   "cell_type": "code",
   "execution_count": 261,
   "id": "b00615b3",
   "metadata": {},
   "outputs": [
    {
     "data": {
      "text/plain": [
       "<AxesSubplot:xlabel='furniture', ylabel='animal'>"
      ]
     },
     "execution_count": 261,
     "metadata": {},
     "output_type": "execute_result"
    },
    {
     "data": {
      "image/png": "[encoded data removed]",
      "text/plain": [
       "<Figure size 576x288 with 2 Axes>"
      ]
     },
     "metadata": {
      "needs_background": "light"
     },
     "output_type": "display_data"
    }
   ],
   "source": [
    "sns.heatmap(df.groupby(['animal','furniture']).size().unstack(),annot=True,fmt=\"d\")\n",
    "\n",
    "#using unstack() pulling out the data of particular indexes in a measureable or undrstandable manner...\n",
    "#using \"annot\" parameter for extracting particular values of animals acceptance and furnished or non furnished houses in Brazil cities...\n",
    "#fmt for strings...String formatting code to use when adding annotations..."
   ]
  },
  {
   "cell_type": "markdown",
   "id": "0ea76954",
   "metadata": {},
   "source": [
    "##### Also from the heat map we can get the complete picture of no. houses in Brazil with animal acceptance and furnished or non furnished..."
   ]
  },
  {
   "cell_type": "markdown",
   "id": "4af471ae",
   "metadata": {},
   "source": [
    "# 2.City v/s Houseowner Association Tax"
   ]
  },
  {
   "cell_type": "code",
   "execution_count": 344,
   "id": "b9d0c6cc",
   "metadata": {},
   "outputs": [
    {
     "data": {
      "image/png": "[encoded data removed]",
      "text/plain": [
       "<Figure size 576x288 with 1 Axes>"
      ]
     },
     "metadata": {
      "needs_background": "light"
     },
     "output_type": "display_data"
    }
   ],
   "source": [
    "#plot the bar graph of city with average HOA tax rate...\n",
    "\n",
    "df.groupby('city')['hoa (R$)'].mean().sort_values().plot.barh(title=\"Citywise Average Associaton Tax\",\n",
    "                                               color=['c','y','grey','r','b'],\n",
    "                                               fontsize=14)\n",
    "plt.xlabel(\"House Association Tax\")\n",
    "plt.ylabel(\"City\")\n",
    "plt.show()"
   ]
  },
  {
   "cell_type": "markdown",
   "id": "4d2c88e0",
   "metadata": {},
   "source": [
    "##### From the above diagramatical illustration we can observe that \"Belo Horizone\" city of Brazil is collecting highest margin of HA Tax rate compared to the other cities and least tax rate is in \"Porto Alegre\" city."
   ]
  },
  {
   "cell_type": "markdown",
   "id": "cd196fc1",
   "metadata": {},
   "source": [
    "# 3. City v/s Rent Amount \n",
    ">To understand the of cost of living in the city"
   ]
  },
  {
   "cell_type": "code",
   "execution_count": 343,
   "id": "9a486536",
   "metadata": {
    "scrolled": true
   },
   "outputs": [
    {
     "data": {
      "image/png": "[encoded data removed]",
      "text/plain": [
       "<Figure size 576x288 with 1 Axes>"
      ]
     },
     "metadata": {
      "needs_background": "light"
     },
     "output_type": "display_data"
    }
   ],
   "source": [
    "#plot the bar graph of city with average HOA tax rate...\n",
    "\n",
    "df.groupby('city')['rent amount (R$)'].mean().sort_values().plot.barh(title=\"Citywise Average Rent\",\n",
    "                                               color=['c','y','g','r','m'],\n",
    "                                               fontsize=14)\n",
    "plt.xlabel(\"Rent\")\n",
    "plt.ylabel(\"City\")\n",
    "plt.show()"
   ]
  },
  {
   "cell_type": "code",
   "execution_count": 5,
   "id": "b866cf51",
   "metadata": {
    "collapsed": true
   },
   "outputs": [
    {
     "name": "stdout",
     "output_type": "stream",
     "text": [
      "Help on function bar in module matplotlib.pyplot:\n",
      "\n",
      "bar(x, height, width=0.8, bottom=None, *, align='center', data=None, **kwargs)\n",
      "    Make a bar plot.\n",
      "    \n",
      "    The bars are positioned at *x* with the given *align*\\ment. Their\n",
      "    dimensions are given by *height* and *width*. The vertical baseline\n",
      "    is *bottom* (default 0).\n",
      "    \n",
      "    Many parameters can take either a single value applying to all bars\n",
      "    or a sequence of values, one for each bar.\n",
      "    \n",
      "    Parameters\n",
      "    ----------\n",
      "    x : float or array-like\n",
      "        The x coordinates of the bars. See also *align* for the\n",
      "        alignment of the bars to the coordinates.\n",
      "    \n",
      "    height : float or array-like\n",
      "        The height(s) of the bars.\n",
      "    \n",
      "    width : float or array-like, default: 0.8\n",
      "        The width(s) of the bars.\n",
      "    \n",
      "    bottom : float or array-like, default: 0\n",
      "        The y coordinate(s) of the bars bases.\n",
      "    \n",
      "    align : {'center', 'edge'}, default: 'center'\n",
      "        Alignment of the bars to the *x* coordinates:\n",
      "    \n",
      "        - 'center': Center the base on the *x* positions.\n",
      "        - 'edge': Align the left edges of the bars with the *x* positions.\n",
      "    \n",
      "        To align the bars on the right edge pass a negative *width* and\n",
      "        ``align='edge'``.\n",
      "    \n",
      "    Returns\n",
      "    -------\n",
      "    `.BarContainer`\n",
      "        Container with all the bars and optionally errorbars.\n",
      "    \n",
      "    Other Parameters\n",
      "    ----------------\n",
      "    color : color or list of color, optional\n",
      "        The colors of the bar faces.\n",
      "    \n",
      "    edgecolor : color or list of color, optional\n",
      "        The colors of the bar edges.\n",
      "    \n",
      "    linewidth : float or array-like, optional\n",
      "        Width of the bar edge(s). If 0, don't draw edges.\n",
      "    \n",
      "    tick_label : str or list of str, optional\n",
      "        The tick labels of the bars.\n",
      "        Default: None (Use default numeric labels.)\n",
      "    \n",
      "    xerr, yerr : float or array-like of shape(N,) or shape(2, N), optional\n",
      "        If not *None*, add horizontal / vertical errorbars to the bar tips.\n",
      "        The values are +/- sizes relative to the data:\n",
      "    \n",
      "        - scalar: symmetric +/- values for all bars\n",
      "        - shape(N,): symmetric +/- values for each bar\n",
      "        - shape(2, N): Separate - and + values for each bar. First row\n",
      "          contains the lower errors, the second row contains the upper\n",
      "          errors.\n",
      "        - *None*: No errorbar. (Default)\n",
      "    \n",
      "        See :doc:`/gallery/statistics/errorbar_features`\n",
      "        for an example on the usage of ``xerr`` and ``yerr``.\n",
      "    \n",
      "    ecolor : color or list of color, default: 'black'\n",
      "        The line color of the errorbars.\n",
      "    \n",
      "    capsize : float, default: :rc:`errorbar.capsize`\n",
      "       The length of the error bar caps in points.\n",
      "    \n",
      "    error_kw : dict, optional\n",
      "        Dictionary of kwargs to be passed to the `~.Axes.errorbar`\n",
      "        method. Values of *ecolor* or *capsize* defined here take\n",
      "        precedence over the independent kwargs.\n",
      "    \n",
      "    log : bool, default: False\n",
      "        If *True*, set the y-axis to be log scale.\n",
      "    \n",
      "    data : indexable object, optional\n",
      "        If given, all parameters also accept a string ``s``, which is\n",
      "        interpreted as ``data[s]`` (unless this raises an exception).\n",
      "    \n",
      "    **kwargs : `.Rectangle` properties\n",
      "    \n",
      "    Properties:\n",
      "        agg_filter: a filter function, which takes a (m, n, 3) float array and a dpi value, and returns a (m, n, 3) array\n",
      "        alpha: scalar or None\n",
      "        angle: unknown\n",
      "        animated: bool\n",
      "        antialiased or aa: bool or None\n",
      "        bounds: (left, bottom, width, height)\n",
      "        capstyle: `.CapStyle` or {'butt', 'projecting', 'round'}\n",
      "        clip_box: `.Bbox`\n",
      "        clip_on: bool\n",
      "        clip_path: Patch or (Path, Transform) or None\n",
      "        color: color\n",
      "        edgecolor or ec: color or None\n",
      "        facecolor or fc: color or None\n",
      "        figure: `.Figure`\n",
      "        fill: bool\n",
      "        gid: str\n",
      "        hatch: {'/', '\\\\', '|', '-', '+', 'x', 'o', 'O', '.', '*'}\n",
      "        height: unknown\n",
      "        in_layout: bool\n",
      "        joinstyle: `.JoinStyle` or {'miter', 'round', 'bevel'}\n",
      "        label: object\n",
      "        linestyle or ls: {'-', '--', '-.', ':', '', (offset, on-off-seq), ...}\n",
      "        linewidth or lw: float or None\n",
      "        path_effects: `.AbstractPathEffect`\n",
      "        picker: None or bool or float or callable\n",
      "        rasterized: bool\n",
      "        sketch_params: (scale: float, length: float, randomness: float)\n",
      "        snap: bool or None\n",
      "        transform: `.Transform`\n",
      "        url: str\n",
      "        visible: bool\n",
      "        width: unknown\n",
      "        x: unknown\n",
      "        xy: (float, float)\n",
      "        y: unknown\n",
      "        zorder: float\n",
      "    \n",
      "    See Also\n",
      "    --------\n",
      "    barh : Plot a horizontal bar plot.\n",
      "    \n",
      "    Notes\n",
      "    -----\n",
      "    Stacked bars can be achieved by passing individual *bottom* values per\n",
      "    bar. See :doc:`/gallery/lines_bars_and_markers/bar_stacked`.\n",
      "\n"
     ]
    }
   ],
   "source": [
    "help(plt.bar)"
   ]
  },
  {
   "cell_type": "code",
   "execution_count": null,
   "id": "2fe3252a",
   "metadata": {},
   "outputs": [],
   "source": []
  },
  {
   "cell_type": "markdown",
   "id": "1c0ca5a6",
   "metadata": {},
   "source": [
    "##### Here from the above diagram we can observe that Sao Paulo city is having higher rental demand for houses wheras Porto and Campinas are having an affordable rental charges compared to Sao Paulo and Belo Horizone"
   ]
  },
  {
   "cell_type": "markdown",
   "id": "45d8177f",
   "metadata": {},
   "source": [
    "# 4. City v/s Property Tax\n",
    ">To understand the cost of living in the city"
   ]
  },
  {
   "cell_type": "code",
   "execution_count": 353,
   "id": "4bfd72ba",
   "metadata": {
    "scrolled": true
   },
   "outputs": [
    {
     "data": {
      "image/png": "[encoded data removed]",
      "text/plain": [
       "<Figure size 576x288 with 1 Axes>"
      ]
     },
     "metadata": {
      "needs_background": "light"
     },
     "output_type": "display_data"
    }
   ],
   "source": [
    "#plot the bar graph of city with average property tax rate...\n",
    "\n",
    "df.groupby('city')['property tax (R$)'].mean().sort_values().plot.barh(title=\"Citywise Average Property Tax\",\n",
    "                                               color=['c','y','grey','r','b'],\n",
    "                                               fontsize=14,)\n",
    "plt.xlabel(\"Property Tax\")\n",
    "plt.ylabel(\"City\")\n",
    "plt.show()"
   ]
  },
  {
   "cell_type": "markdown",
   "id": "3fc10d98",
   "metadata": {},
   "source": [
    "##### Interpretation:\n",
    ">Here from the above illustration we can observe that Sau Paulo city is highest property tax collector compared to other cities as the city has more population (houses) when compared to others"
   ]
  },
  {
   "cell_type": "markdown",
   "id": "8790c702",
   "metadata": {},
   "source": [
    "# 5.City v/s Fire Insurance"
   ]
  },
  {
   "cell_type": "code",
   "execution_count": 352,
   "id": "a803c2fa",
   "metadata": {},
   "outputs": [
    {
     "data": {
      "image/png": "[encoded data removed]",
      "text/plain": [
       "<Figure size 576x288 with 1 Axes>"
      ]
     },
     "metadata": {
      "needs_background": "light"
     },
     "output_type": "display_data"
    }
   ],
   "source": [
    "#plot the bar graph of city with fire insurance...\n",
    "\n",
    "df.groupby('city')['fire insurance (R$)'].mean().sort_values().plot.barh(title=\"Citywise Fire Insurance\",\n",
    "                                               color=['c','y','grey','r','b'],\n",
    "                                               fontsize=14,)\n",
    "plt.xlabel(\"Fire Insurance\")\n",
    "plt.ylabel(\"City\")\n",
    "plt.show()"
   ]
  },
  {
   "cell_type": "markdown",
   "id": "474e53e6",
   "metadata": {},
   "source": [
    "##### Interpretation:\n",
    ">Here in the above ilustration we can estimate that the fire accident prone cities are Sau Paulo and Belo Horinzonte as they have the highest fire insurance collection from the house owners in Brazil.   \n",
    ">Least estimation for fire accident prone city is Campinas and can be safe when compared to other cities."
   ]
  },
  {
   "cell_type": "markdown",
   "id": "dfc92a47",
   "metadata": {},
   "source": [
    "# LEVEL 3"
   ]
  },
  {
   "cell_type": "markdown",
   "id": "ec23d580",
   "metadata": {},
   "source": [
    "# Multi-Variate Analysis:"
   ]
  },
  {
   "cell_type": "markdown",
   "id": "679730e8",
   "metadata": {},
   "source": [
    "##### Choosing an alternate city to relocate:\n",
    ">1.rent based on the no.of rooms and city  ?  \n",
    ">2.which city has the most no. of houses for rent with no. of rooms  ?  \n",
    ">3.which city highest rent on an average basec on no. of rooms ? \n",
    ">4.which city has highest property tax based on area  ?  \n",
    ">5.which city has highest fire insurance based on area and furnished house  ?  \n",
    ">6.Higher the fire insurance with high furnished house  ?  "
   ]
  },
  {
   "cell_type": "code",
   "execution_count": null,
   "id": "6bb0e763",
   "metadata": {},
   "outputs": [],
   "source": []
  },
  {
   "cell_type": "code",
   "execution_count": null,
   "id": "76d0e57c",
   "metadata": {},
   "outputs": [],
   "source": []
  },
  {
   "cell_type": "code",
   "execution_count": null,
   "id": "fe796dc5",
   "metadata": {},
   "outputs": [],
   "source": []
  },
  {
   "cell_type": "code",
   "execution_count": 317,
   "id": "0ecfffc9",
   "metadata": {},
   "outputs": [
    {
     "data": {
      "text/plain": [
       "array(['São Paulo', 'Porto Alegre', 'Rio de Janeiro', 'Campinas',\n",
       "       'Belo Horizonte'], dtype=object)"
      ]
     },
     "execution_count": 317,
     "metadata": {},
     "output_type": "execute_result"
    }
   ],
   "source": [
    "df[\"city\"].unique()"
   ]
  },
  {
   "cell_type": "code",
   "execution_count": 279,
   "id": "c24e7460",
   "metadata": {},
   "outputs": [
    {
     "data": {
      "text/plain": [
       "Index(['city', 'area', 'rooms', 'bathroom', 'parking spaces', 'floor',\n",
       "       'animal', 'furniture', 'hoa (R$)', 'rent amount (R$)',\n",
       "       'property tax (R$)', 'fire insurance (R$)', 'total (R$)'],\n",
       "      dtype='object')"
      ]
     },
     "execution_count": 279,
     "metadata": {},
     "output_type": "execute_result"
    }
   ],
   "source": [
    "df.columns"
   ]
  }
 ],
 "metadata": {
  "kernelspec": {
   "display_name": "Python 3 (ipykernel)",
   "language": "python",
   "name": "python3"
  },
  "language_info": {
   "codemirror_mode": {
    "name": "ipython",
    "version": 3
   },
   "file_extension": ".py",
   "mimetype": "text/x-python",
   "name": "python",
   "nbconvert_exporter": "python",
   "pygments_lexer": "ipython3",
   "version": "3.10.2"
  }
 },
 "nbformat": 4,
 "nbformat_minor": 5
}
