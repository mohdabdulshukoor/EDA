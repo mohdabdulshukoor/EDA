{
 "cells": [
  {
   "cell_type": "code",
   "execution_count": null,
   "id": "9750a5b6",
   "metadata": {},
   "outputs": [],
   "source": []
  },
  {
   "cell_type": "markdown",
   "id": "a08ff102",
   "metadata": {},
   "source": [
    "5. Multivariate Analysis\n",
    "If we analyze data by taking more than two variables/columns into consideration from a dataset, it is known as Multivariate Analysis.\n",
    "Let’s see how ‘Education’, ‘Marital’, and ‘Response_rate’ vary with each other.\n",
    "First, we’ll create a pivot table with the three columns and after that, we’ll create a heatmap.\n",
    "\n",
    "The Pivot table and heatmap looks like this,\n",
    "\n",
    "Based on the Heatmap we can infer that the married people with primary education are less likely to respond positively for the survey and single people with tertiary education are most likely to respond positively to the survey.\n",
    "Similarly, we can plot the graphs for Job vs marital vs response, Education vs poutcome vs response, etc.\n",
    "Conclusion\n",
    "This is how we’ll do Exploratory Data Analysis. Exploratory Data Analysis (EDA) helps us to look beyond the data. The more we explore the data, the more the insights we draw from it. As a data analyst, almost 80% of our time will be spent understanding data and solving various business problems through EDA."
   ]
  },
  {
   "cell_type": "markdown",
   "id": "76e68329",
   "metadata": {},
   "source": [
    "There are null values in our dataset in form of ‘?’ only but pandas are not reading them so we will replace them into np.nan form.\n",
    "\n",
    "for col in auto.columns:  \n",
    "\n",
    ">auto[col].replace({'?':np.nan},inplace=True)\n",
    "\n",
    "auto.head()  "
   ]
  },
  {
   "cell_type": "code",
   "execution_count": null,
   "id": "e3dc1c2d",
   "metadata": {},
   "outputs": [],
   "source": []
  }
 ],
 "metadata": {
  "kernelspec": {
   "display_name": "Python 3 (ipykernel)",
   "language": "python",
   "name": "python3"
  },
  "language_info": {
   "codemirror_mode": {
    "name": "ipython",
    "version": 3
   },
   "file_extension": ".py",
   "mimetype": "text/x-python",
   "name": "python",
   "nbconvert_exporter": "python",
   "pygments_lexer": "ipython3",
   "version": "3.10.2"
  }
 },
 "nbformat": 4,
 "nbformat_minor": 5
}
